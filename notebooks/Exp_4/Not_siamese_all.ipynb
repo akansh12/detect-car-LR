{
 "cells": [
  {
   "cell_type": "markdown",
   "metadata": {},
   "source": []
  },
  {
   "cell_type": "code",
   "execution_count": 1,
   "metadata": {},
   "outputs": [],
   "source": [
    "import torch\n",
    "import torch.nn as nn\n",
    "import torch.nn.functional as F\n",
    "import torchvision.models as models\n",
    "import torchvision.transforms as transforms\n",
    "from torch.utils.data import DataLoader, Dataset\n",
    "from torchvision.datasets import ImageFolder\n",
    "from torchvision.utils import make_grid\n",
    "from torch.utils.tensorboard import SummaryWriter"
   ]
  },
  {
   "cell_type": "markdown",
   "metadata": {},
   "source": [
    "#### Preprocessing the data"
   ]
  },
  {
   "cell_type": "code",
   "execution_count": 2,
   "metadata": {},
   "outputs": [],
   "source": [
    "import numpy as np\n",
    "import pandas as pd\n",
    "import matplotlib.pyplot as plt\n",
    "import cv2\n",
    "import os\n",
    "import glob\n",
    "import rasterio\n",
    "import rioxarray\n",
    "import xarray as xr\n",
    "from PIL import Image\n",
    "import warnings\n",
    "import datetime\n",
    "warnings.filterwarnings('ignore')\n",
    "from sklearn.metrics import roc_auc_score"
   ]
  },
  {
   "cell_type": "code",
   "execution_count": 3,
   "metadata": {},
   "outputs": [],
   "source": [
    "from collections import Counter\n",
    "def check_size_most(img_path):\n",
    "    ''' Finding the most occuring size of the image in the dataset'''\n",
    "    # img_path = glob.glob(img_path)\n",
    "    img_size = []\n",
    "    for i in img_path:\n",
    "        try:\n",
    "            img = rioxarray.open_rasterio(i)\n",
    "            img_size.append(img.shape)\n",
    "        except:\n",
    "            pass\n",
    "    return Counter(img_size).most_common(1).pop()[0]\n",
    "    \n",
    "def clean_data_by_size(img_path):\n",
    "    img_path = glob.glob(img_path, recursive=True)\n",
    "    print(\"Initial size of dataset\", len(img_path))\n",
    "    size= check_size_most(img_path)\n",
    "    print(\"Most common size of the dataset\", size)\n",
    "    #delete the images from img_path list which are not of the most common size\n",
    "    for i in img_path:\n",
    "        try:\n",
    "            img = rioxarray.open_rasterio(i)\n",
    "            if img.shape != size:\n",
    "                img_path.remove(i)\n",
    "        except:\n",
    "            pass\n",
    "    print(\"Final size of dataset(after removing faulty size images)\", len(img_path))\n",
    "    return img_path\n",
    "\n",
    "def clean_data_by_black_pixels(img_path_list):\n",
    "    black_pixels = []\n",
    "    for i in img_path_list:\n",
    "        try:\n",
    "            img = rioxarray.open_rasterio(i)\n",
    "            black_pixels.append(np.count_nonzero(img.data[0:3].transpose(1, 2, 0) == 0))\n",
    "        except:\n",
    "            pass\n",
    "    img_path_median = []\n",
    "    for i in range(len(img_path_list)):\n",
    "        try: \n",
    "            if black_pixels[i] <= np.median(black_pixels):\n",
    "                img_path_median.append(img_path_list[i])\n",
    "        except:\n",
    "            pass\n",
    "    print(\"Final size of dataset(after removing faulty black pixels in images)\", len(img_path_median))\n",
    "    return img_path_median\n",
    "\n",
    "def clean_data_by_white_pixels(img_path_list, threshold=200):\n",
    "    white_pixels = []\n",
    "    for i in img_path_list:\n",
    "        try: \n",
    "            img = rioxarray.open_rasterio(i)\n",
    "            white_pixels.append(np.count_nonzero(img.data[0:3].transpose(1, 2, 0)  >= threshold))\n",
    "        except:\n",
    "            pass\n",
    "\n",
    "    img_path_mean_white = []\n",
    "    for i in range(len(img_path_list)):\n",
    "        try:\n",
    "            if white_pixels[i] <= np.mean(white_pixels):\n",
    "                img_path_mean_white.append(img_path_list[i])\n",
    "        except:\n",
    "            pass\n",
    "    print(\"Final size of dataset(after removing faulty white pixels in images)\", len(img_path_mean_white))\n",
    "    return img_path_mean_white\n",
    "\n",
    "\n",
    "\n",
    "def find_day(date_string):\n",
    "    try:\n",
    "        date = datetime.datetime.strptime(date_string, \"%Y-%m-%d\")\n",
    "        day = date.strftime(\"%A\")\n",
    "        return day\n",
    "    except ValueError:\n",
    "        return \"Invalid date format. Please provide the date in YYYY-MM-DD format.\"\n",
    "    \n",
    "\n",
    "# def label_csv(clean_img_path):\n",
    "#     df = pd.DataFrame(columns=['image_path', 'day'])\n",
    "#     for i in clean_img_path:\n",
    "#         date_in = i.split('/')[-1].split('_')[0]\n",
    "#         year = date_in[0:4]\n",
    "#         month = date_in[4:6]\n",
    "#         day = date_in[6:8]\n",
    "#         date_string = f\"{year}-{month}-{day}\"\n",
    "#         df = df.append({'image_path': i, 'day': find_day(date_string)}, ignore_index=True)\n",
    "#     df['label'] = df['day'].apply(lambda x: 1 if x in ['Sunday'] else 0)\n",
    "#     print(\"Class distribution in dataset:\", df.label.value_counts())\n",
    "#     return df\n",
    "\n",
    "def label_csv(clean_img_path):\n",
    "    df = pd.DataFrame(columns=['image_path', 'day'])\n",
    "    for j in clean_img_path:\n",
    "        for i in j:\n",
    "            date_in = i.split('/')[-1].split('_')[0]\n",
    "            year = date_in[0:4]\n",
    "            month = date_in[4:6]\n",
    "            day = date_in[6:8]\n",
    "            date_string = f\"{year}-{month}-{day}\"\n",
    "            df = df.append({'image_path': i, 'day': find_day(date_string)}, ignore_index=True)\n",
    "    df['label'] = df['day'].apply(lambda x: 1 if x in ['Sunday'] else 0)\n",
    "    print(\"Class distribution in dataset:\", df.label.value_counts())\n",
    "    return df\n",
    "\n",
    "\n",
    "def create_median_image(images_path):\n",
    "\n",
    "    first_img = rioxarray.open_rasterio(images_path[0])\n",
    "\n",
    "    width, height = first_img.data[0:3].transpose(1, 2, 0).shape[0:2]\n",
    "    num_images = len(images_path)\n",
    "\n",
    "    red_values = np.zeros(( width,height, num_images), dtype=np.uint8)\n",
    "    green_values = np.zeros(( width,height, num_images), dtype=np.uint8)\n",
    "    blue_values = np.zeros(( width,height, num_images), dtype=np.uint8)\n",
    "\n",
    "\n",
    "    for i,j in enumerate(images_path):\n",
    "        \n",
    "        try:\n",
    "            img = rioxarray.open_rasterio(j).data[0:3].transpose(1, 2, 0)\n",
    "            red_values[:, :, i], green_values[:, :, i], blue_values[:, :, i] = img[:, :, 0], img[:, :, 1], img[:, :, 2]\n",
    "        except:\n",
    "            pass\n",
    "    \n",
    "    red_median = np.median(red_values, axis=2)\n",
    "    green_median = np.median(green_values, axis=2)\n",
    "    blue_median = np.median(blue_values, axis=2)\n",
    "    img_arr = np.uint8(np.dstack((red_median, green_median, blue_median)))\n",
    "    median_image = Image.fromarray(img_arr)\n",
    "    \n",
    "    return img_arr, median_image\n"
   ]
  },
  {
   "cell_type": "code",
   "execution_count": 4,
   "metadata": {},
   "outputs": [],
   "source": [
    "data_path_list = os.listdir(\"/home/akansh-i2sc/Desktop/Study/detect-car-LR/data/parking_lot_data\")"
   ]
  },
  {
   "cell_type": "code",
   "execution_count": 5,
   "metadata": {},
   "outputs": [],
   "source": [
    "#create a random integer list\n",
    "import random\n",
    "a = [i for i in range(0, len(data_path_list))]\n",
    "random.shuffle(a)\n",
    "train = [data_path_list[i] for i in a[:int(len(a)*0.8)]] #80% of data\n",
    "test = [data_path_list[i] for i in a[int(len(a)*0.8):]] #20% of data"
   ]
  },
  {
   "cell_type": "code",
   "execution_count": 6,
   "metadata": {},
   "outputs": [
    {
     "name": "stdout",
     "output_type": "stream",
     "text": [
      "Initial size of dataset 500\n",
      "Most common size of the dataset (4, 75, 67)\n",
      "Final size of dataset(after removing faulty size images) 498\n",
      "Final size of dataset(after removing faulty black pixels in images) 462\n",
      "Final size of dataset(after removing faulty white pixels in images) 449\n",
      "Initial size of dataset 500\n",
      "Most common size of the dataset (4, 52, 63)\n",
      "Final size of dataset(after removing faulty size images) 500\n",
      "Final size of dataset(after removing faulty black pixels in images) 479\n",
      "Final size of dataset(after removing faulty white pixels in images) 416\n",
      "Initial size of dataset 500\n",
      "Most common size of the dataset (4, 63, 70)\n",
      "Final size of dataset(after removing faulty size images) 499\n",
      "Final size of dataset(after removing faulty black pixels in images) 476\n",
      "Final size of dataset(after removing faulty white pixels in images) 182\n",
      "Initial size of dataset 500\n",
      "Most common size of the dataset (4, 64, 61)\n",
      "Final size of dataset(after removing faulty size images) 500\n",
      "Final size of dataset(after removing faulty black pixels in images) 474\n",
      "Final size of dataset(after removing faulty white pixels in images) 383\n",
      "Initial size of dataset 499\n",
      "Most common size of the dataset (4, 53, 81)\n",
      "Final size of dataset(after removing faulty size images) 498\n",
      "Final size of dataset(after removing faulty black pixels in images) 469\n",
      "Final size of dataset(after removing faulty white pixels in images) 365\n",
      "Initial size of dataset 487\n",
      "Most common size of the dataset (4, 90, 62)\n",
      "Final size of dataset(after removing faulty size images) 483\n",
      "Final size of dataset(after removing faulty black pixels in images) 446\n",
      "Final size of dataset(after removing faulty white pixels in images) 305\n",
      "Initial size of dataset 500\n",
      "Most common size of the dataset (4, 52, 58)\n",
      "Final size of dataset(after removing faulty size images) 499\n",
      "Final size of dataset(after removing faulty black pixels in images) 483\n",
      "Final size of dataset(after removing faulty white pixels in images) 291\n",
      "Initial size of dataset 469\n",
      "Most common size of the dataset (4, 68, 98)\n",
      "Final size of dataset(after removing faulty size images) 468\n",
      "Final size of dataset(after removing faulty black pixels in images) 433\n",
      "Final size of dataset(after removing faulty white pixels in images) 404\n",
      "Initial size of dataset 495\n",
      "Most common size of the dataset (4, 59, 48)\n",
      "Final size of dataset(after removing faulty size images) 495\n",
      "Final size of dataset(after removing faulty black pixels in images) 478\n",
      "Final size of dataset(after removing faulty white pixels in images) 256\n",
      "Initial size of dataset 500\n",
      "Most common size of the dataset (4, 29, 54)\n",
      "Final size of dataset(after removing faulty size images) 500\n",
      "Final size of dataset(after removing faulty black pixels in images) 485\n",
      "Final size of dataset(after removing faulty white pixels in images) 407\n",
      "Initial size of dataset 496\n",
      "Most common size of the dataset (4, 52, 54)\n",
      "Final size of dataset(after removing faulty size images) 495\n",
      "Final size of dataset(after removing faulty black pixels in images) 467\n",
      "Final size of dataset(after removing faulty white pixels in images) 322\n",
      "Initial size of dataset 500\n",
      "Most common size of the dataset (4, 41, 55)\n",
      "Final size of dataset(after removing faulty size images) 499\n",
      "Final size of dataset(after removing faulty black pixels in images) 484\n",
      "Final size of dataset(after removing faulty white pixels in images) 369\n",
      "Initial size of dataset 500\n",
      "Most common size of the dataset (4, 37, 85)\n",
      "Final size of dataset(after removing faulty size images) 499\n",
      "Final size of dataset(after removing faulty black pixels in images) 474\n",
      "Final size of dataset(after removing faulty white pixels in images) 294\n",
      "Initial size of dataset 500\n",
      "Most common size of the dataset (4, 51, 56)\n",
      "Final size of dataset(after removing faulty size images) 500\n",
      "Final size of dataset(after removing faulty black pixels in images) 479\n",
      "Final size of dataset(after removing faulty white pixels in images) 347\n",
      "Initial size of dataset 500\n",
      "Most common size of the dataset (4, 123, 39)\n",
      "Final size of dataset(after removing faulty size images) 497\n",
      "Final size of dataset(after removing faulty black pixels in images) 448\n",
      "Final size of dataset(after removing faulty white pixels in images) 276\n",
      "Initial size of dataset 500\n",
      "Most common size of the dataset (4, 35, 80)\n",
      "Final size of dataset(after removing faulty size images) 499\n",
      "Final size of dataset(after removing faulty black pixels in images) 480\n",
      "Final size of dataset(after removing faulty white pixels in images) 184\n",
      "Initial size of dataset 488\n",
      "Most common size of the dataset (4, 68, 58)\n",
      "Final size of dataset(after removing faulty size images) 487\n",
      "Final size of dataset(after removing faulty black pixels in images) 472\n",
      "Final size of dataset(after removing faulty white pixels in images) 235\n",
      "Initial size of dataset 500\n",
      "Most common size of the dataset (4, 67, 69)\n",
      "Final size of dataset(after removing faulty size images) 500\n",
      "Final size of dataset(after removing faulty black pixels in images) 465\n",
      "Final size of dataset(after removing faulty white pixels in images) 392\n",
      "Initial size of dataset 500\n",
      "Most common size of the dataset (4, 72, 56)\n",
      "Final size of dataset(after removing faulty size images) 498\n",
      "Final size of dataset(after removing faulty black pixels in images) 462\n",
      "Final size of dataset(after removing faulty white pixels in images) 360\n",
      "Initial size of dataset 500\n",
      "Most common size of the dataset (4, 42, 89)\n",
      "Final size of dataset(after removing faulty size images) 500\n",
      "Final size of dataset(after removing faulty black pixels in images) 464\n",
      "Final size of dataset(after removing faulty white pixels in images) 205\n",
      "Initial size of dataset 500\n",
      "Most common size of the dataset (4, 73, 80)\n",
      "Final size of dataset(after removing faulty size images) 498\n",
      "Final size of dataset(after removing faulty black pixels in images) 458\n",
      "Final size of dataset(after removing faulty white pixels in images) 260\n",
      "Initial size of dataset 490\n",
      "Most common size of the dataset (4, 73, 49)\n",
      "Final size of dataset(after removing faulty size images) 490\n",
      "Final size of dataset(after removing faulty black pixels in images) 463\n",
      "Final size of dataset(after removing faulty white pixels in images) 385\n",
      "Initial size of dataset 500\n",
      "Most common size of the dataset (4, 38, 74)\n",
      "Final size of dataset(after removing faulty size images) 500\n",
      "Final size of dataset(after removing faulty black pixels in images) 486\n",
      "Final size of dataset(after removing faulty white pixels in images) 355\n",
      "Initial size of dataset 500\n",
      "Most common size of the dataset (4, 74, 61)\n",
      "Final size of dataset(after removing faulty size images) 500\n",
      "Final size of dataset(after removing faulty black pixels in images) 475\n",
      "Final size of dataset(after removing faulty white pixels in images) 422\n",
      "Initial size of dataset 500\n",
      "Most common size of the dataset (4, 73, 80)\n",
      "Final size of dataset(after removing faulty size images) 500\n",
      "Final size of dataset(after removing faulty black pixels in images) 455\n",
      "Final size of dataset(after removing faulty white pixels in images) 347\n",
      "Initial size of dataset 483\n",
      "Most common size of the dataset (4, 40, 43)\n",
      "Final size of dataset(after removing faulty size images) 483\n",
      "Final size of dataset(after removing faulty black pixels in images) 466\n",
      "Final size of dataset(after removing faulty white pixels in images) 448\n",
      "Initial size of dataset 500\n",
      "Most common size of the dataset (4, 82, 48)\n",
      "Final size of dataset(after removing faulty size images) 499\n",
      "Final size of dataset(after removing faulty black pixels in images) 466\n",
      "Final size of dataset(after removing faulty white pixels in images) 366\n",
      "Initial size of dataset 500\n",
      "Most common size of the dataset (4, 39, 84)\n",
      "Final size of dataset(after removing faulty size images) 500\n",
      "Final size of dataset(after removing faulty black pixels in images) 484\n",
      "Final size of dataset(after removing faulty white pixels in images) 422\n",
      "Initial size of dataset 500\n",
      "Most common size of the dataset (4, 48, 69)\n",
      "Final size of dataset(after removing faulty size images) 500\n",
      "Final size of dataset(after removing faulty black pixels in images) 470\n",
      "Final size of dataset(after removing faulty white pixels in images) 417\n",
      "Initial size of dataset 471\n",
      "Most common size of the dataset (4, 42, 72)\n",
      "Final size of dataset(after removing faulty size images) 470\n",
      "Final size of dataset(after removing faulty black pixels in images) 450\n",
      "Final size of dataset(after removing faulty white pixels in images) 311\n",
      "Initial size of dataset 500\n",
      "Most common size of the dataset (4, 70, 61)\n",
      "Final size of dataset(after removing faulty size images) 499\n",
      "Final size of dataset(after removing faulty black pixels in images) 464\n",
      "Final size of dataset(after removing faulty white pixels in images) 165\n",
      "Initial size of dataset 464\n",
      "Most common size of the dataset (4, 73, 60)\n",
      "Final size of dataset(after removing faulty size images) 464\n",
      "Final size of dataset(after removing faulty black pixels in images) 440\n",
      "Final size of dataset(after removing faulty white pixels in images) 350\n",
      "Initial size of dataset 488\n",
      "Most common size of the dataset (4, 72, 61)\n",
      "Final size of dataset(after removing faulty size images) 487\n",
      "Final size of dataset(after removing faulty black pixels in images) 461\n",
      "Final size of dataset(after removing faulty white pixels in images) 229\n",
      "Initial size of dataset 466\n",
      "Most common size of the dataset (4, 41, 64)\n",
      "Final size of dataset(after removing faulty size images) 465\n",
      "Final size of dataset(after removing faulty black pixels in images) 452\n",
      "Final size of dataset(after removing faulty white pixels in images) 379\n",
      "Initial size of dataset 500\n",
      "Most common size of the dataset (4, 42, 64)\n",
      "Final size of dataset(after removing faulty size images) 498\n",
      "Final size of dataset(after removing faulty black pixels in images) 470\n",
      "Final size of dataset(after removing faulty white pixels in images) 337\n",
      "Initial size of dataset 500\n",
      "Most common size of the dataset (4, 38, 49)\n",
      "Final size of dataset(after removing faulty size images) 498\n",
      "Final size of dataset(after removing faulty black pixels in images) 475\n",
      "Final size of dataset(after removing faulty white pixels in images) 221\n",
      "Initial size of dataset 489\n",
      "Most common size of the dataset (4, 81, 68)\n",
      "Final size of dataset(after removing faulty size images) 488\n",
      "Final size of dataset(after removing faulty black pixels in images) 457\n",
      "Final size of dataset(after removing faulty white pixels in images) 434\n",
      "Initial size of dataset 495\n",
      "Most common size of the dataset (4, 87, 89)\n",
      "Final size of dataset(after removing faulty size images) 491\n",
      "Final size of dataset(after removing faulty black pixels in images) 456\n",
      "Final size of dataset(after removing faulty white pixels in images) 244\n",
      "Initial size of dataset 492\n",
      "Most common size of the dataset (4, 68, 62)\n",
      "Final size of dataset(after removing faulty size images) 492\n",
      "Final size of dataset(after removing faulty black pixels in images) 463\n",
      "Final size of dataset(after removing faulty white pixels in images) 404\n",
      "Initial size of dataset 500\n",
      "Most common size of the dataset (4, 68, 68)\n",
      "Final size of dataset(after removing faulty size images) 498\n",
      "Final size of dataset(after removing faulty black pixels in images) 474\n",
      "Final size of dataset(after removing faulty white pixels in images) 222\n",
      "Initial size of dataset 498\n",
      "Most common size of the dataset (4, 49, 69)\n",
      "Final size of dataset(after removing faulty size images) 498\n",
      "Final size of dataset(after removing faulty black pixels in images) 471\n",
      "Final size of dataset(after removing faulty white pixels in images) 427\n",
      "Initial size of dataset 500\n",
      "Most common size of the dataset (4, 43, 64)\n",
      "Final size of dataset(after removing faulty size images) 500\n",
      "Final size of dataset(after removing faulty black pixels in images) 478\n",
      "Final size of dataset(after removing faulty white pixels in images) 213\n"
     ]
    }
   ],
   "source": [
    "base_path = \"/home/akansh-i2sc/Desktop/Study/detect-car-LR/data/\"\n",
    "train_images_paths = []\n",
    "for i in train:\n",
    "    train_images_paths.append(os.path.join(base_path, i + \"/**/*.tif\"))\n",
    "\n",
    "test_images_paths = []\n",
    "for i in test:\n",
    "    test_images_paths.append(os.path.join(base_path, i + \"/**/*.tif\"))\n",
    "\n",
    "final_train_images_paths = []\n",
    "for i in train_images_paths:\n",
    "    clean_1 = clean_data_by_size(i)\n",
    "    clean_2 = clean_data_by_black_pixels(clean_1)\n",
    "    clean_3 = clean_data_by_white_pixels(clean_2)\n",
    "    final_train_images_paths.append(clean_3)\n",
    "\n",
    "final_test_images_paths = []\n",
    "for i in test_images_paths:\n",
    "    clean_1 = clean_data_by_size(i)\n",
    "    clean_2 = clean_data_by_black_pixels(clean_1)\n",
    "    clean_3 = clean_data_by_white_pixels(clean_2)\n",
    "    final_test_images_paths.append(clean_3)\n"
   ]
  },
  {
   "cell_type": "code",
   "execution_count": 8,
   "metadata": {},
   "outputs": [
    {
     "data": {
      "text/plain": [
       "(-0.5, 63.5, 42.5, -0.5)"
      ]
     },
     "execution_count": 8,
     "metadata": {},
     "output_type": "execute_result"
    },
    {
     "data": {
      "image/png": "[encoded data removed]",
      "text/plain": [
       "<Figure size 1000x1000 with 1 Axes>"
      ]
     },
     "metadata": {},
     "output_type": "display_data"
    }
   ],
   "source": [
    "#plot single random image\n",
    "plt.figure(figsize=(10,10))\n",
    "img = rioxarray.open_rasterio(clean_3[0])\n",
    "plt.imshow(img.data[0:3].transpose(1, 2, 0))\n",
    "plt.axis('off')"
   ]
  },
  {
   "cell_type": "code",
   "execution_count": 10,
   "metadata": {},
   "outputs": [
    {
     "data": {
      "text/plain": [
       "(-0.5, 63.5, 42.5, -0.5)"
      ]
     },
     "execution_count": 10,
     "metadata": {},
     "output_type": "execute_result"
    },
    {
     "data": {
      "image/png": "[encoded data removed]",
      "text/plain": [
       "<Figure size 1000x1000 with 1 Axes>"
      ]
     },
     "metadata": {},
     "output_type": "display_data"
    }
   ],
   "source": [
    "#plot single random image\n",
    "plt.figure(figsize=(10,10))\n",
    "img = rioxarray.open_rasterio(clean_3[47])\n",
    "plt.imshow(img.data[0:3].transpose(1, 2, 0))\n",
    "plt.axis('off')"
   ]
  },
  {
   "cell_type": "code",
   "execution_count": 11,
   "metadata": {},
   "outputs": [
    {
     "data": {
      "image/png": "[encoded data removed]",
      "text/plain": [
       "<Figure size 2000x2000 with 5 Axes>"
      ]
     },
     "metadata": {},
     "output_type": "display_data"
    }
   ],
   "source": [
    "#plot random 5 images from clean_3 list\n",
    "plt.figure(figsize=(20,20))\n",
    "for i in range(5):\n",
    "    plt.subplot(1,5,i+1)\n",
    "    img = rioxarray.open_rasterio(clean_3[i])\n",
    "    plt.imshow(img.data[0:3].transpose(1, 2, 0))\n",
    "    plt.title(f'Time stamp(Days): {i}')\n",
    "    plt.xticks([])\n",
    "    plt.yticks([])\n"
   ]
  },
  {
   "cell_type": "code",
   "execution_count": 12,
   "metadata": {},
   "outputs": [],
   "source": [
    "# plt.figure(figsize=(20,20))\n",
    "# for i in range(len(clean_3)):\n",
    "#     plt.subplot(30,30,i+1)\n",
    "#     img = rioxarray.open_rasterio(clean_3[i])\n",
    "#     plt.imshow(img.data[0:3].transpose(1, 2, 0))\n",
    "#     plt.axis('off')"
   ]
  },
  {
   "cell_type": "markdown",
   "metadata": {},
   "source": [
    "#### Create and save median images"
   ]
  },
  {
   "cell_type": "code",
   "execution_count": 13,
   "metadata": {},
   "outputs": [],
   "source": [
    "median_image, _ = create_median_image(final_train_images_paths[0])\n",
    "path = \"/\"\n",
    "for j in range(len(final_train_images_paths)):\n",
    "    median_image, _ = create_median_image(final_train_images_paths[j])\n",
    "    path = \"/\"\n",
    "    for i in final_train_images_paths[j][0].split('/')[1:-2]:\n",
    "        path = os.path.join(path, i)\n",
    "    np.save(os.path.join(path, 'median_image.npy'), median_image)"
   ]
  },
  {
   "cell_type": "code",
   "execution_count": 14,
   "metadata": {},
   "outputs": [
    {
     "data": {
      "text/plain": [
       "<matplotlib.image.AxesImage at 0x7f26e0434b90>"
      ]
     },
     "execution_count": 14,
     "metadata": {},
     "output_type": "execute_result"
    },
    {
     "data": {
      "image/png": "[encoded data removed]",
      "text/plain": [
       "<Figure size 640x480 with 1 Axes>"
      ]
     },
     "metadata": {},
     "output_type": "display_data"
    }
   ],
   "source": [
    "median_image, _ = create_median_image(final_train_images_paths[0])\n",
    "plt.imshow(median_image)"
   ]
  },
  {
   "cell_type": "code",
   "execution_count": 15,
   "metadata": {},
   "outputs": [
    {
     "data": {
      "text/plain": [
       "<matplotlib.image.AxesImage at 0x7f26e0476d50>"
      ]
     },
     "execution_count": 15,
     "metadata": {},
     "output_type": "execute_result"
    },
    {
     "data": {
      "image/png": "[encoded data removed]",
      "text/plain": [
       "<Figure size 640x480 with 1 Axes>"
      ]
     },
     "metadata": {},
     "output_type": "display_data"
    }
   ],
   "source": [
    "median_image, _ = create_median_image(final_train_images_paths[1])\n",
    "plt.imshow(median_image)"
   ]
  },
  {
   "cell_type": "code",
   "execution_count": 16,
   "metadata": {},
   "outputs": [
    {
     "data": {
      "text/plain": [
       "<matplotlib.image.AxesImage at 0x7f26e0405150>"
      ]
     },
     "execution_count": 16,
     "metadata": {},
     "output_type": "execute_result"
    },
    {
     "data": {
      "image/png": "[encoded data removed]",
      "text/plain": [
       "<Figure size 640x480 with 1 Axes>"
      ]
     },
     "metadata": {},
     "output_type": "display_data"
    }
   ],
   "source": [
    "median_image, _ = create_median_image(final_train_images_paths[2])\n",
    "plt.imshow(median_image)"
   ]
  },
  {
   "cell_type": "code",
   "execution_count": 17,
   "metadata": {},
   "outputs": [
    {
     "data": {
      "text/plain": [
       "<matplotlib.image.AxesImage at 0x7f26e039cb10>"
      ]
     },
     "execution_count": 17,
     "metadata": {},
     "output_type": "execute_result"
    },
    {
     "data": {
      "image/png": "[encoded data removed]",
      "text/plain": [
       "<Figure size 640x480 with 1 Axes>"
      ]
     },
     "metadata": {},
     "output_type": "display_data"
    }
   ],
   "source": [
    "median_image, _ = create_median_image(final_train_images_paths[3])\n",
    "plt.imshow(median_image)"
   ]
  },
  {
   "cell_type": "code",
   "execution_count": 14,
   "metadata": {},
   "outputs": [
    {
     "data": {
      "text/plain": [
       "<matplotlib.image.AxesImage at 0x7f9e488a2710>"
      ]
     },
     "execution_count": 14,
     "metadata": {},
     "output_type": "execute_result"
    },
    {
     "data": {
      "image/png": "[encoded data removed]",
      "text/plain": [
       "<Figure size 640x480 with 1 Axes>"
      ]
     },
     "metadata": {},
     "output_type": "display_data"
    }
   ],
   "source": [
    "median_image, _ = create_median_image(final_train_images_paths[3])\n",
    "plt.imshow(median_image)"
   ]
  },
  {
   "cell_type": "code",
   "execution_count": 18,
   "metadata": {},
   "outputs": [
    {
     "data": {
      "text/plain": [
       "<matplotlib.image.AxesImage at 0x7f27c812be50>"
      ]
     },
     "execution_count": 18,
     "metadata": {},
     "output_type": "execute_result"
    },
    {
     "data": {
      "image/png": "[encoded data removed]",
      "text/plain": [
       "<Figure size 640x480 with 1 Axes>"
      ]
     },
     "metadata": {},
     "output_type": "display_data"
    }
   ],
   "source": [
    "median_image, _ = create_median_image(final_train_images_paths[4])\n",
    "plt.imshow(median_image)"
   ]
  },
  {
   "cell_type": "code",
   "execution_count": 20,
   "metadata": {},
   "outputs": [
    {
     "data": {
      "text/plain": [
       "<matplotlib.image.AxesImage at 0x7f26e1ac1c50>"
      ]
     },
     "execution_count": 20,
     "metadata": {},
     "output_type": "execute_result"
    },
    {
     "data": {
      "image/png": "[encoded data removed]",
      "text/plain": [
       "<Figure size 640x480 with 1 Axes>"
      ]
     },
     "metadata": {},
     "output_type": "display_data"
    }
   ],
   "source": [
    "median_image, _ = create_median_image(final_train_images_paths[5])\n",
    "plt.imshow(median_image)"
   ]
  },
  {
   "cell_type": "code",
   "execution_count": 21,
   "metadata": {},
   "outputs": [
    {
     "data": {
      "text/plain": [
       "<matplotlib.image.AxesImage at 0x7f26e1dd1c50>"
      ]
     },
     "execution_count": 21,
     "metadata": {},
     "output_type": "execute_result"
    },
    {
     "data": {
      "image/png": "[encoded data removed]",
      "text/plain": [
       "<Figure size 640x480 with 1 Axes>"
      ]
     },
     "metadata": {},
     "output_type": "display_data"
    }
   ],
   "source": [
    "median_image, _ = create_median_image(final_train_images_paths[6])\n",
    "plt.imshow(median_image)"
   ]
  },
  {
   "cell_type": "code",
   "execution_count": 22,
   "metadata": {},
   "outputs": [
    {
     "data": {
      "text/plain": [
       "<matplotlib.image.AxesImage at 0x7f26e19d5150>"
      ]
     },
     "execution_count": 22,
     "metadata": {},
     "output_type": "execute_result"
    },
    {
     "data": {
      "image/png": "[encoded data removed]",
      "text/plain": [
       "<Figure size 640x480 with 1 Axes>"
      ]
     },
     "metadata": {},
     "output_type": "display_data"
    }
   ],
   "source": [
    "median_image, _ = create_median_image(final_train_images_paths[7])\n",
    "plt.imshow(median_image)"
   ]
  },
  {
   "cell_type": "code",
   "execution_count": 23,
   "metadata": {},
   "outputs": [
    {
     "data": {
      "text/plain": [
       "<matplotlib.image.AxesImage at 0x7f26e041d150>"
      ]
     },
     "execution_count": 23,
     "metadata": {},
     "output_type": "execute_result"
    },
    {
     "data": {
      "image/png": "[encoded data removed]",
      "text/plain": [
       "<Figure size 640x480 with 1 Axes>"
      ]
     },
     "metadata": {},
     "output_type": "display_data"
    }
   ],
   "source": [
    "median_image, _ = create_median_image(final_train_images_paths[8])\n",
    "plt.imshow(median_image)"
   ]
  },
  {
   "cell_type": "code",
   "execution_count": 24,
   "metadata": {},
   "outputs": [
    {
     "data": {
      "text/plain": [
       "<matplotlib.image.AxesImage at 0x7f26e15dd150>"
      ]
     },
     "execution_count": 24,
     "metadata": {},
     "output_type": "execute_result"
    },
    {
     "data": {
      "image/png": "[encoded data removed]",
      "text/plain": [
       "<Figure size 640x480 with 1 Axes>"
      ]
     },
     "metadata": {},
     "output_type": "display_data"
    }
   ],
   "source": [
    "median_image, _ = create_median_image(final_train_images_paths[9])\n",
    "plt.imshow(median_image)"
   ]
  },
  {
   "cell_type": "code",
   "execution_count": 25,
   "metadata": {},
   "outputs": [
    {
     "data": {
      "text/plain": [
       "<matplotlib.image.AxesImage at 0x7f26e15c5150>"
      ]
     },
     "execution_count": 25,
     "metadata": {},
     "output_type": "execute_result"
    },
    {
     "data": {
      "image/png": "[encoded data removed]",
      "text/plain": [
       "<Figure size 640x480 with 1 Axes>"
      ]
     },
     "metadata": {},
     "output_type": "display_data"
    }
   ],
   "source": [
    "median_image, _ = create_median_image(final_train_images_paths[10])\n",
    "plt.imshow(median_image)"
   ]
  },
  {
   "cell_type": "code",
   "execution_count": 27,
   "metadata": {},
   "outputs": [
    {
     "data": {
      "text/plain": [
       "<matplotlib.image.AxesImage at 0x7f26e0183e50>"
      ]
     },
     "execution_count": 27,
     "metadata": {},
     "output_type": "execute_result"
    },
    {
     "data": {
      "image/png": "[encoded data removed]",
      "text/plain": [
       "<Figure size 640x480 with 1 Axes>"
      ]
     },
     "metadata": {},
     "output_type": "display_data"
    }
   ],
   "source": [
    "median_image, _ = create_median_image(final_train_images_paths[-1])\n",
    "plt.imshow(median_image)"
   ]
  },
  {
   "cell_type": "code",
   "execution_count": 28,
   "metadata": {},
   "outputs": [
    {
     "name": "stdout",
     "output_type": "stream",
     "text": [
      "Class distribution in dataset: 0    9498\n",
      "1    1421\n",
      "Name: label, dtype: int64\n"
     ]
    }
   ],
   "source": [
    "df_train = label_csv(final_train_images_paths)"
   ]
  },
  {
   "cell_type": "code",
   "execution_count": 29,
   "metadata": {},
   "outputs": [],
   "source": [
    "list_to_remove = []\n",
    "for i in df_train.image_path:\n",
    "    try:\n",
    "        a = rioxarray.open_rasterio(i)\n",
    "    except:\n",
    "        list_to_remove.append(i)\n",
    "\n",
    "df_train.image_path == list_to_remove[0]\n",
    "df_train[df_train.image_path == list_to_remove[0]]\n",
    "df_train.drop(df_train[df_train.image_path == list_to_remove[0]].index.values[0], inplace=True)"
   ]
  },
  {
   "cell_type": "code",
   "execution_count": null,
   "metadata": {},
   "outputs": [],
   "source": []
  },
  {
   "cell_type": "code",
   "execution_count": 30,
   "metadata": {},
   "outputs": [
    {
     "data": {
      "text/html": [
       "<div>\n",
       "<style scoped>\n",
       "    .dataframe tbody tr th:only-of-type {\n",
       "        vertical-align: middle;\n",
       "    }\n",
       "\n",
       "    .dataframe tbody tr th {\n",
       "        vertical-align: top;\n",
       "    }\n",
       "\n",
       "    .dataframe thead th {\n",
       "        text-align: right;\n",
       "    }\n",
       "</style>\n",
       "<table border=\"1\" class=\"dataframe\">\n",
       "  <thead>\n",
       "    <tr style=\"text-align: right;\">\n",
       "      <th></th>\n",
       "      <th>image_path</th>\n",
       "      <th>day</th>\n",
       "      <th>label</th>\n",
       "    </tr>\n",
       "  </thead>\n",
       "  <tbody>\n",
       "    <tr>\n",
       "      <th>0</th>\n",
       "      <td>/home/akansh-i2sc/Desktop/Study/detect-car-LR/...</td>\n",
       "      <td>Thursday</td>\n",
       "      <td>0</td>\n",
       "    </tr>\n",
       "    <tr>\n",
       "      <th>1</th>\n",
       "      <td>/home/akansh-i2sc/Desktop/Study/detect-car-LR/...</td>\n",
       "      <td>Sunday</td>\n",
       "      <td>1</td>\n",
       "    </tr>\n",
       "    <tr>\n",
       "      <th>2</th>\n",
       "      <td>/home/akansh-i2sc/Desktop/Study/detect-car-LR/...</td>\n",
       "      <td>Saturday</td>\n",
       "      <td>0</td>\n",
       "    </tr>\n",
       "    <tr>\n",
       "      <th>3</th>\n",
       "      <td>/home/akansh-i2sc/Desktop/Study/detect-car-LR/...</td>\n",
       "      <td>Wednesday</td>\n",
       "      <td>0</td>\n",
       "    </tr>\n",
       "    <tr>\n",
       "      <th>4</th>\n",
       "      <td>/home/akansh-i2sc/Desktop/Study/detect-car-LR/...</td>\n",
       "      <td>Tuesday</td>\n",
       "      <td>0</td>\n",
       "    </tr>\n",
       "  </tbody>\n",
       "</table>\n",
       "</div>"
      ],
      "text/plain": [
       "                                          image_path        day  label\n",
       "0  /home/akansh-i2sc/Desktop/Study/detect-car-LR/...   Thursday      0\n",
       "1  /home/akansh-i2sc/Desktop/Study/detect-car-LR/...     Sunday      1\n",
       "2  /home/akansh-i2sc/Desktop/Study/detect-car-LR/...   Saturday      0\n",
       "3  /home/akansh-i2sc/Desktop/Study/detect-car-LR/...  Wednesday      0\n",
       "4  /home/akansh-i2sc/Desktop/Study/detect-car-LR/...    Tuesday      0"
      ]
     },
     "execution_count": 30,
     "metadata": {},
     "output_type": "execute_result"
    }
   ],
   "source": [
    "df_train.head()"
   ]
  },
  {
   "cell_type": "code",
   "execution_count": 31,
   "metadata": {},
   "outputs": [
    {
     "name": "stdout",
     "output_type": "stream",
     "text": [
      "Class distribution in dataset: 0    2507\n",
      "1     374\n",
      "Name: label, dtype: int64\n"
     ]
    }
   ],
   "source": [
    "df_test = label_csv(final_test_images_paths)"
   ]
  },
  {
   "cell_type": "code",
   "execution_count": 32,
   "metadata": {},
   "outputs": [
    {
     "data": {
      "text/html": [
       "<div>\n",
       "<style scoped>\n",
       "    .dataframe tbody tr th:only-of-type {\n",
       "        vertical-align: middle;\n",
       "    }\n",
       "\n",
       "    .dataframe tbody tr th {\n",
       "        vertical-align: top;\n",
       "    }\n",
       "\n",
       "    .dataframe thead th {\n",
       "        text-align: right;\n",
       "    }\n",
       "</style>\n",
       "<table border=\"1\" class=\"dataframe\">\n",
       "  <thead>\n",
       "    <tr style=\"text-align: right;\">\n",
       "      <th></th>\n",
       "      <th>image_path</th>\n",
       "      <th>day</th>\n",
       "      <th>label</th>\n",
       "    </tr>\n",
       "  </thead>\n",
       "  <tbody>\n",
       "    <tr>\n",
       "      <th>0</th>\n",
       "      <td>/home/akansh-i2sc/Desktop/Study/detect-car-LR/...</td>\n",
       "      <td>Monday</td>\n",
       "      <td>0</td>\n",
       "    </tr>\n",
       "    <tr>\n",
       "      <th>1</th>\n",
       "      <td>/home/akansh-i2sc/Desktop/Study/detect-car-LR/...</td>\n",
       "      <td>Tuesday</td>\n",
       "      <td>0</td>\n",
       "    </tr>\n",
       "    <tr>\n",
       "      <th>2</th>\n",
       "      <td>/home/akansh-i2sc/Desktop/Study/detect-car-LR/...</td>\n",
       "      <td>Friday</td>\n",
       "      <td>0</td>\n",
       "    </tr>\n",
       "    <tr>\n",
       "      <th>3</th>\n",
       "      <td>/home/akansh-i2sc/Desktop/Study/detect-car-LR/...</td>\n",
       "      <td>Wednesday</td>\n",
       "      <td>0</td>\n",
       "    </tr>\n",
       "    <tr>\n",
       "      <th>4</th>\n",
       "      <td>/home/akansh-i2sc/Desktop/Study/detect-car-LR/...</td>\n",
       "      <td>Wednesday</td>\n",
       "      <td>0</td>\n",
       "    </tr>\n",
       "  </tbody>\n",
       "</table>\n",
       "</div>"
      ],
      "text/plain": [
       "                                          image_path        day  label\n",
       "0  /home/akansh-i2sc/Desktop/Study/detect-car-LR/...     Monday      0\n",
       "1  /home/akansh-i2sc/Desktop/Study/detect-car-LR/...    Tuesday      0\n",
       "2  /home/akansh-i2sc/Desktop/Study/detect-car-LR/...     Friday      0\n",
       "3  /home/akansh-i2sc/Desktop/Study/detect-car-LR/...  Wednesday      0\n",
       "4  /home/akansh-i2sc/Desktop/Study/detect-car-LR/...  Wednesday      0"
      ]
     },
     "execution_count": 32,
     "metadata": {},
     "output_type": "execute_result"
    }
   ],
   "source": [
    "df_test.head()"
   ]
  },
  {
   "cell_type": "code",
   "execution_count": null,
   "metadata": {},
   "outputs": [],
   "source": []
  },
  {
   "cell_type": "markdown",
   "metadata": {},
   "source": [
    "#### Custom pytorch dataset loader"
   ]
  },
  {
   "cell_type": "code",
   "execution_count": 36,
   "metadata": {},
   "outputs": [],
   "source": [
    "# #pytorch dataset class for siamese network\n",
    "# class SiameseNetworkDataset(Dataset):\n",
    "#     def __init__(self, df, transform=None):\n",
    "#         self.df = df\n",
    "#         # self.median_img = median_img\n",
    "#         self.transform = transform\n",
    "#         self.median_img_transform = transforms.Compose([\n",
    "#             transforms.ToPILImage(),\n",
    "#             transforms.Resize((64, 64)),\n",
    "#             transforms.ToTensor(),\n",
    "#             transforms.Normalize(mean=[0.485, 0.456, 0.406], \n",
    "#                                  std=[0.229, 0.224, 0.225])\n",
    "#         ])\n",
    "\n",
    "#     def __getitem__(self, idx):\n",
    "#         img_path = self.df.image_path.values[idx]\n",
    "#         path = '/'\n",
    "#         for i in df_train.image_path[0].split('/')[1:-2]:\n",
    "#             path = os.path.join(path, i)\n",
    "\n",
    "#         median_image = np.load(os.path.join(path, 'median_image.npy'))\n",
    "#         img_1 = rioxarray.open_rasterio(img_path)\n",
    "#         img_1 = img_1.data[0:3].transpose(1, 2, 0)\n",
    "#         label = self.df.label.values[idx]\n",
    "#         img_2 = self.median_img_transform(median_image)\n",
    "\n",
    "#         if self.transform:\n",
    "#             img_1 = self.transform(img_1)\n",
    "#             # img_2 = self.transform(img_2) #median image augmentation, need experiments here. \n",
    "#         return img_1, img_2, label\n",
    "\n",
    "#     def __len__(self):\n",
    "#         return len(self.df)\n",
    "\n",
    "class CustomDataset(Dataset):\n",
    "    def __init__(self, df, transform=None):\n",
    "        self.df = df\n",
    "        self.transform = transform\n",
    "    \n",
    "    def __len__(self):\n",
    "        return len(self.df)\n",
    "    \n",
    "    def __getitem__(self, idx):\n",
    "        img_path = self.df.image_path.values[idx]\n",
    "        img = rioxarray.open_rasterio(img_path)\n",
    "        img = np.array(Image.fromarray(img.data[0:3].transpose(1, 2, 0)).resize((128,128)))\n",
    "        label = self.df.label.values[idx]\n",
    "        if self.transform:\n",
    "            img = self.transform(img)\n",
    "        return img, label\n",
    "    \n",
    "train_transform = transforms.Compose([\n",
    "    transforms.ToPILImage(),\n",
    "    transforms.RandomHorizontalFlip(p=0.5),\n",
    "    transforms.RandomVerticalFlip(p=0.5),\n",
    "    transforms.RandomRotation(degrees=45),\n",
    "    transforms.ToTensor(),\n",
    "    transforms.Normalize(mean=[0.485, 0.456, 0.406],\n",
    "                        std=[0.229, 0.224, 0.225]),\n",
    "])\n",
    "\n",
    "test_transform = transforms.Compose([\n",
    "    transforms.ToPILImage(),\n",
    "    transforms.ToTensor(),\n",
    "    transforms.Normalize(mean=[0.485, 0.456, 0.406],\n",
    "                        std=[0.229, 0.224, 0.225]),\n",
    "])\n",
    "\n",
    "train_dataset = CustomDataset(df_train, transform=train_transform)\n",
    "test_dataset = CustomDataset(df_test, transform=test_transform)\n",
    "\n",
    "train_loader = DataLoader(train_dataset, batch_size=32, shuffle=True)\n",
    "test_loader = DataLoader(test_dataset, batch_size=32, shuffle=False)"
   ]
  },
  {
   "cell_type": "code",
   "execution_count": 37,
   "metadata": {},
   "outputs": [
    {
     "name": "stdout",
     "output_type": "stream",
     "text": [
      "torch.Size([32, 3, 128, 128])\n",
      "torch.Size([32])\n"
     ]
    }
   ],
   "source": [
    "for x1,x2 in train_loader:\n",
    "    print(x1.shape)\n",
    "    print(x2.shape)\n",
    "    break"
   ]
  },
  {
   "cell_type": "code",
   "execution_count": null,
   "metadata": {},
   "outputs": [],
   "source": []
  },
  {
   "cell_type": "code",
   "execution_count": 39,
   "metadata": {},
   "outputs": [],
   "source": [
    "from sklearn.model_selection import train_test_split\n",
    "from sklearn.metrics import accuracy_score, confusion_matrix, classification_report\n",
    "import torch\n",
    "import torch.nn as nn\n",
    "import torchvision\n",
    "from torchvision import transforms\n",
    "from torch.utils.data import Dataset, DataLoader\n",
    "from torch.utils.data.sampler import SubsetRandomSampler\n",
    "from torch.optim import Adam\n",
    "from tqdm.auto import tqdm\n",
    "import time\n",
    "import copy"
   ]
  },
  {
   "cell_type": "code",
   "execution_count": 41,
   "metadata": {},
   "outputs": [],
   "source": [
    "train_transform = transforms.Compose([\n",
    "    transforms.ToPILImage(),\n",
    "    transforms.Resize((64, 64)),\n",
    "    transforms.RandomHorizontalFlip(p=0.5),\n",
    "    transforms.RandomAffine(degrees=15, translate=(0.1, 0.1), scale=(0.9, 1.1)),\n",
    "    transforms.RandomVerticalFlip(p=0.2),\n",
    "    transforms.RandomRotation(degrees=30),\n",
    "    # transforms.RandomResizedCrop(size=128, scale=(0.8, 1.0)),\n",
    "    transforms.ToTensor(),\n",
    "    transforms.Normalize(mean=[0.485, 0.456, 0.406],\n",
    "                        std=[0.229, 0.224, 0.225]),\n",
    "])\n",
    "\n",
    "\n",
    "test_transform = transforms.Compose([\n",
    "    transforms.ToPILImage(),\n",
    "    transforms.Resize((64, 64)),\n",
    "    transforms.ToTensor(),\n",
    "    transforms.Normalize(mean=[0.485, 0.456, 0.406],\n",
    "                        std=[0.229, 0.224, 0.225]),\n",
    "])\n",
    "\n",
    "#dataset and dataloader\n",
    "# train_dataset = SiameseNetworkDataset(df_train, transform=train_transform)\n",
    "# test_dataset = SiameseNetworkDataset(df_test,  transform=test_transform)\n",
    "\n",
    "# train_loader = DataLoader(train_dataset, batch_size=32, shuffle=True, num_workers=4, pin_memory=True)\n",
    "# test_loader = DataLoader(test_dataset, batch_size=32, shuffle=False, num_workers=4)\n"
   ]
  },
  {
   "cell_type": "code",
   "execution_count": null,
   "metadata": {},
   "outputs": [],
   "source": []
  },
  {
   "cell_type": "code",
   "execution_count": null,
   "metadata": {},
   "outputs": [],
   "source": []
  },
  {
   "cell_type": "markdown",
   "metadata": {},
   "source": [
    "#### Model"
   ]
  },
  {
   "cell_type": "code",
   "execution_count": 42,
   "metadata": {},
   "outputs": [],
   "source": [
    "# class SiameseNetwork(nn.Module):\n",
    "#     def __init__(self):\n",
    "#         super(SiameseNetwork, self).__init__()\n",
    "\n",
    "#         self.resnet = models.resnet18(pretrained=True)  # Load pre-trained ResNet-18\n",
    "#         self.resnet.fc = nn.Linear(512, 128)  # Change the fully connected layer to output 128-dimensional embeddings\n",
    "#         self.fc1 = nn.Linear(128 * 2, 64)\n",
    "#         self.fc2 = nn.Linear(64, 2)\n",
    "\n",
    "#     def forward_one(self, x):\n",
    "#         x = self.resnet(x)\n",
    "#         return x\n",
    "\n",
    "#     def forward(self, input1, input2):\n",
    "#         output1 = self.forward_one(input1)\n",
    "#         output2 = self.forward_one(input2)\n",
    "#         combined = torch.cat((output1, output2), dim=1)\n",
    "#         x = self.fc1(combined)\n",
    "#         x = torch.relu(x)\n",
    "#         x = self.fc2(x)\n",
    "#         # x = torch.sigmoid(x)\n",
    "#         return x\n"
   ]
  },
  {
   "cell_type": "code",
   "execution_count": 44,
   "metadata": {},
   "outputs": [
    {
     "name": "stdout",
     "output_type": "stream",
     "text": [
      "cuda:0\n"
     ]
    }
   ],
   "source": [
    "# resnet 18 model with pretrained weights\n",
    "device = torch.device(\"cuda:0\" if torch.cuda.is_available() else \"cpu\")\n",
    "print(device)\n",
    "\n",
    "model = models.resnet18(pretrained=True)\n",
    "for param in model.parameters():\n",
    "    param.requires_grad = True\n",
    "model.fc = nn.Linear(512, 2)\n",
    "model = model.to(device)"
   ]
  },
  {
   "cell_type": "code",
   "execution_count": 45,
   "metadata": {},
   "outputs": [
    {
     "name": "stdout",
     "output_type": "stream",
     "text": [
      "cuda:0\n"
     ]
    }
   ],
   "source": [
    "device = torch.device(\"cuda:0\" if torch.cuda.is_available() else \"cpu\")\n",
    "print(device)"
   ]
  },
  {
   "cell_type": "code",
   "execution_count": 46,
   "metadata": {},
   "outputs": [],
   "source": [
    "criterion = nn.CrossEntropyLoss()\n",
    "optimizer = Adam(model.parameters(), lr=0.001)"
   ]
  },
  {
   "cell_type": "code",
   "execution_count": 50,
   "metadata": {},
   "outputs": [],
   "source": [
    "# #training and validation, also calculating AUC scores for train and test set\n",
    "# def train_model(model, criterion, optimizer, num_epochs=50):\n",
    "#     train_loss = []\n",
    "#     train_acc = []\n",
    "#     train_auc = []\n",
    "#     val_loss = []\n",
    "#     val_acc = []\n",
    "#     val_auc = []\n",
    "#     writer = SummaryWriter()\n",
    "#     best_model_wts = copy.deepcopy(model.state_dict())\n",
    "#     best_acc = 0.0\n",
    "#     best_auc = 0.0\n",
    "#     for epoch in tqdm(range(num_epochs)):\n",
    "#         print('Epoch {}/{}'.format(epoch, num_epochs - 1))\n",
    "#         print('-' * 10)\n",
    "#         since = time.time()\n",
    "#         # Each epoch has a training and validation phase\n",
    "#         for phase in ['train', 'test']:\n",
    "#             if phase == 'train':\n",
    "#                 model.train()  \n",
    "#             else:\n",
    "#                 model.eval()   \n",
    "#             running_loss = 0.0\n",
    "#             running_corrects = 0\n",
    "#             y_pred = []\n",
    "#             y_true = []\n",
    "#             # Iterate over data.\n",
    "#             for input_1, input_2, labels in eval(phase+'_loader'):\n",
    "#                 input_1 = input_1.to(device)\n",
    "#                 input_2 = input_2.to(device)\n",
    "#                 labels = labels.to(device)\n",
    "#                 # zero the parameter gradients\n",
    "#                 optimizer.zero_grad()\n",
    "#                 # forward\n",
    "#                 # track history if only in train\n",
    "#                 with torch.set_grad_enabled(phase == 'train'):\n",
    "#                     # Get model outputs and calculate loss\n",
    "#                     outputs = model(input_1, input_2)\n",
    "#                     loss = criterion(outputs, labels)\n",
    "#                     _, preds = torch.max(outputs, 1)\n",
    "#                     # backward + optimize only if in training phase\n",
    "#                     if phase == 'train':\n",
    "#                         loss.backward()\n",
    "#                         optimizer.step()\n",
    "#                 # statistics\n",
    "#                 running_loss += loss.item() * input_1.size(0)\n",
    "                \n",
    "#                 running_corrects += torch.sum(preds == labels.data)\n",
    "#                 y_pred.extend(preds.cpu().numpy())\n",
    "#                 y_true.extend(labels.cpu().numpy())\n",
    "#             epoch_loss = running_loss / len(eval(phase+'_loader').dataset)\n",
    "#             epoch_acc = running_corrects.double() / len(eval(phase+'_loader').dataset)\n",
    "#             epoch_auc = roc_auc_score(y_true, y_pred)\n",
    "#             writer.add_scalar(f'Loss/{phase}', epoch_loss, epoch)\n",
    "#             writer.add_scalar(f'Accuracy/{phase}', epoch_acc, epoch)\n",
    "#             writer.add_scalar(f'AUC/{phase}', epoch_auc, epoch)\n",
    "#             print('{} Loss: {:.4f} Acc: {:.4f} AUC: {:.4f}'.format(\n",
    "#                 phase, epoch_loss, epoch_acc, epoch_auc))\n",
    "#             if phase == 'train':\n",
    "#                 train_loss.append(epoch_loss)\n",
    "#                 train_acc.append(epoch_acc)\n",
    "#                 train_auc.append(epoch_auc)\n",
    "#             else:\n",
    "#                 val_loss.append(epoch_loss)\n",
    "#                 val_acc.append(epoch_acc)\n",
    "#                 val_auc.append(epoch_auc)\n",
    "#             # deep copy the model\n",
    "#             if phase == 'test' and epoch_auc > best_auc:\n",
    "#                 best_acc = epoch_acc\n",
    "#                 best_auc = epoch_auc\n",
    "#                 best_model_wts = copy.deepcopy(model.state_dict())\n",
    "#                 torch.save(model.state_dict(), '/home/akansh-i2sc/Desktop/Study/detect-car-LR/notebooks/Exp_4/models/exp_4.pt')\n",
    "#         print()\n",
    "#     time_elapsed = time.time() - since\n",
    "#     print('Training complete in {:.0f}m {:.0f}s'.format(\n",
    "#     time_elapsed // 60, time_elapsed % 60))\n",
    "#     print('Best val Acc: {:4f}'.format(best_acc))\n",
    "#     print('Best val AUC: {:4f}'.format(best_auc))\n",
    "#     # load best model weights\n",
    "#     model.load_state_dict(best_model_wts)\n",
    "#     return model, train_loss, train_acc, val_loss, val_acc, train_auc, val_auc\n",
    "\n",
    "\n"
   ]
  },
  {
   "cell_type": "code",
   "execution_count": 51,
   "metadata": {},
   "outputs": [],
   "source": [
    "def train_model(model, criterion, optimizer, num_epochs=10):\n",
    "    train_loss = []\n",
    "    train_acc = []\n",
    "    train_auc = []\n",
    "    val_loss = []\n",
    "    val_acc = []\n",
    "    val_auc = []\n",
    "    writer = SummaryWriter()\n",
    "\n",
    "    best_model_wts = copy.deepcopy(model.state_dict())\n",
    "    best_acc = 0.0\n",
    "    best_auc = 0.0\n",
    "    for epoch in tqdm(range(num_epochs)):\n",
    "        print('Epoch {}/{}'.format(epoch, num_epochs - 1))\n",
    "        print('-' * 10)\n",
    "        since = time.time()\n",
    "        # Each epoch has a training and validation phase\n",
    "        for phase in ['train', 'test']:\n",
    "            if phase == 'train':\n",
    "                model.train()  \n",
    "            else:\n",
    "                model.eval()   \n",
    "            running_loss = 0.0\n",
    "            running_corrects = 0\n",
    "            y_pred = []\n",
    "            y_true = []\n",
    "            # Iterate over data.\n",
    "            for inputs, labels in tqdm(eval(phase+'_loader')):\n",
    "                inputs = inputs.to(device)\n",
    "                labels = labels.to(device)\n",
    "                # zero the parameter gradients\n",
    "                optimizer.zero_grad()\n",
    "                # forward\n",
    "                # track history if only in train\n",
    "                with torch.set_grad_enabled(phase == 'train'):\n",
    "                    # Get model outputs and calculate loss\n",
    "                    outputs = model(inputs)\n",
    "                    loss = criterion(outputs, labels)\n",
    "                    _, preds = torch.max(outputs, 1)\n",
    "                    # backward + optimize only if in training phase\n",
    "                    if phase == 'train':\n",
    "                        loss.backward()\n",
    "                        optimizer.step()\n",
    "                # statistics\n",
    "                running_loss += loss.item() * inputs.size(0)\n",
    "                running_corrects += torch.sum(preds == labels.data)\n",
    "                y_pred.extend(preds.cpu().numpy())\n",
    "                y_true.extend(labels.cpu().numpy())\n",
    "            epoch_loss = running_loss / len(eval(phase+'_loader').dataset)\n",
    "            epoch_acc = running_corrects.double() / len(eval(phase+'_loader').dataset)\n",
    "            epoch_auc = roc_auc_score(y_true, y_pred)\n",
    "            writer.add_scalar(f'Loss/{phase}', epoch_loss, epoch)\n",
    "            writer.add_scalar(f'Accuracy/{phase}', epoch_acc, epoch)\n",
    "            writer.add_scalar(f'AUC/{phase}', epoch_auc, epoch)\n",
    "\n",
    "            print('{} Loss: {:.4f} Acc: {:.4f} AUC: {:.4f}'.format(\n",
    "                phase, epoch_loss, epoch_acc, epoch_auc))\n",
    "            if phase == 'train':\n",
    "                train_loss.append(epoch_loss)\n",
    "                train_acc.append(epoch_acc)\n",
    "                train_auc.append(epoch_auc)\n",
    "            else:\n",
    "                val_loss.append(epoch_loss)\n",
    "                val_acc.append(epoch_acc)\n",
    "                val_auc.append(epoch_auc)\n",
    "            # deep copy the model\n",
    "            if phase == 'test' and epoch_auc > best_auc:\n",
    "                best_acc = epoch_acc\n",
    "                best_auc = epoch_auc\n",
    "                best_model_wts = copy.deepcopy(model.state_dict())\n",
    "                # torch.save(model.state_dict(), '/home/akansh-i2sc/Desktop/Research@societal/detect-car-LR/temp/models/model_mix_exp_3_1.pt')\n",
    "        print()\n",
    "    time_elapsed = time.time() - since\n",
    "    print('Training complete in {:.0f}m {:.0f}s'.format(\n",
    "    time_elapsed // 60, time_elapsed % 60))\n",
    "    print('Best val Acc: {:4f}'.format(best_acc))\n",
    "    print('Best val AUC: {:4f}'.format(best_auc))\n",
    "    # load best model weights\n",
    "    model.load_state_dict(best_model_wts)\n",
    "    return model, train_loss, train_acc, val_loss, val_acc, train_auc, val_auc\n",
    "\n"
   ]
  },
  {
   "cell_type": "code",
   "execution_count": 52,
   "metadata": {},
   "outputs": [
    {
     "data": {
      "application/vnd.jupyter.widget-view+json": {
       "model_id": "04a943fae1bd44da932b2af189ddf95e",
       "version_major": 2,
       "version_minor": 0
      },
      "text/plain": [
       "  0%|          | 0/100 [00:00<?, ?it/s]"
      ]
     },
     "metadata": {},
     "output_type": "display_data"
    },
    {
     "name": "stdout",
     "output_type": "stream",
     "text": [
      "Epoch 0/99\n",
      "----------\n"
     ]
    },
    {
     "data": {
      "application/vnd.jupyter.widget-view+json": {
       "model_id": "deb97ba811fd4d368e471b95277b7a25",
       "version_major": 2,
       "version_minor": 0
      },
      "text/plain": [
       "  0%|          | 0/342 [00:00<?, ?it/s]"
      ]
     },
     "metadata": {},
     "output_type": "display_data"
    },
    {
     "name": "stdout",
     "output_type": "stream",
     "text": [
      "train Loss: 0.4058 Acc: 0.8671 AUC: 0.5002\n"
     ]
    },
    {
     "data": {
      "application/vnd.jupyter.widget-view+json": {
       "model_id": "c07fefdf1ed744c8bfc52c4488ca5e19",
       "version_major": 2,
       "version_minor": 0
      },
      "text/plain": [
       "  0%|          | 0/91 [00:00<?, ?it/s]"
      ]
     },
     "metadata": {},
     "output_type": "display_data"
    },
    {
     "name": "stdout",
     "output_type": "stream",
     "text": [
      "test Loss: 0.4053 Acc: 0.8702 AUC: 0.5000\n",
      "\n",
      "Epoch 1/99\n",
      "----------\n"
     ]
    },
    {
     "data": {
      "application/vnd.jupyter.widget-view+json": {
       "model_id": "3ab57e0aa29d4155bb4dffc4e90baf47",
       "version_major": 2,
       "version_minor": 0
      },
      "text/plain": [
       "  0%|          | 0/342 [00:00<?, ?it/s]"
      ]
     },
     "metadata": {},
     "output_type": "display_data"
    },
    {
     "name": "stdout",
     "output_type": "stream",
     "text": [
      "train Loss: 0.3967 Acc: 0.8686 AUC: 0.4996\n"
     ]
    },
    {
     "data": {
      "application/vnd.jupyter.widget-view+json": {
       "model_id": "edeb017db144429fbd1833669d3bde2b",
       "version_major": 2,
       "version_minor": 0
      },
      "text/plain": [
       "  0%|          | 0/91 [00:00<?, ?it/s]"
      ]
     },
     "metadata": {},
     "output_type": "display_data"
    },
    {
     "name": "stdout",
     "output_type": "stream",
     "text": [
      "test Loss: 0.6441 Acc: 0.8702 AUC: 0.5000\n",
      "\n",
      "Epoch 2/99\n",
      "----------\n"
     ]
    },
    {
     "data": {
      "application/vnd.jupyter.widget-view+json": {
       "model_id": "2d7433b288ef480082fb2d9403910bde",
       "version_major": 2,
       "version_minor": 0
      },
      "text/plain": [
       "  0%|          | 0/342 [00:00<?, ?it/s]"
      ]
     },
     "metadata": {},
     "output_type": "display_data"
    },
    {
     "name": "stdout",
     "output_type": "stream",
     "text": [
      "train Loss: 0.3931 Acc: 0.8684 AUC: 0.4998\n"
     ]
    },
    {
     "data": {
      "application/vnd.jupyter.widget-view+json": {
       "model_id": "7bc2e5589c7c44cea11508bc4d27ad6d",
       "version_major": 2,
       "version_minor": 0
      },
      "text/plain": [
       "  0%|          | 0/91 [00:00<?, ?it/s]"
      ]
     },
     "metadata": {},
     "output_type": "display_data"
    },
    {
     "name": "stdout",
     "output_type": "stream",
     "text": [
      "test Loss: 0.8940 Acc: 0.8702 AUC: 0.5000\n",
      "\n",
      "Epoch 3/99\n",
      "----------\n"
     ]
    },
    {
     "data": {
      "application/vnd.jupyter.widget-view+json": {
       "model_id": "d63cd3a4ae394096957579e44c9232d1",
       "version_major": 2,
       "version_minor": 0
      },
      "text/plain": [
       "  0%|          | 0/342 [00:00<?, ?it/s]"
      ]
     },
     "metadata": {},
     "output_type": "display_data"
    },
    {
     "name": "stdout",
     "output_type": "stream",
     "text": [
      "train Loss: 0.3911 Acc: 0.8688 AUC: 0.5000\n"
     ]
    },
    {
     "data": {
      "application/vnd.jupyter.widget-view+json": {
       "model_id": "8f0730b7294a4b83903ab001c1b96156",
       "version_major": 2,
       "version_minor": 0
      },
      "text/plain": [
       "  0%|          | 0/91 [00:00<?, ?it/s]"
      ]
     },
     "metadata": {},
     "output_type": "display_data"
    },
    {
     "name": "stdout",
     "output_type": "stream",
     "text": [
      "test Loss: 0.4470 Acc: 0.8702 AUC: 0.5000\n",
      "\n",
      "Epoch 4/99\n",
      "----------\n"
     ]
    },
    {
     "data": {
      "application/vnd.jupyter.widget-view+json": {
       "model_id": "47cea70c803d4c708bfaa2642729ef74",
       "version_major": 2,
       "version_minor": 0
      },
      "text/plain": [
       "  0%|          | 0/342 [00:00<?, ?it/s]"
      ]
     },
     "metadata": {},
     "output_type": "display_data"
    },
    {
     "name": "stdout",
     "output_type": "stream",
     "text": [
      "train Loss: 0.3880 Acc: 0.8687 AUC: 0.4994\n"
     ]
    },
    {
     "data": {
      "application/vnd.jupyter.widget-view+json": {
       "model_id": "cb917e20e5e14c2fb8910358fddd4b25",
       "version_major": 2,
       "version_minor": 0
      },
      "text/plain": [
       "  0%|          | 0/91 [00:00<?, ?it/s]"
      ]
     },
     "metadata": {},
     "output_type": "display_data"
    },
    {
     "name": "stdout",
     "output_type": "stream",
     "text": [
      "test Loss: 0.4090 Acc: 0.8646 AUC: 0.5002\n",
      "\n",
      "Epoch 5/99\n",
      "----------\n"
     ]
    },
    {
     "data": {
      "application/vnd.jupyter.widget-view+json": {
       "model_id": "f18eca24602d4812aa8f590db6db09b6",
       "version_major": 2,
       "version_minor": 0
      },
      "text/plain": [
       "  0%|          | 0/342 [00:00<?, ?it/s]"
      ]
     },
     "metadata": {},
     "output_type": "display_data"
    },
    {
     "name": "stdout",
     "output_type": "stream",
     "text": [
      "train Loss: 0.3878 Acc: 0.8698 AUC: 0.5000\n"
     ]
    },
    {
     "data": {
      "application/vnd.jupyter.widget-view+json": {
       "model_id": "26b22b81b6c5426daf97f916ab294e76",
       "version_major": 2,
       "version_minor": 0
      },
      "text/plain": [
       "  0%|          | 0/91 [00:00<?, ?it/s]"
      ]
     },
     "metadata": {},
     "output_type": "display_data"
    },
    {
     "name": "stdout",
     "output_type": "stream",
     "text": [
      "test Loss: 0.3852 Acc: 0.8702 AUC: 0.5000\n",
      "\n",
      "Epoch 6/99\n",
      "----------\n"
     ]
    },
    {
     "data": {
      "application/vnd.jupyter.widget-view+json": {
       "model_id": "38a00ef5636b44929e203d6a5fb45c02",
       "version_major": 2,
       "version_minor": 0
      },
      "text/plain": [
       "  0%|          | 0/342 [00:00<?, ?it/s]"
      ]
     },
     "metadata": {},
     "output_type": "display_data"
    },
    {
     "name": "stdout",
     "output_type": "stream",
     "text": [
      "train Loss: 0.3863 Acc: 0.8687 AUC: 0.4996\n"
     ]
    },
    {
     "data": {
      "application/vnd.jupyter.widget-view+json": {
       "model_id": "530237d2e0704230a9fde63618f9f7d1",
       "version_major": 2,
       "version_minor": 0
      },
      "text/plain": [
       "  0%|          | 0/91 [00:00<?, ?it/s]"
      ]
     },
     "metadata": {},
     "output_type": "display_data"
    },
    {
     "name": "stdout",
     "output_type": "stream",
     "text": [
      "test Loss: 0.4352 Acc: 0.8702 AUC: 0.5000\n",
      "\n",
      "Epoch 7/99\n",
      "----------\n"
     ]
    },
    {
     "data": {
      "application/vnd.jupyter.widget-view+json": {
       "model_id": "660aa06a62c342ea9a7ef46c823d255c",
       "version_major": 2,
       "version_minor": 0
      },
      "text/plain": [
       "  0%|          | 0/342 [00:00<?, ?it/s]"
      ]
     },
     "metadata": {},
     "output_type": "display_data"
    },
    {
     "name": "stdout",
     "output_type": "stream",
     "text": [
      "train Loss: 0.3888 Acc: 0.8692 AUC: 0.5002\n"
     ]
    },
    {
     "data": {
      "application/vnd.jupyter.widget-view+json": {
       "model_id": "acc4f95c312a42d4b57aabf801e9d0c8",
       "version_major": 2,
       "version_minor": 0
      },
      "text/plain": [
       "  0%|          | 0/91 [00:00<?, ?it/s]"
      ]
     },
     "metadata": {},
     "output_type": "display_data"
    },
    {
     "name": "stdout",
     "output_type": "stream",
     "text": [
      "test Loss: 0.3848 Acc: 0.8702 AUC: 0.5000\n",
      "\n",
      "Epoch 8/99\n",
      "----------\n"
     ]
    },
    {
     "data": {
      "application/vnd.jupyter.widget-view+json": {
       "model_id": "e64b6980766446c2af3687f05cb449e4",
       "version_major": 2,
       "version_minor": 0
      },
      "text/plain": [
       "  0%|          | 0/342 [00:00<?, ?it/s]"
      ]
     },
     "metadata": {},
     "output_type": "display_data"
    },
    {
     "name": "stdout",
     "output_type": "stream",
     "text": [
      "train Loss: 0.3906 Acc: 0.8690 AUC: 0.4995\n"
     ]
    },
    {
     "data": {
      "application/vnd.jupyter.widget-view+json": {
       "model_id": "764949709d4e4a6aa153946b7388aaad",
       "version_major": 2,
       "version_minor": 0
      },
      "text/plain": [
       "  0%|          | 0/91 [00:00<?, ?it/s]"
      ]
     },
     "metadata": {},
     "output_type": "display_data"
    },
    {
     "name": "stdout",
     "output_type": "stream",
     "text": [
      "test Loss: 0.3830 Acc: 0.8702 AUC: 0.5000\n",
      "\n",
      "Epoch 9/99\n",
      "----------\n"
     ]
    },
    {
     "data": {
      "application/vnd.jupyter.widget-view+json": {
       "model_id": "81dd1e39d91e473595d6f535d0c0fa3e",
       "version_major": 2,
       "version_minor": 0
      },
      "text/plain": [
       "  0%|          | 0/342 [00:00<?, ?it/s]"
      ]
     },
     "metadata": {},
     "output_type": "display_data"
    },
    {
     "name": "stdout",
     "output_type": "stream",
     "text": [
      "train Loss: 0.3903 Acc: 0.8682 AUC: 0.4999\n"
     ]
    },
    {
     "data": {
      "application/vnd.jupyter.widget-view+json": {
       "model_id": "a6f2ee4975fd4c82b89a98c54c1219fb",
       "version_major": 2,
       "version_minor": 0
      },
      "text/plain": [
       "  0%|          | 0/91 [00:00<?, ?it/s]"
      ]
     },
     "metadata": {},
     "output_type": "display_data"
    },
    {
     "name": "stdout",
     "output_type": "stream",
     "text": [
      "test Loss: 0.3787 Acc: 0.8702 AUC: 0.5000\n",
      "\n",
      "Epoch 10/99\n",
      "----------\n"
     ]
    },
    {
     "data": {
      "application/vnd.jupyter.widget-view+json": {
       "model_id": "0c887ff4b53d419b909f730f7d08c330",
       "version_major": 2,
       "version_minor": 0
      },
      "text/plain": [
       "  0%|          | 0/342 [00:00<?, ?it/s]"
      ]
     },
     "metadata": {},
     "output_type": "display_data"
    },
    {
     "name": "stdout",
     "output_type": "stream",
     "text": [
      "train Loss: 0.3849 Acc: 0.8698 AUC: 0.4999\n"
     ]
    },
    {
     "data": {
      "application/vnd.jupyter.widget-view+json": {
       "model_id": "0a39d1cf311d448eb76f48438a701f2f",
       "version_major": 2,
       "version_minor": 0
      },
      "text/plain": [
       "  0%|          | 0/91 [00:00<?, ?it/s]"
      ]
     },
     "metadata": {},
     "output_type": "display_data"
    },
    {
     "name": "stdout",
     "output_type": "stream",
     "text": [
      "test Loss: 0.4008 Acc: 0.8702 AUC: 0.5000\n",
      "\n",
      "Epoch 11/99\n",
      "----------\n"
     ]
    },
    {
     "data": {
      "application/vnd.jupyter.widget-view+json": {
       "model_id": "0c713a1bbbcc417b8715aeb02a3c64fc",
       "version_major": 2,
       "version_minor": 0
      },
      "text/plain": [
       "  0%|          | 0/342 [00:00<?, ?it/s]"
      ]
     },
     "metadata": {},
     "output_type": "display_data"
    },
    {
     "name": "stdout",
     "output_type": "stream",
     "text": [
      "train Loss: 0.3910 Acc: 0.8698 AUC: 0.5002\n"
     ]
    },
    {
     "data": {
      "application/vnd.jupyter.widget-view+json": {
       "model_id": "35ea6784e4934be8a28838f0704f5350",
       "version_major": 2,
       "version_minor": 0
      },
      "text/plain": [
       "  0%|          | 0/91 [00:00<?, ?it/s]"
      ]
     },
     "metadata": {},
     "output_type": "display_data"
    },
    {
     "name": "stdout",
     "output_type": "stream",
     "text": [
      "test Loss: 0.3858 Acc: 0.8702 AUC: 0.5000\n",
      "\n",
      "Epoch 12/99\n",
      "----------\n"
     ]
    },
    {
     "data": {
      "application/vnd.jupyter.widget-view+json": {
       "model_id": "39e7dadd7f464e53bc1e48724653884f",
       "version_major": 2,
       "version_minor": 0
      },
      "text/plain": [
       "  0%|          | 0/342 [00:00<?, ?it/s]"
      ]
     },
     "metadata": {},
     "output_type": "display_data"
    },
    {
     "name": "stdout",
     "output_type": "stream",
     "text": [
      "train Loss: 0.3929 Acc: 0.8678 AUC: 0.4994\n"
     ]
    },
    {
     "data": {
      "application/vnd.jupyter.widget-view+json": {
       "model_id": "69ca5b6ed67f459b91b08435dfaa94e5",
       "version_major": 2,
       "version_minor": 0
      },
      "text/plain": [
       "  0%|          | 0/91 [00:00<?, ?it/s]"
      ]
     },
     "metadata": {},
     "output_type": "display_data"
    },
    {
     "name": "stdout",
     "output_type": "stream",
     "text": [
      "test Loss: 0.4222 Acc: 0.8702 AUC: 0.5000\n",
      "\n",
      "Epoch 13/99\n",
      "----------\n"
     ]
    },
    {
     "data": {
      "application/vnd.jupyter.widget-view+json": {
       "model_id": "359c2e943cc540dbb2f422b11da7ec3a",
       "version_major": 2,
       "version_minor": 0
      },
      "text/plain": [
       "  0%|          | 0/342 [00:00<?, ?it/s]"
      ]
     },
     "metadata": {},
     "output_type": "display_data"
    },
    {
     "name": "stdout",
     "output_type": "stream",
     "text": [
      "train Loss: 0.3864 Acc: 0.8696 AUC: 0.4998\n"
     ]
    },
    {
     "data": {
      "application/vnd.jupyter.widget-view+json": {
       "model_id": "d634af30a7e341b68c4a7ebdd80a9743",
       "version_major": 2,
       "version_minor": 0
      },
      "text/plain": [
       "  0%|          | 0/91 [00:00<?, ?it/s]"
      ]
     },
     "metadata": {},
     "output_type": "display_data"
    },
    {
     "name": "stdout",
     "output_type": "stream",
     "text": [
      "test Loss: 0.3842 Acc: 0.8702 AUC: 0.5000\n",
      "\n",
      "Epoch 14/99\n",
      "----------\n"
     ]
    },
    {
     "data": {
      "application/vnd.jupyter.widget-view+json": {
       "model_id": "8450335b35ab420e8eac43da771257b4",
       "version_major": 2,
       "version_minor": 0
      },
      "text/plain": [
       "  0%|          | 0/342 [00:00<?, ?it/s]"
      ]
     },
     "metadata": {},
     "output_type": "display_data"
    },
    {
     "name": "stdout",
     "output_type": "stream",
     "text": [
      "train Loss: 0.3855 Acc: 0.8692 AUC: 0.4996\n"
     ]
    },
    {
     "data": {
      "application/vnd.jupyter.widget-view+json": {
       "model_id": "f674e87350314e36845d49b26ad8a71e",
       "version_major": 2,
       "version_minor": 0
      },
      "text/plain": [
       "  0%|          | 0/91 [00:00<?, ?it/s]"
      ]
     },
     "metadata": {},
     "output_type": "display_data"
    },
    {
     "name": "stdout",
     "output_type": "stream",
     "text": [
      "test Loss: 0.3935 Acc: 0.8702 AUC: 0.5000\n",
      "\n",
      "Epoch 15/99\n",
      "----------\n"
     ]
    },
    {
     "data": {
      "application/vnd.jupyter.widget-view+json": {
       "model_id": "dffa8c5258cc483fa10d8ff77687aab9",
       "version_major": 2,
       "version_minor": 0
      },
      "text/plain": [
       "  0%|          | 0/342 [00:00<?, ?it/s]"
      ]
     },
     "metadata": {},
     "output_type": "display_data"
    },
    {
     "name": "stdout",
     "output_type": "stream",
     "text": [
      "train Loss: 0.3827 Acc: 0.8697 AUC: 0.4999\n"
     ]
    },
    {
     "data": {
      "application/vnd.jupyter.widget-view+json": {
       "model_id": "f76e73cfb10b4fa9bf9deffc19577c9e",
       "version_major": 2,
       "version_minor": 0
      },
      "text/plain": [
       "  0%|          | 0/91 [00:00<?, ?it/s]"
      ]
     },
     "metadata": {},
     "output_type": "display_data"
    },
    {
     "name": "stdout",
     "output_type": "stream",
     "text": [
      "test Loss: 0.3933 Acc: 0.8702 AUC: 0.5000\n",
      "\n",
      "Epoch 16/99\n",
      "----------\n"
     ]
    },
    {
     "data": {
      "application/vnd.jupyter.widget-view+json": {
       "model_id": "98321cad54cb4d7a9f9fc2e674ffe7c5",
       "version_major": 2,
       "version_minor": 0
      },
      "text/plain": [
       "  0%|          | 0/342 [00:00<?, ?it/s]"
      ]
     },
     "metadata": {},
     "output_type": "display_data"
    },
    {
     "name": "stdout",
     "output_type": "stream",
     "text": [
      "train Loss: 0.3864 Acc: 0.8687 AUC: 0.4996\n"
     ]
    },
    {
     "data": {
      "application/vnd.jupyter.widget-view+json": {
       "model_id": "8833668e55fd4f59b5382cc0a5b0be70",
       "version_major": 2,
       "version_minor": 0
      },
      "text/plain": [
       "  0%|          | 0/91 [00:00<?, ?it/s]"
      ]
     },
     "metadata": {},
     "output_type": "display_data"
    },
    {
     "name": "stdout",
     "output_type": "stream",
     "text": [
      "test Loss: 0.3856 Acc: 0.8702 AUC: 0.5000\n",
      "\n",
      "Epoch 17/99\n",
      "----------\n"
     ]
    },
    {
     "data": {
      "application/vnd.jupyter.widget-view+json": {
       "model_id": "fd6827c2775f4b4bb7d460e8465666bf",
       "version_major": 2,
       "version_minor": 0
      },
      "text/plain": [
       "  0%|          | 0/342 [00:00<?, ?it/s]"
      ]
     },
     "metadata": {},
     "output_type": "display_data"
    },
    {
     "name": "stdout",
     "output_type": "stream",
     "text": [
      "train Loss: 0.3832 Acc: 0.8691 AUC: 0.4996\n"
     ]
    },
    {
     "data": {
      "application/vnd.jupyter.widget-view+json": {
       "model_id": "89c21de53e5f46cbb2b9886381e631f3",
       "version_major": 2,
       "version_minor": 0
      },
      "text/plain": [
       "  0%|          | 0/91 [00:00<?, ?it/s]"
      ]
     },
     "metadata": {},
     "output_type": "display_data"
    },
    {
     "name": "stdout",
     "output_type": "stream",
     "text": [
      "test Loss: 0.3806 Acc: 0.8702 AUC: 0.5000\n",
      "\n",
      "Epoch 18/99\n",
      "----------\n"
     ]
    },
    {
     "data": {
      "application/vnd.jupyter.widget-view+json": {
       "model_id": "ae26c63781b142f58cd6d7daff7252a6",
       "version_major": 2,
       "version_minor": 0
      },
      "text/plain": [
       "  0%|          | 0/342 [00:00<?, ?it/s]"
      ]
     },
     "metadata": {},
     "output_type": "display_data"
    },
    {
     "name": "stdout",
     "output_type": "stream",
     "text": [
      "train Loss: 0.3794 Acc: 0.8697 AUC: 0.5011\n"
     ]
    },
    {
     "data": {
      "application/vnd.jupyter.widget-view+json": {
       "model_id": "004333f49f504f658eb8987abd769900",
       "version_major": 2,
       "version_minor": 0
      },
      "text/plain": [
       "  0%|          | 0/91 [00:00<?, ?it/s]"
      ]
     },
     "metadata": {},
     "output_type": "display_data"
    },
    {
     "name": "stdout",
     "output_type": "stream",
     "text": [
      "test Loss: 0.3908 Acc: 0.8702 AUC: 0.5000\n",
      "\n",
      "Epoch 19/99\n",
      "----------\n"
     ]
    },
    {
     "data": {
      "application/vnd.jupyter.widget-view+json": {
       "model_id": "c68a5149493d4e1a8131a600500c86c2",
       "version_major": 2,
       "version_minor": 0
      },
      "text/plain": [
       "  0%|          | 0/342 [00:00<?, ?it/s]"
      ]
     },
     "metadata": {},
     "output_type": "display_data"
    },
    {
     "name": "stdout",
     "output_type": "stream",
     "text": [
      "train Loss: 0.3883 Acc: 0.8694 AUC: 0.5000\n"
     ]
    },
    {
     "data": {
      "application/vnd.jupyter.widget-view+json": {
       "model_id": "fce48e3e39f64c21843b50dc90dd6886",
       "version_major": 2,
       "version_minor": 0
      },
      "text/plain": [
       "  0%|          | 0/91 [00:00<?, ?it/s]"
      ]
     },
     "metadata": {},
     "output_type": "display_data"
    },
    {
     "name": "stdout",
     "output_type": "stream",
     "text": [
      "test Loss: 0.3859 Acc: 0.8702 AUC: 0.5000\n",
      "\n",
      "Epoch 20/99\n",
      "----------\n"
     ]
    },
    {
     "data": {
      "application/vnd.jupyter.widget-view+json": {
       "model_id": "47c497a755244dbdba6212676554b375",
       "version_major": 2,
       "version_minor": 0
      },
      "text/plain": [
       "  0%|          | 0/342 [00:00<?, ?it/s]"
      ]
     },
     "metadata": {},
     "output_type": "display_data"
    },
    {
     "name": "stdout",
     "output_type": "stream",
     "text": [
      "train Loss: 0.3813 Acc: 0.8697 AUC: 0.5002\n"
     ]
    },
    {
     "data": {
      "application/vnd.jupyter.widget-view+json": {
       "model_id": "f8857673e0eb4896b9a1f540a789e8c5",
       "version_major": 2,
       "version_minor": 0
      },
      "text/plain": [
       "  0%|          | 0/91 [00:00<?, ?it/s]"
      ]
     },
     "metadata": {},
     "output_type": "display_data"
    },
    {
     "name": "stdout",
     "output_type": "stream",
     "text": [
      "test Loss: 0.3871 Acc: 0.8702 AUC: 0.5000\n",
      "\n",
      "Epoch 21/99\n",
      "----------\n"
     ]
    },
    {
     "data": {
      "application/vnd.jupyter.widget-view+json": {
       "model_id": "3d35a28fbe694d05837927cbbc72cc5b",
       "version_major": 2,
       "version_minor": 0
      },
      "text/plain": [
       "  0%|          | 0/342 [00:00<?, ?it/s]"
      ]
     },
     "metadata": {},
     "output_type": "display_data"
    },
    {
     "name": "stdout",
     "output_type": "stream",
     "text": [
      "train Loss: 0.3770 Acc: 0.8695 AUC: 0.5004\n"
     ]
    },
    {
     "data": {
      "application/vnd.jupyter.widget-view+json": {
       "model_id": "7093304114c84f6393bad12826c96e68",
       "version_major": 2,
       "version_minor": 0
      },
      "text/plain": [
       "  0%|          | 0/91 [00:00<?, ?it/s]"
      ]
     },
     "metadata": {},
     "output_type": "display_data"
    },
    {
     "name": "stdout",
     "output_type": "stream",
     "text": [
      "test Loss: 0.4075 Acc: 0.8702 AUC: 0.5000\n",
      "\n",
      "Epoch 22/99\n",
      "----------\n"
     ]
    },
    {
     "data": {
      "application/vnd.jupyter.widget-view+json": {
       "model_id": "7ae70923097b4d6fb490246f88ff612f",
       "version_major": 2,
       "version_minor": 0
      },
      "text/plain": [
       "  0%|          | 0/342 [00:00<?, ?it/s]"
      ]
     },
     "metadata": {},
     "output_type": "display_data"
    },
    {
     "name": "stdout",
     "output_type": "stream",
     "text": [
      "train Loss: 0.3727 Acc: 0.8690 AUC: 0.4998\n"
     ]
    },
    {
     "data": {
      "application/vnd.jupyter.widget-view+json": {
       "model_id": "4fa1b175c1cc4c678a63462dacd3f297",
       "version_major": 2,
       "version_minor": 0
      },
      "text/plain": [
       "  0%|          | 0/91 [00:00<?, ?it/s]"
      ]
     },
     "metadata": {},
     "output_type": "display_data"
    },
    {
     "name": "stdout",
     "output_type": "stream",
     "text": [
      "test Loss: 0.3835 Acc: 0.8702 AUC: 0.5000\n",
      "\n",
      "Epoch 23/99\n",
      "----------\n"
     ]
    },
    {
     "data": {
      "application/vnd.jupyter.widget-view+json": {
       "model_id": "101e9e552f514957b95654e4b6d8b495",
       "version_major": 2,
       "version_minor": 0
      },
      "text/plain": [
       "  0%|          | 0/342 [00:00<?, ?it/s]"
      ]
     },
     "metadata": {},
     "output_type": "display_data"
    },
    {
     "name": "stdout",
     "output_type": "stream",
     "text": [
      "train Loss: 0.3691 Acc: 0.8707 AUC: 0.5077\n"
     ]
    },
    {
     "data": {
      "application/vnd.jupyter.widget-view+json": {
       "model_id": "fd9abc63da6c405e9cc5ff74b46143d2",
       "version_major": 2,
       "version_minor": 0
      },
      "text/plain": [
       "  0%|          | 0/91 [00:00<?, ?it/s]"
      ]
     },
     "metadata": {},
     "output_type": "display_data"
    },
    {
     "name": "stdout",
     "output_type": "stream",
     "text": [
      "test Loss: 0.4018 Acc: 0.8702 AUC: 0.5000\n",
      "\n",
      "Epoch 24/99\n",
      "----------\n"
     ]
    },
    {
     "data": {
      "application/vnd.jupyter.widget-view+json": {
       "model_id": "96559632b3ae46a3922e689b1322127a",
       "version_major": 2,
       "version_minor": 0
      },
      "text/plain": [
       "  0%|          | 0/342 [00:00<?, ?it/s]"
      ]
     },
     "metadata": {},
     "output_type": "display_data"
    },
    {
     "name": "stdout",
     "output_type": "stream",
     "text": [
      "train Loss: 0.3685 Acc: 0.8699 AUC: 0.5054\n"
     ]
    },
    {
     "data": {
      "application/vnd.jupyter.widget-view+json": {
       "model_id": "0eebd1207978442fb6c8bbd5f59dc171",
       "version_major": 2,
       "version_minor": 0
      },
      "text/plain": [
       "  0%|          | 0/91 [00:00<?, ?it/s]"
      ]
     },
     "metadata": {},
     "output_type": "display_data"
    },
    {
     "name": "stdout",
     "output_type": "stream",
     "text": [
      "test Loss: 0.3927 Acc: 0.8560 AUC: 0.4975\n",
      "\n",
      "Epoch 25/99\n",
      "----------\n"
     ]
    },
    {
     "data": {
      "application/vnd.jupyter.widget-view+json": {
       "model_id": "df5a7bf4da544d8e8f6951c28835317c",
       "version_major": 2,
       "version_minor": 0
      },
      "text/plain": [
       "  0%|          | 0/342 [00:00<?, ?it/s]"
      ]
     },
     "metadata": {},
     "output_type": "display_data"
    },
    {
     "name": "stdout",
     "output_type": "stream",
     "text": [
      "train Loss: 0.3618 Acc: 0.8718 AUC: 0.5182\n"
     ]
    },
    {
     "data": {
      "application/vnd.jupyter.widget-view+json": {
       "model_id": "a24e3175847a4d39ac2c021aad3382c1",
       "version_major": 2,
       "version_minor": 0
      },
      "text/plain": [
       "  0%|          | 0/91 [00:00<?, ?it/s]"
      ]
     },
     "metadata": {},
     "output_type": "display_data"
    },
    {
     "name": "stdout",
     "output_type": "stream",
     "text": [
      "test Loss: 0.4032 Acc: 0.8466 AUC: 0.5046\n",
      "\n",
      "Epoch 26/99\n",
      "----------\n"
     ]
    },
    {
     "data": {
      "application/vnd.jupyter.widget-view+json": {
       "model_id": "bcd7d8f0bcb147f0acb90515442812d9",
       "version_major": 2,
       "version_minor": 0
      },
      "text/plain": [
       "  0%|          | 0/342 [00:00<?, ?it/s]"
      ]
     },
     "metadata": {},
     "output_type": "display_data"
    },
    {
     "name": "stdout",
     "output_type": "stream",
     "text": [
      "train Loss: 0.3588 Acc: 0.8720 AUC: 0.5260\n"
     ]
    },
    {
     "data": {
      "application/vnd.jupyter.widget-view+json": {
       "model_id": "c050a4993d96415190ec84bbcc492c95",
       "version_major": 2,
       "version_minor": 0
      },
      "text/plain": [
       "  0%|          | 0/91 [00:00<?, ?it/s]"
      ]
     },
     "metadata": {},
     "output_type": "display_data"
    },
    {
     "name": "stdout",
     "output_type": "stream",
     "text": [
      "test Loss: 0.4150 Acc: 0.8414 AUC: 0.5153\n",
      "\n",
      "Epoch 27/99\n",
      "----------\n"
     ]
    },
    {
     "data": {
      "application/vnd.jupyter.widget-view+json": {
       "model_id": "8bdd2e0a9cd74547b7b6e547387cf6de",
       "version_major": 2,
       "version_minor": 0
      },
      "text/plain": [
       "  0%|          | 0/342 [00:00<?, ?it/s]"
      ]
     },
     "metadata": {},
     "output_type": "display_data"
    },
    {
     "name": "stdout",
     "output_type": "stream",
     "text": [
      "train Loss: 0.3597 Acc: 0.8736 AUC: 0.5339\n"
     ]
    },
    {
     "data": {
      "application/vnd.jupyter.widget-view+json": {
       "model_id": "1b96cc027a7e43f6b38c06b3ad581f2d",
       "version_major": 2,
       "version_minor": 0
      },
      "text/plain": [
       "  0%|          | 0/91 [00:00<?, ?it/s]"
      ]
     },
     "metadata": {},
     "output_type": "display_data"
    },
    {
     "name": "stdout",
     "output_type": "stream",
     "text": [
      "test Loss: 0.4005 Acc: 0.8566 AUC: 0.5047\n",
      "\n",
      "Epoch 28/99\n",
      "----------\n"
     ]
    },
    {
     "data": {
      "application/vnd.jupyter.widget-view+json": {
       "model_id": "6954855055374ea19078678ff789d812",
       "version_major": 2,
       "version_minor": 0
      },
      "text/plain": [
       "  0%|          | 0/342 [00:00<?, ?it/s]"
      ]
     },
     "metadata": {},
     "output_type": "display_data"
    },
    {
     "name": "stdout",
     "output_type": "stream",
     "text": [
      "train Loss: 0.3628 Acc: 0.8706 AUC: 0.5199\n"
     ]
    },
    {
     "data": {
      "application/vnd.jupyter.widget-view+json": {
       "model_id": "c1e5b58a294446059af20085b39241ff",
       "version_major": 2,
       "version_minor": 0
      },
      "text/plain": [
       "  0%|          | 0/91 [00:00<?, ?it/s]"
      ]
     },
     "metadata": {},
     "output_type": "display_data"
    },
    {
     "name": "stdout",
     "output_type": "stream",
     "text": [
      "test Loss: 0.3984 Acc: 0.8553 AUC: 0.5051\n",
      "\n",
      "Epoch 29/99\n",
      "----------\n"
     ]
    },
    {
     "data": {
      "application/vnd.jupyter.widget-view+json": {
       "model_id": "a79f8978abee4fa188b81a3e11496c6b",
       "version_major": 2,
       "version_minor": 0
      },
      "text/plain": [
       "  0%|          | 0/342 [00:00<?, ?it/s]"
      ]
     },
     "metadata": {},
     "output_type": "display_data"
    },
    {
     "name": "stdout",
     "output_type": "stream",
     "text": [
      "train Loss: 0.3542 Acc: 0.8728 AUC: 0.5283\n"
     ]
    },
    {
     "data": {
      "application/vnd.jupyter.widget-view+json": {
       "model_id": "4c573f2ebc6145ce8007b01c554969f5",
       "version_major": 2,
       "version_minor": 0
      },
      "text/plain": [
       "  0%|          | 0/91 [00:00<?, ?it/s]"
      ]
     },
     "metadata": {},
     "output_type": "display_data"
    },
    {
     "name": "stdout",
     "output_type": "stream",
     "text": [
      "test Loss: 0.4045 Acc: 0.8372 AUC: 0.5175\n",
      "\n",
      "Epoch 30/99\n",
      "----------\n"
     ]
    },
    {
     "data": {
      "application/vnd.jupyter.widget-view+json": {
       "model_id": "302d8c6371364a7d963f33cb0725ca90",
       "version_major": 2,
       "version_minor": 0
      },
      "text/plain": [
       "  0%|          | 0/342 [00:00<?, ?it/s]"
      ]
     },
     "metadata": {},
     "output_type": "display_data"
    },
    {
     "name": "stdout",
     "output_type": "stream",
     "text": [
      "train Loss: 0.3531 Acc: 0.8737 AUC: 0.5444\n"
     ]
    },
    {
     "data": {
      "application/vnd.jupyter.widget-view+json": {
       "model_id": "5701313a4d6b44549d7464aec7ce7277",
       "version_major": 2,
       "version_minor": 0
      },
      "text/plain": [
       "  0%|          | 0/91 [00:00<?, ?it/s]"
      ]
     },
     "metadata": {},
     "output_type": "display_data"
    },
    {
     "name": "stdout",
     "output_type": "stream",
     "text": [
      "test Loss: 0.3998 Acc: 0.8473 AUC: 0.5141\n",
      "\n",
      "Epoch 31/99\n",
      "----------\n"
     ]
    },
    {
     "data": {
      "application/vnd.jupyter.widget-view+json": {
       "model_id": "b3b227f085ee48b382bd705c6ce01040",
       "version_major": 2,
       "version_minor": 0
      },
      "text/plain": [
       "  0%|          | 0/342 [00:00<?, ?it/s]"
      ]
     },
     "metadata": {},
     "output_type": "display_data"
    },
    {
     "name": "stdout",
     "output_type": "stream",
     "text": [
      "train Loss: 0.3529 Acc: 0.8734 AUC: 0.5362\n"
     ]
    },
    {
     "data": {
      "application/vnd.jupyter.widget-view+json": {
       "model_id": "8fcb0380a2314a49b3ad9428e0f0759e",
       "version_major": 2,
       "version_minor": 0
      },
      "text/plain": [
       "  0%|          | 0/91 [00:00<?, ?it/s]"
      ]
     },
     "metadata": {},
     "output_type": "display_data"
    },
    {
     "name": "stdout",
     "output_type": "stream",
     "text": [
      "test Loss: 0.4795 Acc: 0.7650 AUC: 0.5317\n",
      "\n",
      "Epoch 32/99\n",
      "----------\n"
     ]
    },
    {
     "data": {
      "application/vnd.jupyter.widget-view+json": {
       "model_id": "2e0b5fa6ca5144489fe9936c672fa54b",
       "version_major": 2,
       "version_minor": 0
      },
      "text/plain": [
       "  0%|          | 0/342 [00:00<?, ?it/s]"
      ]
     },
     "metadata": {},
     "output_type": "display_data"
    },
    {
     "name": "stdout",
     "output_type": "stream",
     "text": [
      "train Loss: 0.3472 Acc: 0.8731 AUC: 0.5410\n"
     ]
    },
    {
     "data": {
      "application/vnd.jupyter.widget-view+json": {
       "model_id": "0ab35e74a1c742fd9416cc89fc101158",
       "version_major": 2,
       "version_minor": 0
      },
      "text/plain": [
       "  0%|          | 0/91 [00:00<?, ?it/s]"
      ]
     },
     "metadata": {},
     "output_type": "display_data"
    },
    {
     "name": "stdout",
     "output_type": "stream",
     "text": [
      "test Loss: 0.4418 Acc: 0.8112 AUC: 0.5321\n",
      "\n",
      "Epoch 33/99\n",
      "----------\n"
     ]
    },
    {
     "data": {
      "application/vnd.jupyter.widget-view+json": {
       "model_id": "e656120a29d34c34b58193fa990f2621",
       "version_major": 2,
       "version_minor": 0
      },
      "text/plain": [
       "  0%|          | 0/342 [00:00<?, ?it/s]"
      ]
     },
     "metadata": {},
     "output_type": "display_data"
    },
    {
     "name": "stdout",
     "output_type": "stream",
     "text": [
      "train Loss: 0.3474 Acc: 0.8753 AUC: 0.5519\n"
     ]
    },
    {
     "data": {
      "application/vnd.jupyter.widget-view+json": {
       "model_id": "dff3de555fd246c58c578217eaa48067",
       "version_major": 2,
       "version_minor": 0
      },
      "text/plain": [
       "  0%|          | 0/91 [00:00<?, ?it/s]"
      ]
     },
     "metadata": {},
     "output_type": "display_data"
    },
    {
     "name": "stdout",
     "output_type": "stream",
     "text": [
      "test Loss: 0.4394 Acc: 0.8119 AUC: 0.5291\n",
      "\n",
      "Epoch 34/99\n",
      "----------\n"
     ]
    },
    {
     "data": {
      "application/vnd.jupyter.widget-view+json": {
       "model_id": "55c016eebe254e5c8ad7503ebe87c4fd",
       "version_major": 2,
       "version_minor": 0
      },
      "text/plain": [
       "  0%|          | 0/342 [00:00<?, ?it/s]"
      ]
     },
     "metadata": {},
     "output_type": "display_data"
    },
    {
     "name": "stdout",
     "output_type": "stream",
     "text": [
      "train Loss: 0.3422 Acc: 0.8748 AUC: 0.5549\n"
     ]
    },
    {
     "data": {
      "application/vnd.jupyter.widget-view+json": {
       "model_id": "c1c70af69a0e42e78fc0571650bc2ed2",
       "version_major": 2,
       "version_minor": 0
      },
      "text/plain": [
       "  0%|          | 0/91 [00:00<?, ?it/s]"
      ]
     },
     "metadata": {},
     "output_type": "display_data"
    },
    {
     "name": "stdout",
     "output_type": "stream",
     "text": [
      "test Loss: 0.4081 Acc: 0.8577 AUC: 0.5144\n",
      "\n",
      "Epoch 35/99\n",
      "----------\n"
     ]
    },
    {
     "data": {
      "application/vnd.jupyter.widget-view+json": {
       "model_id": "f399ed9f518b4f91870bdaf0c9d6dd28",
       "version_major": 2,
       "version_minor": 0
      },
      "text/plain": [
       "  0%|          | 0/342 [00:00<?, ?it/s]"
      ]
     },
     "metadata": {},
     "output_type": "display_data"
    },
    {
     "name": "stdout",
     "output_type": "stream",
     "text": [
      "train Loss: 0.3403 Acc: 0.8767 AUC: 0.5575\n"
     ]
    },
    {
     "data": {
      "application/vnd.jupyter.widget-view+json": {
       "model_id": "d8d6f483b4ab47a4ac773c7edd9d5446",
       "version_major": 2,
       "version_minor": 0
      },
      "text/plain": [
       "  0%|          | 0/91 [00:00<?, ?it/s]"
      ]
     },
     "metadata": {},
     "output_type": "display_data"
    },
    {
     "name": "stdout",
     "output_type": "stream",
     "text": [
      "test Loss: 0.4465 Acc: 0.8025 AUC: 0.5214\n",
      "\n",
      "Epoch 36/99\n",
      "----------\n"
     ]
    },
    {
     "data": {
      "application/vnd.jupyter.widget-view+json": {
       "model_id": "23e4cddef03444b88c308baf66f4b2cd",
       "version_major": 2,
       "version_minor": 0
      },
      "text/plain": [
       "  0%|          | 0/342 [00:00<?, ?it/s]"
      ]
     },
     "metadata": {},
     "output_type": "display_data"
    },
    {
     "name": "stdout",
     "output_type": "stream",
     "text": [
      "train Loss: 0.3352 Acc: 0.8766 AUC: 0.5688\n"
     ]
    },
    {
     "data": {
      "application/vnd.jupyter.widget-view+json": {
       "model_id": "2ba67df67f09401389ec6e863ea3ae4c",
       "version_major": 2,
       "version_minor": 0
      },
      "text/plain": [
       "  0%|          | 0/91 [00:00<?, ?it/s]"
      ]
     },
     "metadata": {},
     "output_type": "display_data"
    },
    {
     "name": "stdout",
     "output_type": "stream",
     "text": [
      "test Loss: 0.4219 Acc: 0.8393 AUC: 0.5312\n",
      "\n",
      "Epoch 37/99\n",
      "----------\n"
     ]
    },
    {
     "data": {
      "application/vnd.jupyter.widget-view+json": {
       "model_id": "b472f42132a64b768ea16bb9aa04ff00",
       "version_major": 2,
       "version_minor": 0
      },
      "text/plain": [
       "  0%|          | 0/342 [00:00<?, ?it/s]"
      ]
     },
     "metadata": {},
     "output_type": "display_data"
    },
    {
     "name": "stdout",
     "output_type": "stream",
     "text": [
      "train Loss: 0.3352 Acc: 0.8786 AUC: 0.5685\n"
     ]
    },
    {
     "data": {
      "application/vnd.jupyter.widget-view+json": {
       "model_id": "1d79df5d096d4e92baf320900e354945",
       "version_major": 2,
       "version_minor": 0
      },
      "text/plain": [
       "  0%|          | 0/91 [00:00<?, ?it/s]"
      ]
     },
     "metadata": {},
     "output_type": "display_data"
    },
    {
     "name": "stdout",
     "output_type": "stream",
     "text": [
      "test Loss: 0.4134 Acc: 0.8462 AUC: 0.5386\n",
      "\n",
      "Epoch 38/99\n",
      "----------\n"
     ]
    },
    {
     "data": {
      "application/vnd.jupyter.widget-view+json": {
       "model_id": "cf4c60210f434b9aa1c9261ee7410f39",
       "version_major": 2,
       "version_minor": 0
      },
      "text/plain": [
       "  0%|          | 0/342 [00:00<?, ?it/s]"
      ]
     },
     "metadata": {},
     "output_type": "display_data"
    },
    {
     "name": "stdout",
     "output_type": "stream",
     "text": [
      "train Loss: 0.3320 Acc: 0.8786 AUC: 0.5772\n"
     ]
    },
    {
     "data": {
      "application/vnd.jupyter.widget-view+json": {
       "model_id": "10e16e08350646ac8b48701b227ee260",
       "version_major": 2,
       "version_minor": 0
      },
      "text/plain": [
       "  0%|          | 0/91 [00:00<?, ?it/s]"
      ]
     },
     "metadata": {},
     "output_type": "display_data"
    },
    {
     "name": "stdout",
     "output_type": "stream",
     "text": [
      "test Loss: 0.4330 Acc: 0.8282 AUC: 0.5282\n",
      "\n",
      "Epoch 39/99\n",
      "----------\n"
     ]
    },
    {
     "data": {
      "application/vnd.jupyter.widget-view+json": {
       "model_id": "7563017835fc4f268d200042e2c3f0e8",
       "version_major": 2,
       "version_minor": 0
      },
      "text/plain": [
       "  0%|          | 0/342 [00:00<?, ?it/s]"
      ]
     },
     "metadata": {},
     "output_type": "display_data"
    },
    {
     "name": "stdout",
     "output_type": "stream",
     "text": [
      "train Loss: 0.3298 Acc: 0.8789 AUC: 0.5791\n"
     ]
    },
    {
     "data": {
      "application/vnd.jupyter.widget-view+json": {
       "model_id": "0dadc3e76e2f47dc95dac7378e882b32",
       "version_major": 2,
       "version_minor": 0
      },
      "text/plain": [
       "  0%|          | 0/91 [00:00<?, ?it/s]"
      ]
     },
     "metadata": {},
     "output_type": "display_data"
    },
    {
     "name": "stdout",
     "output_type": "stream",
     "text": [
      "test Loss: 0.4522 Acc: 0.8153 AUC: 0.5538\n",
      "\n",
      "Epoch 40/99\n",
      "----------\n"
     ]
    },
    {
     "data": {
      "application/vnd.jupyter.widget-view+json": {
       "model_id": "c0a2347dec5c4cc6846c127428012d69",
       "version_major": 2,
       "version_minor": 0
      },
      "text/plain": [
       "  0%|          | 0/342 [00:00<?, ?it/s]"
      ]
     },
     "metadata": {},
     "output_type": "display_data"
    },
    {
     "name": "stdout",
     "output_type": "stream",
     "text": [
      "train Loss: 0.3290 Acc: 0.8812 AUC: 0.5810\n"
     ]
    },
    {
     "data": {
      "application/vnd.jupyter.widget-view+json": {
       "model_id": "f2b16825a1b64647a07c529a997efbdf",
       "version_major": 2,
       "version_minor": 0
      },
      "text/plain": [
       "  0%|          | 0/91 [00:00<?, ?it/s]"
      ]
     },
     "metadata": {},
     "output_type": "display_data"
    },
    {
     "name": "stdout",
     "output_type": "stream",
     "text": [
      "test Loss: 0.4746 Acc: 0.7730 AUC: 0.5465\n",
      "\n",
      "Epoch 41/99\n",
      "----------\n"
     ]
    },
    {
     "data": {
      "application/vnd.jupyter.widget-view+json": {
       "model_id": "02ee56ba15d448efbbb556a4faa20302",
       "version_major": 2,
       "version_minor": 0
      },
      "text/plain": [
       "  0%|          | 0/342 [00:00<?, ?it/s]"
      ]
     },
     "metadata": {},
     "output_type": "display_data"
    },
    {
     "name": "stdout",
     "output_type": "stream",
     "text": [
      "train Loss: 0.3235 Acc: 0.8827 AUC: 0.5900\n"
     ]
    },
    {
     "data": {
      "application/vnd.jupyter.widget-view+json": {
       "model_id": "863a744aabae4398b8eadde20fd5ddd0",
       "version_major": 2,
       "version_minor": 0
      },
      "text/plain": [
       "  0%|          | 0/91 [00:00<?, ?it/s]"
      ]
     },
     "metadata": {},
     "output_type": "display_data"
    },
    {
     "name": "stdout",
     "output_type": "stream",
     "text": [
      "test Loss: 0.4513 Acc: 0.8053 AUC: 0.5071\n",
      "\n",
      "Epoch 42/99\n",
      "----------\n"
     ]
    },
    {
     "data": {
      "application/vnd.jupyter.widget-view+json": {
       "model_id": "9c6d9e0331fa44e6a4c054564f7ca310",
       "version_major": 2,
       "version_minor": 0
      },
      "text/plain": [
       "  0%|          | 0/342 [00:00<?, ?it/s]"
      ]
     },
     "metadata": {},
     "output_type": "display_data"
    },
    {
     "name": "stdout",
     "output_type": "stream",
     "text": [
      "train Loss: 0.3259 Acc: 0.8812 AUC: 0.5936\n"
     ]
    },
    {
     "data": {
      "application/vnd.jupyter.widget-view+json": {
       "model_id": "473a48bb60e64885890b2e5663bb989c",
       "version_major": 2,
       "version_minor": 0
      },
      "text/plain": [
       "  0%|          | 0/91 [00:00<?, ?it/s]"
      ]
     },
     "metadata": {},
     "output_type": "display_data"
    },
    {
     "name": "stdout",
     "output_type": "stream",
     "text": [
      "test Loss: 0.4370 Acc: 0.8351 AUC: 0.5049\n",
      "\n",
      "Epoch 43/99\n",
      "----------\n"
     ]
    },
    {
     "data": {
      "application/vnd.jupyter.widget-view+json": {
       "model_id": "906da6f265bb48e1b5b3a3c988156e22",
       "version_major": 2,
       "version_minor": 0
      },
      "text/plain": [
       "  0%|          | 0/342 [00:00<?, ?it/s]"
      ]
     },
     "metadata": {},
     "output_type": "display_data"
    },
    {
     "name": "stdout",
     "output_type": "stream",
     "text": [
      "train Loss: 0.3234 Acc: 0.8798 AUC: 0.5877\n"
     ]
    },
    {
     "data": {
      "application/vnd.jupyter.widget-view+json": {
       "model_id": "b30b3903f2944339a0b60916b5b4d6e6",
       "version_major": 2,
       "version_minor": 0
      },
      "text/plain": [
       "  0%|          | 0/91 [00:00<?, ?it/s]"
      ]
     },
     "metadata": {},
     "output_type": "display_data"
    },
    {
     "name": "stdout",
     "output_type": "stream",
     "text": [
      "test Loss: 0.4349 Acc: 0.8299 AUC: 0.5155\n",
      "\n",
      "Epoch 44/99\n",
      "----------\n"
     ]
    },
    {
     "data": {
      "application/vnd.jupyter.widget-view+json": {
       "model_id": "f9c9d0e9241249bbb9e5b5f1ccdfa535",
       "version_major": 2,
       "version_minor": 0
      },
      "text/plain": [
       "  0%|          | 0/342 [00:00<?, ?it/s]"
      ]
     },
     "metadata": {},
     "output_type": "display_data"
    },
    {
     "name": "stdout",
     "output_type": "stream",
     "text": [
      "train Loss: 0.3214 Acc: 0.8795 AUC: 0.5893\n"
     ]
    },
    {
     "data": {
      "application/vnd.jupyter.widget-view+json": {
       "model_id": "2fa761033c8d442f88ecc55c1be03def",
       "version_major": 2,
       "version_minor": 0
      },
      "text/plain": [
       "  0%|          | 0/91 [00:00<?, ?it/s]"
      ]
     },
     "metadata": {},
     "output_type": "display_data"
    },
    {
     "name": "stdout",
     "output_type": "stream",
     "text": [
      "test Loss: 0.4396 Acc: 0.8330 AUC: 0.5310\n",
      "\n",
      "Epoch 45/99\n",
      "----------\n"
     ]
    },
    {
     "data": {
      "application/vnd.jupyter.widget-view+json": {
       "model_id": "b8055d19a4234317b3b27866366e1fa6",
       "version_major": 2,
       "version_minor": 0
      },
      "text/plain": [
       "  0%|          | 0/342 [00:00<?, ?it/s]"
      ]
     },
     "metadata": {},
     "output_type": "display_data"
    },
    {
     "name": "stdout",
     "output_type": "stream",
     "text": [
      "train Loss: 0.3192 Acc: 0.8829 AUC: 0.5972\n"
     ]
    },
    {
     "data": {
      "application/vnd.jupyter.widget-view+json": {
       "model_id": "d85963a9eed645f8bd64cfab5fcb77fe",
       "version_major": 2,
       "version_minor": 0
      },
      "text/plain": [
       "  0%|          | 0/91 [00:00<?, ?it/s]"
      ]
     },
     "metadata": {},
     "output_type": "display_data"
    },
    {
     "name": "stdout",
     "output_type": "stream",
     "text": [
      "test Loss: 0.4451 Acc: 0.8167 AUC: 0.5353\n",
      "\n",
      "Epoch 46/99\n",
      "----------\n"
     ]
    },
    {
     "data": {
      "application/vnd.jupyter.widget-view+json": {
       "model_id": "6723033df3eb427e95f7361e363c585c",
       "version_major": 2,
       "version_minor": 0
      },
      "text/plain": [
       "  0%|          | 0/342 [00:00<?, ?it/s]"
      ]
     },
     "metadata": {},
     "output_type": "display_data"
    },
    {
     "name": "stdout",
     "output_type": "stream",
     "text": [
      "train Loss: 0.3173 Acc: 0.8833 AUC: 0.6017\n"
     ]
    },
    {
     "data": {
      "application/vnd.jupyter.widget-view+json": {
       "model_id": "471f3684dafa49beafbb73c8b254eac3",
       "version_major": 2,
       "version_minor": 0
      },
      "text/plain": [
       "  0%|          | 0/91 [00:00<?, ?it/s]"
      ]
     },
     "metadata": {},
     "output_type": "display_data"
    },
    {
     "name": "stdout",
     "output_type": "stream",
     "text": [
      "test Loss: 0.4307 Acc: 0.8205 AUC: 0.5420\n",
      "\n",
      "Epoch 47/99\n",
      "----------\n"
     ]
    },
    {
     "data": {
      "application/vnd.jupyter.widget-view+json": {
       "model_id": "994dd17f0cd44644b790a3897a5f70c9",
       "version_major": 2,
       "version_minor": 0
      },
      "text/plain": [
       "  0%|          | 0/342 [00:00<?, ?it/s]"
      ]
     },
     "metadata": {},
     "output_type": "display_data"
    },
    {
     "name": "stdout",
     "output_type": "stream",
     "text": [
      "train Loss: 0.3143 Acc: 0.8831 AUC: 0.6019\n"
     ]
    },
    {
     "data": {
      "application/vnd.jupyter.widget-view+json": {
       "model_id": "372c657636dd4c60a002693ce6f21d66",
       "version_major": 2,
       "version_minor": 0
      },
      "text/plain": [
       "  0%|          | 0/91 [00:00<?, ?it/s]"
      ]
     },
     "metadata": {},
     "output_type": "display_data"
    },
    {
     "name": "stdout",
     "output_type": "stream",
     "text": [
      "test Loss: 0.4563 Acc: 0.7966 AUC: 0.5510\n",
      "\n",
      "Epoch 48/99\n",
      "----------\n"
     ]
    },
    {
     "data": {
      "application/vnd.jupyter.widget-view+json": {
       "model_id": "98adad230dd64ed184dfcde13c2e8e12",
       "version_major": 2,
       "version_minor": 0
      },
      "text/plain": [
       "  0%|          | 0/342 [00:00<?, ?it/s]"
      ]
     },
     "metadata": {},
     "output_type": "display_data"
    },
    {
     "name": "stdout",
     "output_type": "stream",
     "text": [
      "train Loss: 0.3208 Acc: 0.8805 AUC: 0.5866\n"
     ]
    },
    {
     "data": {
      "application/vnd.jupyter.widget-view+json": {
       "model_id": "b3d6b569bb244e5ebf792abbfe42b43e",
       "version_major": 2,
       "version_minor": 0
      },
      "text/plain": [
       "  0%|          | 0/91 [00:00<?, ?it/s]"
      ]
     },
     "metadata": {},
     "output_type": "display_data"
    },
    {
     "name": "stdout",
     "output_type": "stream",
     "text": [
      "test Loss: 0.4117 Acc: 0.8455 AUC: 0.5325\n",
      "\n",
      "Epoch 49/99\n",
      "----------\n"
     ]
    },
    {
     "data": {
      "application/vnd.jupyter.widget-view+json": {
       "model_id": "3b8f148697364d72b1218de22d220c39",
       "version_major": 2,
       "version_minor": 0
      },
      "text/plain": [
       "  0%|          | 0/342 [00:00<?, ?it/s]"
      ]
     },
     "metadata": {},
     "output_type": "display_data"
    },
    {
     "name": "stdout",
     "output_type": "stream",
     "text": [
      "train Loss: 0.3139 Acc: 0.8840 AUC: 0.6057\n"
     ]
    },
    {
     "data": {
      "application/vnd.jupyter.widget-view+json": {
       "model_id": "f36c66b9b9724c47b0c988680d1c3fc4",
       "version_major": 2,
       "version_minor": 0
      },
      "text/plain": [
       "  0%|          | 0/91 [00:00<?, ?it/s]"
      ]
     },
     "metadata": {},
     "output_type": "display_data"
    },
    {
     "name": "stdout",
     "output_type": "stream",
     "text": [
      "test Loss: 0.4272 Acc: 0.8337 AUC: 0.5086\n",
      "\n",
      "Epoch 50/99\n",
      "----------\n"
     ]
    },
    {
     "data": {
      "application/vnd.jupyter.widget-view+json": {
       "model_id": "75b431014adf4bd9950ab02f520cfe4a",
       "version_major": 2,
       "version_minor": 0
      },
      "text/plain": [
       "  0%|          | 0/342 [00:00<?, ?it/s]"
      ]
     },
     "metadata": {},
     "output_type": "display_data"
    },
    {
     "name": "stdout",
     "output_type": "stream",
     "text": [
      "train Loss: 0.3118 Acc: 0.8847 AUC: 0.6091\n"
     ]
    },
    {
     "data": {
      "application/vnd.jupyter.widget-view+json": {
       "model_id": "7722cacdee9447988c0d51697f8650bf",
       "version_major": 2,
       "version_minor": 0
      },
      "text/plain": [
       "  0%|          | 0/91 [00:00<?, ?it/s]"
      ]
     },
     "metadata": {},
     "output_type": "display_data"
    },
    {
     "name": "stdout",
     "output_type": "stream",
     "text": [
      "test Loss: 0.4262 Acc: 0.8563 AUC: 0.5148\n",
      "\n",
      "Epoch 51/99\n",
      "----------\n"
     ]
    },
    {
     "data": {
      "application/vnd.jupyter.widget-view+json": {
       "model_id": "edb644867544443eb3529c963ccce74e",
       "version_major": 2,
       "version_minor": 0
      },
      "text/plain": [
       "  0%|          | 0/342 [00:00<?, ?it/s]"
      ]
     },
     "metadata": {},
     "output_type": "display_data"
    },
    {
     "name": "stdout",
     "output_type": "stream",
     "text": [
      "train Loss: 0.3124 Acc: 0.8844 AUC: 0.6059\n"
     ]
    },
    {
     "data": {
      "application/vnd.jupyter.widget-view+json": {
       "model_id": "9f578cb3c4d84965b27ce4e79a6d069c",
       "version_major": 2,
       "version_minor": 0
      },
      "text/plain": [
       "  0%|          | 0/91 [00:00<?, ?it/s]"
      ]
     },
     "metadata": {},
     "output_type": "display_data"
    },
    {
     "name": "stdout",
     "output_type": "stream",
     "text": [
      "test Loss: 0.4366 Acc: 0.8209 AUC: 0.5263\n",
      "\n",
      "Epoch 52/99\n",
      "----------\n"
     ]
    },
    {
     "data": {
      "application/vnd.jupyter.widget-view+json": {
       "model_id": "2c23cb5cf6b242478a37b75c7442437f",
       "version_major": 2,
       "version_minor": 0
      },
      "text/plain": [
       "  0%|          | 0/342 [00:00<?, ?it/s]"
      ]
     },
     "metadata": {},
     "output_type": "display_data"
    },
    {
     "name": "stdout",
     "output_type": "stream",
     "text": [
      "train Loss: 0.3063 Acc: 0.8865 AUC: 0.6116\n"
     ]
    },
    {
     "data": {
      "application/vnd.jupyter.widget-view+json": {
       "model_id": "1c734504fe984c9c9cb65074c8d3211e",
       "version_major": 2,
       "version_minor": 0
      },
      "text/plain": [
       "  0%|          | 0/91 [00:00<?, ?it/s]"
      ]
     },
     "metadata": {},
     "output_type": "display_data"
    },
    {
     "name": "stdout",
     "output_type": "stream",
     "text": [
      "test Loss: 0.4896 Acc: 0.7838 AUC: 0.5447\n",
      "\n",
      "Epoch 53/99\n",
      "----------\n"
     ]
    },
    {
     "data": {
      "application/vnd.jupyter.widget-view+json": {
       "model_id": "94cb846c06544ce48b05852beb91a547",
       "version_major": 2,
       "version_minor": 0
      },
      "text/plain": [
       "  0%|          | 0/342 [00:00<?, ?it/s]"
      ]
     },
     "metadata": {},
     "output_type": "display_data"
    },
    {
     "name": "stdout",
     "output_type": "stream",
     "text": [
      "train Loss: 0.3072 Acc: 0.8859 AUC: 0.6172\n"
     ]
    },
    {
     "data": {
      "application/vnd.jupyter.widget-view+json": {
       "model_id": "f1a2ad0a56c749d0bf5ecdf577edbe00",
       "version_major": 2,
       "version_minor": 0
      },
      "text/plain": [
       "  0%|          | 0/91 [00:00<?, ?it/s]"
      ]
     },
     "metadata": {},
     "output_type": "display_data"
    },
    {
     "name": "stdout",
     "output_type": "stream",
     "text": [
      "test Loss: 0.4453 Acc: 0.8271 AUC: 0.5208\n",
      "\n",
      "Epoch 54/99\n",
      "----------\n"
     ]
    },
    {
     "data": {
      "application/vnd.jupyter.widget-view+json": {
       "model_id": "b68bb3d25c4646b38df9419721f21c98",
       "version_major": 2,
       "version_minor": 0
      },
      "text/plain": [
       "  0%|          | 0/342 [00:00<?, ?it/s]"
      ]
     },
     "metadata": {},
     "output_type": "display_data"
    },
    {
     "name": "stdout",
     "output_type": "stream",
     "text": [
      "train Loss: 0.3054 Acc: 0.8865 AUC: 0.6170\n"
     ]
    },
    {
     "data": {
      "application/vnd.jupyter.widget-view+json": {
       "model_id": "0786cd46f81e411f9cf59b5b036824aa",
       "version_major": 2,
       "version_minor": 0
      },
      "text/plain": [
       "  0%|          | 0/91 [00:00<?, ?it/s]"
      ]
     },
     "metadata": {},
     "output_type": "display_data"
    },
    {
     "name": "stdout",
     "output_type": "stream",
     "text": [
      "test Loss: 0.4268 Acc: 0.8514 AUC: 0.5177\n",
      "\n",
      "Epoch 55/99\n",
      "----------\n"
     ]
    },
    {
     "data": {
      "application/vnd.jupyter.widget-view+json": {
       "model_id": "150e3554652b468a8acec0aa2a984e58",
       "version_major": 2,
       "version_minor": 0
      },
      "text/plain": [
       "  0%|          | 0/342 [00:00<?, ?it/s]"
      ]
     },
     "metadata": {},
     "output_type": "display_data"
    },
    {
     "name": "stdout",
     "output_type": "stream",
     "text": [
      "train Loss: 0.3021 Acc: 0.8893 AUC: 0.6300\n"
     ]
    },
    {
     "data": {
      "application/vnd.jupyter.widget-view+json": {
       "model_id": "29c60c0910f04548840de7a24afc80cb",
       "version_major": 2,
       "version_minor": 0
      },
      "text/plain": [
       "  0%|          | 0/91 [00:00<?, ?it/s]"
      ]
     },
     "metadata": {},
     "output_type": "display_data"
    },
    {
     "name": "stdout",
     "output_type": "stream",
     "text": [
      "test Loss: 0.4470 Acc: 0.8455 AUC: 0.5075\n",
      "\n",
      "Epoch 56/99\n",
      "----------\n"
     ]
    },
    {
     "data": {
      "application/vnd.jupyter.widget-view+json": {
       "model_id": "c600d321262e410e9b6f015fdddeb4e5",
       "version_major": 2,
       "version_minor": 0
      },
      "text/plain": [
       "  0%|          | 0/342 [00:00<?, ?it/s]"
      ]
     },
     "metadata": {},
     "output_type": "display_data"
    },
    {
     "name": "stdout",
     "output_type": "stream",
     "text": [
      "train Loss: 0.3053 Acc: 0.8864 AUC: 0.6128\n"
     ]
    },
    {
     "data": {
      "application/vnd.jupyter.widget-view+json": {
       "model_id": "385b1c5a503e4e5a8f7a05f32a2e570c",
       "version_major": 2,
       "version_minor": 0
      },
      "text/plain": [
       "  0%|          | 0/91 [00:00<?, ?it/s]"
      ]
     },
     "metadata": {},
     "output_type": "display_data"
    },
    {
     "name": "stdout",
     "output_type": "stream",
     "text": [
      "test Loss: 0.4436 Acc: 0.8219 AUC: 0.5280\n",
      "\n",
      "Epoch 57/99\n",
      "----------\n"
     ]
    },
    {
     "data": {
      "application/vnd.jupyter.widget-view+json": {
       "model_id": "d6f3041bb9f64d2cbeeb0d835cc1b9cc",
       "version_major": 2,
       "version_minor": 0
      },
      "text/plain": [
       "  0%|          | 0/342 [00:00<?, ?it/s]"
      ]
     },
     "metadata": {},
     "output_type": "display_data"
    },
    {
     "name": "stdout",
     "output_type": "stream",
     "text": [
      "train Loss: 0.2998 Acc: 0.8891 AUC: 0.6257\n"
     ]
    },
    {
     "data": {
      "application/vnd.jupyter.widget-view+json": {
       "model_id": "0ba9a2efa9f140669448ea650e16279c",
       "version_major": 2,
       "version_minor": 0
      },
      "text/plain": [
       "  0%|          | 0/91 [00:00<?, ?it/s]"
      ]
     },
     "metadata": {},
     "output_type": "display_data"
    },
    {
     "name": "stdout",
     "output_type": "stream",
     "text": [
      "test Loss: 0.4347 Acc: 0.8278 AUC: 0.5291\n",
      "\n",
      "Epoch 58/99\n",
      "----------\n"
     ]
    },
    {
     "data": {
      "application/vnd.jupyter.widget-view+json": {
       "model_id": "7e350fa3b7934c8e820266bf5f341e3e",
       "version_major": 2,
       "version_minor": 0
      },
      "text/plain": [
       "  0%|          | 0/342 [00:00<?, ?it/s]"
      ]
     },
     "metadata": {},
     "output_type": "display_data"
    },
    {
     "name": "stdout",
     "output_type": "stream",
     "text": [
      "train Loss: 0.2989 Acc: 0.8882 AUC: 0.6236\n"
     ]
    },
    {
     "data": {
      "application/vnd.jupyter.widget-view+json": {
       "model_id": "fcc8a0ab9da24d3c9a136e451543a360",
       "version_major": 2,
       "version_minor": 0
      },
      "text/plain": [
       "  0%|          | 0/91 [00:00<?, ?it/s]"
      ]
     },
     "metadata": {},
     "output_type": "display_data"
    },
    {
     "name": "stdout",
     "output_type": "stream",
     "text": [
      "test Loss: 0.4792 Acc: 0.8011 AUC: 0.5297\n",
      "\n",
      "Epoch 59/99\n",
      "----------\n"
     ]
    },
    {
     "data": {
      "application/vnd.jupyter.widget-view+json": {
       "model_id": "d7e61a7e284545fb85b89b52f1c802e0",
       "version_major": 2,
       "version_minor": 0
      },
      "text/plain": [
       "  0%|          | 0/342 [00:00<?, ?it/s]"
      ]
     },
     "metadata": {},
     "output_type": "display_data"
    },
    {
     "name": "stdout",
     "output_type": "stream",
     "text": [
      "train Loss: 0.2934 Acc: 0.8886 AUC: 0.6311\n"
     ]
    },
    {
     "data": {
      "application/vnd.jupyter.widget-view+json": {
       "model_id": "d8a63adb0761450bbdd53dbecea0f0ec",
       "version_major": 2,
       "version_minor": 0
      },
      "text/plain": [
       "  0%|          | 0/91 [00:00<?, ?it/s]"
      ]
     },
     "metadata": {},
     "output_type": "display_data"
    },
    {
     "name": "stdout",
     "output_type": "stream",
     "text": [
      "test Loss: 0.4556 Acc: 0.8323 AUC: 0.5454\n",
      "\n",
      "Epoch 60/99\n",
      "----------\n"
     ]
    },
    {
     "data": {
      "application/vnd.jupyter.widget-view+json": {
       "model_id": "f241fdcc45944e8cb3ecace9282874f7",
       "version_major": 2,
       "version_minor": 0
      },
      "text/plain": [
       "  0%|          | 0/342 [00:00<?, ?it/s]"
      ]
     },
     "metadata": {},
     "output_type": "display_data"
    },
    {
     "name": "stdout",
     "output_type": "stream",
     "text": [
      "train Loss: 0.2972 Acc: 0.8911 AUC: 0.6310\n"
     ]
    },
    {
     "data": {
      "application/vnd.jupyter.widget-view+json": {
       "model_id": "0f0e00b0000842c1a1942e5ed2540f55",
       "version_major": 2,
       "version_minor": 0
      },
      "text/plain": [
       "  0%|          | 0/91 [00:00<?, ?it/s]"
      ]
     },
     "metadata": {},
     "output_type": "display_data"
    },
    {
     "name": "stdout",
     "output_type": "stream",
     "text": [
      "test Loss: 0.4553 Acc: 0.8171 AUC: 0.5639\n",
      "\n",
      "Epoch 61/99\n",
      "----------\n"
     ]
    },
    {
     "data": {
      "application/vnd.jupyter.widget-view+json": {
       "model_id": "e18beb213b9c479fa1fbedcb300362b3",
       "version_major": 2,
       "version_minor": 0
      },
      "text/plain": [
       "  0%|          | 0/342 [00:00<?, ?it/s]"
      ]
     },
     "metadata": {},
     "output_type": "display_data"
    },
    {
     "name": "stdout",
     "output_type": "stream",
     "text": [
      "train Loss: 0.2954 Acc: 0.8876 AUC: 0.6305\n"
     ]
    },
    {
     "data": {
      "application/vnd.jupyter.widget-view+json": {
       "model_id": "1c6f3346826a4b50bc054824514964e4",
       "version_major": 2,
       "version_minor": 0
      },
      "text/plain": [
       "  0%|          | 0/91 [00:00<?, ?it/s]"
      ]
     },
     "metadata": {},
     "output_type": "display_data"
    },
    {
     "name": "stdout",
     "output_type": "stream",
     "text": [
      "test Loss: 0.4344 Acc: 0.8087 AUC: 0.5341\n",
      "\n",
      "Epoch 62/99\n",
      "----------\n"
     ]
    },
    {
     "data": {
      "application/vnd.jupyter.widget-view+json": {
       "model_id": "25d8854b7461447f9f968ac1c3edc54c",
       "version_major": 2,
       "version_minor": 0
      },
      "text/plain": [
       "  0%|          | 0/342 [00:00<?, ?it/s]"
      ]
     },
     "metadata": {},
     "output_type": "display_data"
    },
    {
     "name": "stdout",
     "output_type": "stream",
     "text": [
      "train Loss: 0.2962 Acc: 0.8876 AUC: 0.6257\n"
     ]
    },
    {
     "data": {
      "application/vnd.jupyter.widget-view+json": {
       "model_id": "17ddfba8201d42e585948b685c3f6ade",
       "version_major": 2,
       "version_minor": 0
      },
      "text/plain": [
       "  0%|          | 0/91 [00:00<?, ?it/s]"
      ]
     },
     "metadata": {},
     "output_type": "display_data"
    },
    {
     "name": "stdout",
     "output_type": "stream",
     "text": [
      "test Loss: 0.4181 Acc: 0.8525 AUC: 0.5456\n",
      "\n",
      "Epoch 63/99\n",
      "----------\n"
     ]
    },
    {
     "data": {
      "application/vnd.jupyter.widget-view+json": {
       "model_id": "1315fc44b5194dc9b463c3ea3eac44ec",
       "version_major": 2,
       "version_minor": 0
      },
      "text/plain": [
       "  0%|          | 0/342 [00:00<?, ?it/s]"
      ]
     },
     "metadata": {},
     "output_type": "display_data"
    },
    {
     "name": "stdout",
     "output_type": "stream",
     "text": [
      "train Loss: 0.2890 Acc: 0.8914 AUC: 0.6398\n"
     ]
    },
    {
     "data": {
      "application/vnd.jupyter.widget-view+json": {
       "model_id": "5f3d912cacad42638255da62a86f49ef",
       "version_major": 2,
       "version_minor": 0
      },
      "text/plain": [
       "  0%|          | 0/91 [00:00<?, ?it/s]"
      ]
     },
     "metadata": {},
     "output_type": "display_data"
    },
    {
     "name": "stdout",
     "output_type": "stream",
     "text": [
      "test Loss: 0.4362 Acc: 0.8299 AUC: 0.5383\n",
      "\n",
      "Epoch 64/99\n",
      "----------\n"
     ]
    },
    {
     "data": {
      "application/vnd.jupyter.widget-view+json": {
       "model_id": "5e3a71750cfb4df4a7de227c7276f609",
       "version_major": 2,
       "version_minor": 0
      },
      "text/plain": [
       "  0%|          | 0/342 [00:00<?, ?it/s]"
      ]
     },
     "metadata": {},
     "output_type": "display_data"
    },
    {
     "name": "stdout",
     "output_type": "stream",
     "text": [
      "train Loss: 0.2898 Acc: 0.8885 AUC: 0.6328\n"
     ]
    },
    {
     "data": {
      "application/vnd.jupyter.widget-view+json": {
       "model_id": "bf3d773449be42a280dcfe68b0898508",
       "version_major": 2,
       "version_minor": 0
      },
      "text/plain": [
       "  0%|          | 0/91 [00:00<?, ?it/s]"
      ]
     },
     "metadata": {},
     "output_type": "display_data"
    },
    {
     "name": "stdout",
     "output_type": "stream",
     "text": [
      "test Loss: 0.4615 Acc: 0.7910 AUC: 0.5091\n",
      "\n",
      "Epoch 65/99\n",
      "----------\n"
     ]
    },
    {
     "data": {
      "application/vnd.jupyter.widget-view+json": {
       "model_id": "c857aacadd674d64a192792009dab0a8",
       "version_major": 2,
       "version_minor": 0
      },
      "text/plain": [
       "  0%|          | 0/342 [00:00<?, ?it/s]"
      ]
     },
     "metadata": {},
     "output_type": "display_data"
    },
    {
     "name": "stdout",
     "output_type": "stream",
     "text": [
      "train Loss: 0.2880 Acc: 0.8916 AUC: 0.6387\n"
     ]
    },
    {
     "data": {
      "application/vnd.jupyter.widget-view+json": {
       "model_id": "221163a843634ac1a181e889414a3aaa",
       "version_major": 2,
       "version_minor": 0
      },
      "text/plain": [
       "  0%|          | 0/91 [00:00<?, ?it/s]"
      ]
     },
     "metadata": {},
     "output_type": "display_data"
    },
    {
     "name": "stdout",
     "output_type": "stream",
     "text": [
      "test Loss: 0.4468 Acc: 0.8192 AUC: 0.5423\n",
      "\n",
      "Epoch 66/99\n",
      "----------\n"
     ]
    },
    {
     "data": {
      "application/vnd.jupyter.widget-view+json": {
       "model_id": "381200f95c3c4acbb1f2d5e87f5ff0d0",
       "version_major": 2,
       "version_minor": 0
      },
      "text/plain": [
       "  0%|          | 0/342 [00:00<?, ?it/s]"
      ]
     },
     "metadata": {},
     "output_type": "display_data"
    },
    {
     "name": "stdout",
     "output_type": "stream",
     "text": [
      "train Loss: 0.2859 Acc: 0.8927 AUC: 0.6421\n"
     ]
    },
    {
     "data": {
      "application/vnd.jupyter.widget-view+json": {
       "model_id": "838f9b321ef744669f5534eb15c8f743",
       "version_major": 2,
       "version_minor": 0
      },
      "text/plain": [
       "  0%|          | 0/91 [00:00<?, ?it/s]"
      ]
     },
     "metadata": {},
     "output_type": "display_data"
    },
    {
     "name": "stdout",
     "output_type": "stream",
     "text": [
      "test Loss: 0.5687 Acc: 0.7206 AUC: 0.5721\n",
      "\n",
      "Epoch 67/99\n",
      "----------\n"
     ]
    },
    {
     "data": {
      "application/vnd.jupyter.widget-view+json": {
       "model_id": "bfeabc79d8fb44d0b81af1da62bf1e9a",
       "version_major": 2,
       "version_minor": 0
      },
      "text/plain": [
       "  0%|          | 0/342 [00:00<?, ?it/s]"
      ]
     },
     "metadata": {},
     "output_type": "display_data"
    },
    {
     "name": "stdout",
     "output_type": "stream",
     "text": [
      "train Loss: 0.2805 Acc: 0.8944 AUC: 0.6535\n"
     ]
    },
    {
     "data": {
      "application/vnd.jupyter.widget-view+json": {
       "model_id": "c30fb046355a459f920c20a438286f4b",
       "version_major": 2,
       "version_minor": 0
      },
      "text/plain": [
       "  0%|          | 0/91 [00:00<?, ?it/s]"
      ]
     },
     "metadata": {},
     "output_type": "display_data"
    },
    {
     "name": "stdout",
     "output_type": "stream",
     "text": [
      "test Loss: 0.4716 Acc: 0.8164 AUC: 0.5453\n",
      "\n",
      "Epoch 68/99\n",
      "----------\n"
     ]
    },
    {
     "data": {
      "application/vnd.jupyter.widget-view+json": {
       "model_id": "36663e5d91ee406e8ba261c792b6c841",
       "version_major": 2,
       "version_minor": 0
      },
      "text/plain": [
       "  0%|          | 0/342 [00:00<?, ?it/s]"
      ]
     },
     "metadata": {},
     "output_type": "display_data"
    },
    {
     "name": "stdout",
     "output_type": "stream",
     "text": [
      "train Loss: 0.2858 Acc: 0.8935 AUC: 0.6470\n"
     ]
    },
    {
     "data": {
      "application/vnd.jupyter.widget-view+json": {
       "model_id": "14ad151848f94cc3a72ce184205d65cf",
       "version_major": 2,
       "version_minor": 0
      },
      "text/plain": [
       "  0%|          | 0/91 [00:00<?, ?it/s]"
      ]
     },
     "metadata": {},
     "output_type": "display_data"
    },
    {
     "name": "stdout",
     "output_type": "stream",
     "text": [
      "test Loss: 0.4055 Acc: 0.8525 AUC: 0.5058\n",
      "\n",
      "Epoch 69/99\n",
      "----------\n"
     ]
    },
    {
     "data": {
      "application/vnd.jupyter.widget-view+json": {
       "model_id": "edec71d55c3548449987845c260845cf",
       "version_major": 2,
       "version_minor": 0
      },
      "text/plain": [
       "  0%|          | 0/342 [00:00<?, ?it/s]"
      ]
     },
     "metadata": {},
     "output_type": "display_data"
    },
    {
     "name": "stdout",
     "output_type": "stream",
     "text": [
      "train Loss: 0.2787 Acc: 0.8939 AUC: 0.6449\n"
     ]
    },
    {
     "data": {
      "application/vnd.jupyter.widget-view+json": {
       "model_id": "2e9f46e2794b46e9a5596de6eee38a31",
       "version_major": 2,
       "version_minor": 0
      },
      "text/plain": [
       "  0%|          | 0/91 [00:00<?, ?it/s]"
      ]
     },
     "metadata": {},
     "output_type": "display_data"
    },
    {
     "name": "stdout",
     "output_type": "stream",
     "text": [
      "test Loss: 0.5349 Acc: 0.7595 AUC: 0.5433\n",
      "\n",
      "Epoch 70/99\n",
      "----------\n"
     ]
    },
    {
     "data": {
      "application/vnd.jupyter.widget-view+json": {
       "model_id": "6f4057339e6f4e5da268e1f7805943b7",
       "version_major": 2,
       "version_minor": 0
      },
      "text/plain": [
       "  0%|          | 0/342 [00:00<?, ?it/s]"
      ]
     },
     "metadata": {},
     "output_type": "display_data"
    },
    {
     "name": "stdout",
     "output_type": "stream",
     "text": [
      "train Loss: 0.2770 Acc: 0.8952 AUC: 0.6552\n"
     ]
    },
    {
     "data": {
      "application/vnd.jupyter.widget-view+json": {
       "model_id": "b30aa1cdf2a34c399083468798c1e1e9",
       "version_major": 2,
       "version_minor": 0
      },
      "text/plain": [
       "  0%|          | 0/91 [00:00<?, ?it/s]"
      ]
     },
     "metadata": {},
     "output_type": "display_data"
    },
    {
     "name": "stdout",
     "output_type": "stream",
     "text": [
      "test Loss: 0.4546 Acc: 0.8171 AUC: 0.5343\n",
      "\n",
      "Epoch 71/99\n",
      "----------\n"
     ]
    },
    {
     "data": {
      "application/vnd.jupyter.widget-view+json": {
       "model_id": "69970ea53f284a27a32590fc05c88234",
       "version_major": 2,
       "version_minor": 0
      },
      "text/plain": [
       "  0%|          | 0/342 [00:00<?, ?it/s]"
      ]
     },
     "metadata": {},
     "output_type": "display_data"
    },
    {
     "name": "stdout",
     "output_type": "stream",
     "text": [
      "train Loss: 0.2748 Acc: 0.8964 AUC: 0.6592\n"
     ]
    },
    {
     "data": {
      "application/vnd.jupyter.widget-view+json": {
       "model_id": "31304ad408b44bbba76918f652cf67c8",
       "version_major": 2,
       "version_minor": 0
      },
      "text/plain": [
       "  0%|          | 0/91 [00:00<?, ?it/s]"
      ]
     },
     "metadata": {},
     "output_type": "display_data"
    },
    {
     "name": "stdout",
     "output_type": "stream",
     "text": [
      "test Loss: 0.4605 Acc: 0.8327 AUC: 0.5467\n",
      "\n",
      "Epoch 72/99\n",
      "----------\n"
     ]
    },
    {
     "data": {
      "application/vnd.jupyter.widget-view+json": {
       "model_id": "85cb0f21a40e42bb8730ce8a9e67fb05",
       "version_major": 2,
       "version_minor": 0
      },
      "text/plain": [
       "  0%|          | 0/342 [00:00<?, ?it/s]"
      ]
     },
     "metadata": {},
     "output_type": "display_data"
    },
    {
     "name": "stdout",
     "output_type": "stream",
     "text": [
      "train Loss: 0.2785 Acc: 0.8930 AUC: 0.6507\n"
     ]
    },
    {
     "data": {
      "application/vnd.jupyter.widget-view+json": {
       "model_id": "5c695ecc98aa4e09a944a35db7cfa7bf",
       "version_major": 2,
       "version_minor": 0
      },
      "text/plain": [
       "  0%|          | 0/91 [00:00<?, ?it/s]"
      ]
     },
     "metadata": {},
     "output_type": "display_data"
    },
    {
     "name": "stdout",
     "output_type": "stream",
     "text": [
      "test Loss: 0.4536 Acc: 0.8028 AUC: 0.5296\n",
      "\n",
      "Epoch 73/99\n",
      "----------\n"
     ]
    },
    {
     "data": {
      "application/vnd.jupyter.widget-view+json": {
       "model_id": "031279faca4e4e219a3abf955313a1a1",
       "version_major": 2,
       "version_minor": 0
      },
      "text/plain": [
       "  0%|          | 0/342 [00:00<?, ?it/s]"
      ]
     },
     "metadata": {},
     "output_type": "display_data"
    },
    {
     "name": "stdout",
     "output_type": "stream",
     "text": [
      "train Loss: 0.2726 Acc: 0.8949 AUC: 0.6601\n"
     ]
    },
    {
     "data": {
      "application/vnd.jupyter.widget-view+json": {
       "model_id": "6be8ce61106d403fad56ddacbdcfc139",
       "version_major": 2,
       "version_minor": 0
      },
      "text/plain": [
       "  0%|          | 0/91 [00:00<?, ?it/s]"
      ]
     },
     "metadata": {},
     "output_type": "display_data"
    },
    {
     "name": "stdout",
     "output_type": "stream",
     "text": [
      "test Loss: 0.5064 Acc: 0.7792 AUC: 0.5581\n",
      "\n",
      "Epoch 74/99\n",
      "----------\n"
     ]
    },
    {
     "data": {
      "application/vnd.jupyter.widget-view+json": {
       "model_id": "90fe5d0985a74d1f99b56a0013344b1f",
       "version_major": 2,
       "version_minor": 0
      },
      "text/plain": [
       "  0%|          | 0/342 [00:00<?, ?it/s]"
      ]
     },
     "metadata": {},
     "output_type": "display_data"
    },
    {
     "name": "stdout",
     "output_type": "stream",
     "text": [
      "train Loss: 0.2680 Acc: 0.8975 AUC: 0.6670\n"
     ]
    },
    {
     "data": {
      "application/vnd.jupyter.widget-view+json": {
       "model_id": "e2100b59b4694c6db6f3a0d0d628fcbb",
       "version_major": 2,
       "version_minor": 0
      },
      "text/plain": [
       "  0%|          | 0/91 [00:00<?, ?it/s]"
      ]
     },
     "metadata": {},
     "output_type": "display_data"
    },
    {
     "name": "stdout",
     "output_type": "stream",
     "text": [
      "test Loss: 0.4648 Acc: 0.7997 AUC: 0.5243\n",
      "\n",
      "Epoch 75/99\n",
      "----------\n"
     ]
    },
    {
     "data": {
      "application/vnd.jupyter.widget-view+json": {
       "model_id": "33b546c070334eefa1144292f7a60cc8",
       "version_major": 2,
       "version_minor": 0
      },
      "text/plain": [
       "  0%|          | 0/342 [00:00<?, ?it/s]"
      ]
     },
     "metadata": {},
     "output_type": "display_data"
    },
    {
     "name": "stdout",
     "output_type": "stream",
     "text": [
      "train Loss: 0.2653 Acc: 0.8974 AUC: 0.6667\n"
     ]
    },
    {
     "data": {
      "application/vnd.jupyter.widget-view+json": {
       "model_id": "7b68f09b13d44ae9b9f6ebaad7580d38",
       "version_major": 2,
       "version_minor": 0
      },
      "text/plain": [
       "  0%|          | 0/91 [00:00<?, ?it/s]"
      ]
     },
     "metadata": {},
     "output_type": "display_data"
    },
    {
     "name": "stdout",
     "output_type": "stream",
     "text": [
      "test Loss: 0.4988 Acc: 0.7806 AUC: 0.5498\n",
      "\n",
      "Epoch 76/99\n",
      "----------\n"
     ]
    },
    {
     "data": {
      "application/vnd.jupyter.widget-view+json": {
       "model_id": "4e7955948305465b8da50a2bd7b55e1e",
       "version_major": 2,
       "version_minor": 0
      },
      "text/plain": [
       "  0%|          | 0/342 [00:00<?, ?it/s]"
      ]
     },
     "metadata": {},
     "output_type": "display_data"
    },
    {
     "name": "stdout",
     "output_type": "stream",
     "text": [
      "train Loss: 0.2665 Acc: 0.8973 AUC: 0.6633\n"
     ]
    },
    {
     "data": {
      "application/vnd.jupyter.widget-view+json": {
       "model_id": "f1cc7155ee9a460f95973f5127c4cac8",
       "version_major": 2,
       "version_minor": 0
      },
      "text/plain": [
       "  0%|          | 0/91 [00:00<?, ?it/s]"
      ]
     },
     "metadata": {},
     "output_type": "display_data"
    },
    {
     "name": "stdout",
     "output_type": "stream",
     "text": [
      "test Loss: 0.4599 Acc: 0.8296 AUC: 0.5153\n",
      "\n",
      "Epoch 77/99\n",
      "----------\n"
     ]
    },
    {
     "data": {
      "application/vnd.jupyter.widget-view+json": {
       "model_id": "921e2de0f6854349a93068022e152c77",
       "version_major": 2,
       "version_minor": 0
      },
      "text/plain": [
       "  0%|          | 0/342 [00:00<?, ?it/s]"
      ]
     },
     "metadata": {},
     "output_type": "display_data"
    },
    {
     "name": "stdout",
     "output_type": "stream",
     "text": [
      "train Loss: 0.2639 Acc: 0.8990 AUC: 0.6714\n"
     ]
    },
    {
     "data": {
      "application/vnd.jupyter.widget-view+json": {
       "model_id": "f051c9ac85ad4e24a552fecb01890eea",
       "version_major": 2,
       "version_minor": 0
      },
      "text/plain": [
       "  0%|          | 0/91 [00:00<?, ?it/s]"
      ]
     },
     "metadata": {},
     "output_type": "display_data"
    },
    {
     "name": "stdout",
     "output_type": "stream",
     "text": [
      "test Loss: 0.4415 Acc: 0.8022 AUC: 0.5496\n",
      "\n",
      "Epoch 78/99\n",
      "----------\n"
     ]
    },
    {
     "data": {
      "application/vnd.jupyter.widget-view+json": {
       "model_id": "4465ecfc18234e569ae3d8d2a64914b8",
       "version_major": 2,
       "version_minor": 0
      },
      "text/plain": [
       "  0%|          | 0/342 [00:00<?, ?it/s]"
      ]
     },
     "metadata": {},
     "output_type": "display_data"
    },
    {
     "name": "stdout",
     "output_type": "stream",
     "text": [
      "train Loss: 0.2669 Acc: 0.8992 AUC: 0.6751\n"
     ]
    },
    {
     "data": {
      "application/vnd.jupyter.widget-view+json": {
       "model_id": "1c9b54f730ee4a3e8fc06d7eb0b6361d",
       "version_major": 2,
       "version_minor": 0
      },
      "text/plain": [
       "  0%|          | 0/91 [00:00<?, ?it/s]"
      ]
     },
     "metadata": {},
     "output_type": "display_data"
    },
    {
     "name": "stdout",
     "output_type": "stream",
     "text": [
      "test Loss: 0.4224 Acc: 0.8310 AUC: 0.5298\n",
      "\n",
      "Epoch 79/99\n",
      "----------\n"
     ]
    },
    {
     "data": {
      "application/vnd.jupyter.widget-view+json": {
       "model_id": "7aeb0488a5644296a19b1712e287aa44",
       "version_major": 2,
       "version_minor": 0
      },
      "text/plain": [
       "  0%|          | 0/342 [00:00<?, ?it/s]"
      ]
     },
     "metadata": {},
     "output_type": "display_data"
    },
    {
     "name": "stdout",
     "output_type": "stream",
     "text": [
      "train Loss: 0.2581 Acc: 0.9003 AUC: 0.6740\n"
     ]
    },
    {
     "data": {
      "application/vnd.jupyter.widget-view+json": {
       "model_id": "1f33e36346f04ab690f40bcf130835e7",
       "version_major": 2,
       "version_minor": 0
      },
      "text/plain": [
       "  0%|          | 0/91 [00:00<?, ?it/s]"
      ]
     },
     "metadata": {},
     "output_type": "display_data"
    },
    {
     "name": "stdout",
     "output_type": "stream",
     "text": [
      "test Loss: 0.5109 Acc: 0.8032 AUC: 0.5138\n",
      "\n",
      "Epoch 80/99\n",
      "----------\n"
     ]
    },
    {
     "data": {
      "application/vnd.jupyter.widget-view+json": {
       "model_id": "5609a8bb0e7f4005b11900382cb77056",
       "version_major": 2,
       "version_minor": 0
      },
      "text/plain": [
       "  0%|          | 0/342 [00:00<?, ?it/s]"
      ]
     },
     "metadata": {},
     "output_type": "display_data"
    },
    {
     "name": "stdout",
     "output_type": "stream",
     "text": [
      "train Loss: 0.2621 Acc: 0.9002 AUC: 0.6730\n"
     ]
    },
    {
     "data": {
      "application/vnd.jupyter.widget-view+json": {
       "model_id": "66d99e56c2ae49d2a8109c0fcc477017",
       "version_major": 2,
       "version_minor": 0
      },
      "text/plain": [
       "  0%|          | 0/91 [00:00<?, ?it/s]"
      ]
     },
     "metadata": {},
     "output_type": "display_data"
    },
    {
     "name": "stdout",
     "output_type": "stream",
     "text": [
      "test Loss: 0.4702 Acc: 0.8101 AUC: 0.5269\n",
      "\n",
      "Epoch 81/99\n",
      "----------\n"
     ]
    },
    {
     "data": {
      "application/vnd.jupyter.widget-view+json": {
       "model_id": "3ab3de1dfd3b431f98e13e8dd1d9c62e",
       "version_major": 2,
       "version_minor": 0
      },
      "text/plain": [
       "  0%|          | 0/342 [00:00<?, ?it/s]"
      ]
     },
     "metadata": {},
     "output_type": "display_data"
    },
    {
     "name": "stdout",
     "output_type": "stream",
     "text": [
      "train Loss: 0.2585 Acc: 0.8997 AUC: 0.6796\n"
     ]
    },
    {
     "data": {
      "application/vnd.jupyter.widget-view+json": {
       "model_id": "cba4f06bd8e34c82a3782f92d5f0a2f8",
       "version_major": 2,
       "version_minor": 0
      },
      "text/plain": [
       "  0%|          | 0/91 [00:00<?, ?it/s]"
      ]
     },
     "metadata": {},
     "output_type": "display_data"
    },
    {
     "name": "stdout",
     "output_type": "stream",
     "text": [
      "test Loss: 0.4750 Acc: 0.7990 AUC: 0.5456\n",
      "\n",
      "Epoch 82/99\n",
      "----------\n"
     ]
    },
    {
     "data": {
      "application/vnd.jupyter.widget-view+json": {
       "model_id": "cb6ccb131fea43a3b73ac45185021e6c",
       "version_major": 2,
       "version_minor": 0
      },
      "text/plain": [
       "  0%|          | 0/342 [00:00<?, ?it/s]"
      ]
     },
     "metadata": {},
     "output_type": "display_data"
    },
    {
     "name": "stdout",
     "output_type": "stream",
     "text": [
      "train Loss: 0.2535 Acc: 0.9047 AUC: 0.6909\n"
     ]
    },
    {
     "data": {
      "application/vnd.jupyter.widget-view+json": {
       "model_id": "af65cf5604e64d6eb2645ce15ef29e52",
       "version_major": 2,
       "version_minor": 0
      },
      "text/plain": [
       "  0%|          | 0/91 [00:00<?, ?it/s]"
      ]
     },
     "metadata": {},
     "output_type": "display_data"
    },
    {
     "name": "stdout",
     "output_type": "stream",
     "text": [
      "test Loss: 0.4964 Acc: 0.8101 AUC: 0.5360\n",
      "\n",
      "Epoch 83/99\n",
      "----------\n"
     ]
    },
    {
     "data": {
      "application/vnd.jupyter.widget-view+json": {
       "model_id": "0fbda90b426045499fff546a83e3724d",
       "version_major": 2,
       "version_minor": 0
      },
      "text/plain": [
       "  0%|          | 0/342 [00:00<?, ?it/s]"
      ]
     },
     "metadata": {},
     "output_type": "display_data"
    },
    {
     "name": "stdout",
     "output_type": "stream",
     "text": [
      "train Loss: 0.2518 Acc: 0.9003 AUC: 0.6818\n"
     ]
    },
    {
     "data": {
      "application/vnd.jupyter.widget-view+json": {
       "model_id": "b57fd00dc54c4e2085fbc93a096963c4",
       "version_major": 2,
       "version_minor": 0
      },
      "text/plain": [
       "  0%|          | 0/91 [00:00<?, ?it/s]"
      ]
     },
     "metadata": {},
     "output_type": "display_data"
    },
    {
     "name": "stdout",
     "output_type": "stream",
     "text": [
      "test Loss: 0.4632 Acc: 0.8358 AUC: 0.5292\n",
      "\n",
      "Epoch 84/99\n",
      "----------\n"
     ]
    },
    {
     "data": {
      "application/vnd.jupyter.widget-view+json": {
       "model_id": "54616981a06a4ee69735a9c472da0b13",
       "version_major": 2,
       "version_minor": 0
      },
      "text/plain": [
       "  0%|          | 0/342 [00:00<?, ?it/s]"
      ]
     },
     "metadata": {},
     "output_type": "display_data"
    },
    {
     "name": "stdout",
     "output_type": "stream",
     "text": [
      "train Loss: 0.2481 Acc: 0.9048 AUC: 0.6952\n"
     ]
    },
    {
     "data": {
      "application/vnd.jupyter.widget-view+json": {
       "model_id": "8da83c76f4c141228ac939bb5ecf3186",
       "version_major": 2,
       "version_minor": 0
      },
      "text/plain": [
       "  0%|          | 0/91 [00:00<?, ?it/s]"
      ]
     },
     "metadata": {},
     "output_type": "display_data"
    },
    {
     "name": "stdout",
     "output_type": "stream",
     "text": [
      "test Loss: 0.4495 Acc: 0.8501 AUC: 0.5146\n",
      "\n",
      "Epoch 85/99\n",
      "----------\n"
     ]
    },
    {
     "data": {
      "application/vnd.jupyter.widget-view+json": {
       "model_id": "30de8f4ce999425bbe900be2d29ae4db",
       "version_major": 2,
       "version_minor": 0
      },
      "text/plain": [
       "  0%|          | 0/342 [00:00<?, ?it/s]"
      ]
     },
     "metadata": {},
     "output_type": "display_data"
    },
    {
     "name": "stdout",
     "output_type": "stream",
     "text": [
      "train Loss: 0.2512 Acc: 0.9047 AUC: 0.6927\n"
     ]
    },
    {
     "data": {
      "application/vnd.jupyter.widget-view+json": {
       "model_id": "ca365e45c8b54cdca4b89e3546d23873",
       "version_major": 2,
       "version_minor": 0
      },
      "text/plain": [
       "  0%|          | 0/91 [00:00<?, ?it/s]"
      ]
     },
     "metadata": {},
     "output_type": "display_data"
    },
    {
     "name": "stdout",
     "output_type": "stream",
     "text": [
      "test Loss: 0.4325 Acc: 0.8296 AUC: 0.5381\n",
      "\n",
      "Epoch 86/99\n",
      "----------\n"
     ]
    },
    {
     "data": {
      "application/vnd.jupyter.widget-view+json": {
       "model_id": "cb54672982e545239a9083a3b183d0d2",
       "version_major": 2,
       "version_minor": 0
      },
      "text/plain": [
       "  0%|          | 0/342 [00:00<?, ?it/s]"
      ]
     },
     "metadata": {},
     "output_type": "display_data"
    },
    {
     "name": "stdout",
     "output_type": "stream",
     "text": [
      "train Loss: 0.2490 Acc: 0.9024 AUC: 0.6886\n"
     ]
    },
    {
     "data": {
      "application/vnd.jupyter.widget-view+json": {
       "model_id": "46e7bb3ba54645118bf2afa2da8a2960",
       "version_major": 2,
       "version_minor": 0
      },
      "text/plain": [
       "  0%|          | 0/91 [00:00<?, ?it/s]"
      ]
     },
     "metadata": {},
     "output_type": "display_data"
    },
    {
     "name": "stdout",
     "output_type": "stream",
     "text": [
      "test Loss: 0.5143 Acc: 0.7744 AUC: 0.5371\n",
      "\n",
      "Epoch 87/99\n",
      "----------\n"
     ]
    },
    {
     "data": {
      "application/vnd.jupyter.widget-view+json": {
       "model_id": "5b355cae549a4bddb168b5439e50fd76",
       "version_major": 2,
       "version_minor": 0
      },
      "text/plain": [
       "  0%|          | 0/342 [00:00<?, ?it/s]"
      ]
     },
     "metadata": {},
     "output_type": "display_data"
    },
    {
     "name": "stdout",
     "output_type": "stream",
     "text": [
      "train Loss: 0.2513 Acc: 0.9037 AUC: 0.6945\n"
     ]
    },
    {
     "data": {
      "application/vnd.jupyter.widget-view+json": {
       "model_id": "f360d564624746b0adee0e3dd944369c",
       "version_major": 2,
       "version_minor": 0
      },
      "text/plain": [
       "  0%|          | 0/91 [00:00<?, ?it/s]"
      ]
     },
     "metadata": {},
     "output_type": "display_data"
    },
    {
     "name": "stdout",
     "output_type": "stream",
     "text": [
      "test Loss: 0.4572 Acc: 0.8108 AUC: 0.5296\n",
      "\n",
      "Epoch 88/99\n",
      "----------\n"
     ]
    },
    {
     "data": {
      "application/vnd.jupyter.widget-view+json": {
       "model_id": "c5fb8be680fc4c729ad4bf28c223a7f6",
       "version_major": 2,
       "version_minor": 0
      },
      "text/plain": [
       "  0%|          | 0/342 [00:00<?, ?it/s]"
      ]
     },
     "metadata": {},
     "output_type": "display_data"
    },
    {
     "name": "stdout",
     "output_type": "stream",
     "text": [
      "train Loss: 0.2480 Acc: 0.9047 AUC: 0.6983\n"
     ]
    },
    {
     "data": {
      "application/vnd.jupyter.widget-view+json": {
       "model_id": "9ae63bb1a3cd4e7e98d94666e330e07c",
       "version_major": 2,
       "version_minor": 0
      },
      "text/plain": [
       "  0%|          | 0/91 [00:00<?, ?it/s]"
      ]
     },
     "metadata": {},
     "output_type": "display_data"
    },
    {
     "name": "stdout",
     "output_type": "stream",
     "text": [
      "test Loss: 0.4796 Acc: 0.8570 AUC: 0.5243\n",
      "\n",
      "Epoch 89/99\n",
      "----------\n"
     ]
    },
    {
     "data": {
      "application/vnd.jupyter.widget-view+json": {
       "model_id": "a08d57186432410f9dab9517168d8d52",
       "version_major": 2,
       "version_minor": 0
      },
      "text/plain": [
       "  0%|          | 0/342 [00:00<?, ?it/s]"
      ]
     },
     "metadata": {},
     "output_type": "display_data"
    },
    {
     "name": "stdout",
     "output_type": "stream",
     "text": [
      "train Loss: 0.2470 Acc: 0.9056 AUC: 0.7016\n"
     ]
    },
    {
     "data": {
      "application/vnd.jupyter.widget-view+json": {
       "model_id": "d8a7da04e5884596a5b3234d6aefe507",
       "version_major": 2,
       "version_minor": 0
      },
      "text/plain": [
       "  0%|          | 0/91 [00:00<?, ?it/s]"
      ]
     },
     "metadata": {},
     "output_type": "display_data"
    },
    {
     "name": "stdout",
     "output_type": "stream",
     "text": [
      "test Loss: 0.4519 Acc: 0.8327 AUC: 0.5149\n",
      "\n",
      "Epoch 90/99\n",
      "----------\n"
     ]
    },
    {
     "data": {
      "application/vnd.jupyter.widget-view+json": {
       "model_id": "da63ba7bc15744ccbee665c86697a636",
       "version_major": 2,
       "version_minor": 0
      },
      "text/plain": [
       "  0%|          | 0/342 [00:00<?, ?it/s]"
      ]
     },
     "metadata": {},
     "output_type": "display_data"
    },
    {
     "name": "stdout",
     "output_type": "stream",
     "text": [
      "train Loss: 0.2387 Acc: 0.9062 AUC: 0.7022\n"
     ]
    },
    {
     "data": {
      "application/vnd.jupyter.widget-view+json": {
       "model_id": "ed9ad87a77414e0e9ee59b9ccc281140",
       "version_major": 2,
       "version_minor": 0
      },
      "text/plain": [
       "  0%|          | 0/91 [00:00<?, ?it/s]"
      ]
     },
     "metadata": {},
     "output_type": "display_data"
    },
    {
     "name": "stdout",
     "output_type": "stream",
     "text": [
      "test Loss: 0.5104 Acc: 0.8126 AUC: 0.5181\n",
      "\n",
      "Epoch 91/99\n",
      "----------\n"
     ]
    },
    {
     "data": {
      "application/vnd.jupyter.widget-view+json": {
       "model_id": "b696bae01fcf4eeeabd6b4e2b4714013",
       "version_major": 2,
       "version_minor": 0
      },
      "text/plain": [
       "  0%|          | 0/342 [00:00<?, ?it/s]"
      ]
     },
     "metadata": {},
     "output_type": "display_data"
    },
    {
     "name": "stdout",
     "output_type": "stream",
     "text": [
      "train Loss: 0.2452 Acc: 0.9059 AUC: 0.7066\n"
     ]
    },
    {
     "data": {
      "application/vnd.jupyter.widget-view+json": {
       "model_id": "64c960cb7e8c403cbb9f05def7f18c9e",
       "version_major": 2,
       "version_minor": 0
      },
      "text/plain": [
       "  0%|          | 0/91 [00:00<?, ?it/s]"
      ]
     },
     "metadata": {},
     "output_type": "display_data"
    },
    {
     "name": "stdout",
     "output_type": "stream",
     "text": [
      "test Loss: 0.4292 Acc: 0.8383 AUC: 0.5317\n",
      "\n",
      "Epoch 92/99\n",
      "----------\n"
     ]
    },
    {
     "data": {
      "application/vnd.jupyter.widget-view+json": {
       "model_id": "9fa1deebbaf147ba9db7939839a07a88",
       "version_major": 2,
       "version_minor": 0
      },
      "text/plain": [
       "  0%|          | 0/342 [00:00<?, ?it/s]"
      ]
     },
     "metadata": {},
     "output_type": "display_data"
    },
    {
     "name": "stdout",
     "output_type": "stream",
     "text": [
      "train Loss: 0.2351 Acc: 0.9080 AUC: 0.7132\n"
     ]
    },
    {
     "data": {
      "application/vnd.jupyter.widget-view+json": {
       "model_id": "6b5c23ca686b4980b2f9e9ca70a053b0",
       "version_major": 2,
       "version_minor": 0
      },
      "text/plain": [
       "  0%|          | 0/91 [00:00<?, ?it/s]"
      ]
     },
     "metadata": {},
     "output_type": "display_data"
    },
    {
     "name": "stdout",
     "output_type": "stream",
     "text": [
      "test Loss: 0.4300 Acc: 0.8556 AUC: 0.5292\n",
      "\n",
      "Epoch 93/99\n",
      "----------\n"
     ]
    },
    {
     "data": {
      "application/vnd.jupyter.widget-view+json": {
       "model_id": "95c59148876b4914a2510c450b044d15",
       "version_major": 2,
       "version_minor": 0
      },
      "text/plain": [
       "  0%|          | 0/342 [00:00<?, ?it/s]"
      ]
     },
     "metadata": {},
     "output_type": "display_data"
    },
    {
     "name": "stdout",
     "output_type": "stream",
     "text": [
      "train Loss: 0.2372 Acc: 0.9090 AUC: 0.7101\n"
     ]
    },
    {
     "data": {
      "application/vnd.jupyter.widget-view+json": {
       "model_id": "5f1c0db243674becbc4f1c9a3692d35e",
       "version_major": 2,
       "version_minor": 0
      },
      "text/plain": [
       "  0%|          | 0/91 [00:00<?, ?it/s]"
      ]
     },
     "metadata": {},
     "output_type": "display_data"
    },
    {
     "name": "stdout",
     "output_type": "stream",
     "text": [
      "test Loss: 0.5038 Acc: 0.8028 AUC: 0.5239\n",
      "\n",
      "Epoch 94/99\n",
      "----------\n"
     ]
    },
    {
     "data": {
      "application/vnd.jupyter.widget-view+json": {
       "model_id": "4b270e5bcc744709aa5fccbf09b91b16",
       "version_major": 2,
       "version_minor": 0
      },
      "text/plain": [
       "  0%|          | 0/342 [00:00<?, ?it/s]"
      ]
     },
     "metadata": {},
     "output_type": "display_data"
    },
    {
     "name": "stdout",
     "output_type": "stream",
     "text": [
      "train Loss: 0.2357 Acc: 0.9097 AUC: 0.7171\n"
     ]
    },
    {
     "data": {
      "application/vnd.jupyter.widget-view+json": {
       "model_id": "de7e1a6641c14693b5ca5a761f9f5a2a",
       "version_major": 2,
       "version_minor": 0
      },
      "text/plain": [
       "  0%|          | 0/91 [00:00<?, ?it/s]"
      ]
     },
     "metadata": {},
     "output_type": "display_data"
    },
    {
     "name": "stdout",
     "output_type": "stream",
     "text": [
      "test Loss: 0.4987 Acc: 0.8212 AUC: 0.5185\n",
      "\n",
      "Epoch 95/99\n",
      "----------\n"
     ]
    },
    {
     "data": {
      "application/vnd.jupyter.widget-view+json": {
       "model_id": "d1afa40d4b534189b670e06b592ee84f",
       "version_major": 2,
       "version_minor": 0
      },
      "text/plain": [
       "  0%|          | 0/342 [00:00<?, ?it/s]"
      ]
     },
     "metadata": {},
     "output_type": "display_data"
    },
    {
     "name": "stdout",
     "output_type": "stream",
     "text": [
      "train Loss: 0.2306 Acc: 0.9107 AUC: 0.7195\n"
     ]
    },
    {
     "data": {
      "application/vnd.jupyter.widget-view+json": {
       "model_id": "54682a7fee3f436c9446172048c357e8",
       "version_major": 2,
       "version_minor": 0
      },
      "text/plain": [
       "  0%|          | 0/91 [00:00<?, ?it/s]"
      ]
     },
     "metadata": {},
     "output_type": "display_data"
    },
    {
     "name": "stdout",
     "output_type": "stream",
     "text": [
      "test Loss: 0.5231 Acc: 0.7824 AUC: 0.5314\n",
      "\n",
      "Epoch 96/99\n",
      "----------\n"
     ]
    },
    {
     "data": {
      "application/vnd.jupyter.widget-view+json": {
       "model_id": "856414c98b05436b82138346901ba3de",
       "version_major": 2,
       "version_minor": 0
      },
      "text/plain": [
       "  0%|          | 0/342 [00:00<?, ?it/s]"
      ]
     },
     "metadata": {},
     "output_type": "display_data"
    },
    {
     "name": "stdout",
     "output_type": "stream",
     "text": [
      "train Loss: 0.2259 Acc: 0.9131 AUC: 0.7283\n"
     ]
    },
    {
     "data": {
      "application/vnd.jupyter.widget-view+json": {
       "model_id": "73d84190f9744ff5a8a217299c8a8da7",
       "version_major": 2,
       "version_minor": 0
      },
      "text/plain": [
       "  0%|          | 0/91 [00:00<?, ?it/s]"
      ]
     },
     "metadata": {},
     "output_type": "display_data"
    },
    {
     "name": "stdout",
     "output_type": "stream",
     "text": [
      "test Loss: 0.4856 Acc: 0.8223 AUC: 0.5237\n",
      "\n",
      "Epoch 97/99\n",
      "----------\n"
     ]
    },
    {
     "data": {
      "application/vnd.jupyter.widget-view+json": {
       "model_id": "af38ab7c1a504159909931239b922e74",
       "version_major": 2,
       "version_minor": 0
      },
      "text/plain": [
       "  0%|          | 0/342 [00:00<?, ?it/s]"
      ]
     },
     "metadata": {},
     "output_type": "display_data"
    },
    {
     "name": "stdout",
     "output_type": "stream",
     "text": [
      "train Loss: 0.2311 Acc: 0.9114 AUC: 0.7196\n"
     ]
    },
    {
     "data": {
      "application/vnd.jupyter.widget-view+json": {
       "model_id": "f6082fb4e08045cba556619da2c44772",
       "version_major": 2,
       "version_minor": 0
      },
      "text/plain": [
       "  0%|          | 0/91 [00:00<?, ?it/s]"
      ]
     },
     "metadata": {},
     "output_type": "display_data"
    },
    {
     "name": "stdout",
     "output_type": "stream",
     "text": [
      "test Loss: 0.4686 Acc: 0.8074 AUC: 0.5174\n",
      "\n",
      "Epoch 98/99\n",
      "----------\n"
     ]
    },
    {
     "data": {
      "application/vnd.jupyter.widget-view+json": {
       "model_id": "d46d5eede6924e7a8a123619dc559e5f",
       "version_major": 2,
       "version_minor": 0
      },
      "text/plain": [
       "  0%|          | 0/342 [00:00<?, ?it/s]"
      ]
     },
     "metadata": {},
     "output_type": "display_data"
    },
    {
     "name": "stdout",
     "output_type": "stream",
     "text": [
      "train Loss: 0.2279 Acc: 0.9130 AUC: 0.7259\n"
     ]
    },
    {
     "data": {
      "application/vnd.jupyter.widget-view+json": {
       "model_id": "471d1971b4a44387a87b4ef6d42361c7",
       "version_major": 2,
       "version_minor": 0
      },
      "text/plain": [
       "  0%|          | 0/91 [00:00<?, ?it/s]"
      ]
     },
     "metadata": {},
     "output_type": "display_data"
    },
    {
     "name": "stdout",
     "output_type": "stream",
     "text": [
      "test Loss: 0.5145 Acc: 0.7987 AUC: 0.5238\n",
      "\n",
      "Epoch 99/99\n",
      "----------\n"
     ]
    },
    {
     "data": {
      "application/vnd.jupyter.widget-view+json": {
       "model_id": "c1435b7699c345c5b65989dfd59fbeca",
       "version_major": 2,
       "version_minor": 0
      },
      "text/plain": [
       "  0%|          | 0/342 [00:00<?, ?it/s]"
      ]
     },
     "metadata": {},
     "output_type": "display_data"
    },
    {
     "name": "stdout",
     "output_type": "stream",
     "text": [
      "train Loss: 0.2255 Acc: 0.9136 AUC: 0.7325\n"
     ]
    },
    {
     "data": {
      "application/vnd.jupyter.widget-view+json": {
       "model_id": "a6c18c5ef2734a6892bbe9adde60d996",
       "version_major": 2,
       "version_minor": 0
      },
      "text/plain": [
       "  0%|          | 0/91 [00:00<?, ?it/s]"
      ]
     },
     "metadata": {},
     "output_type": "display_data"
    },
    {
     "name": "stdout",
     "output_type": "stream",
     "text": [
      "test Loss: 0.4960 Acc: 0.8199 AUC: 0.5211\n",
      "\n",
      "Training complete in 0m 55s\n",
      "Best val Acc: 0.720583\n",
      "Best val AUC: 0.572147\n"
     ]
    }
   ],
   "source": [
    "model, train_loss, train_acc, val_loss, val_acc, train_auc, val_auc = train_model(model, criterion, optimizer, num_epochs=100)"
   ]
  },
  {
   "cell_type": "code",
   "execution_count": null,
   "metadata": {},
   "outputs": [],
   "source": []
  },
  {
   "cell_type": "code",
   "execution_count": null,
   "metadata": {},
   "outputs": [],
   "source": []
  },
  {
   "cell_type": "code",
   "execution_count": null,
   "metadata": {},
   "outputs": [],
   "source": []
  },
  {
   "cell_type": "code",
   "execution_count": null,
   "metadata": {},
   "outputs": [],
   "source": []
  },
  {
   "cell_type": "code",
   "execution_count": null,
   "metadata": {},
   "outputs": [],
   "source": []
  },
  {
   "cell_type": "code",
   "execution_count": null,
   "metadata": {},
   "outputs": [],
   "source": []
  },
  {
   "cell_type": "markdown",
   "metadata": {},
   "source": []
  },
  {
   "cell_type": "markdown",
   "metadata": {},
   "source": []
  },
  {
   "cell_type": "code",
   "execution_count": 38,
   "metadata": {},
   "outputs": [],
   "source": [
    "train_acc_values = []\n",
    "for index in range(len(train_acc)):\n",
    "    train_acc_values.append(train_acc[index].item())\n",
    "\n",
    "val_acc_values = []\n",
    "for index in range(len(val_acc)):\n",
    "    val_acc_values.append(val_acc[index].item())"
   ]
  },
  {
   "cell_type": "code",
   "execution_count": null,
   "metadata": {},
   "outputs": [],
   "source": []
  },
  {
   "cell_type": "code",
   "execution_count": null,
   "metadata": {},
   "outputs": [],
   "source": []
  },
  {
   "cell_type": "markdown",
   "metadata": {},
   "source": [
    "#### Grad cam on model"
   ]
  },
  {
   "cell_type": "code",
   "execution_count": 126,
   "metadata": {},
   "outputs": [],
   "source": [
    "from pytorch_grad_cam import GradCAM, GradCAMPlusPlus\n",
    "from pytorch_grad_cam.utils.model_targets import ClassifierOutputTarget\n",
    "from pytorch_grad_cam.utils.image import show_cam_on_image\n",
    "from torchvision.models import resnet18\n"
   ]
  },
  {
   "cell_type": "code",
   "execution_count": 129,
   "metadata": {},
   "outputs": [
    {
     "data": {
      "text/plain": [
       "<All keys matched successfully>"
      ]
     },
     "execution_count": 129,
     "metadata": {},
     "output_type": "execute_result"
    }
   ],
   "source": [
    "model_test = SiameseNetwork()\n",
    "model_test.load_state_dict(torch.load('/home/akansh-i2sc/Desktop/Study/detect-car-LR/notebooks/Exp_4/models/exp_4.pt'))"
   ]
  },
  {
   "cell_type": "code",
   "execution_count": 132,
   "metadata": {},
   "outputs": [
    {
     "name": "stdout",
     "output_type": "stream",
     "text": [
      "tensor([0, 0, 0, 0, 0, 0, 0, 1, 1, 0, 0, 1, 0, 0, 0, 0, 0, 0, 0, 0, 0, 0, 1, 0,\n",
      "        1, 1, 0, 0, 0, 0, 0, 1], device='cuda:0')\n",
      "tensor([0, 0, 0, 0, 0, 0, 0, 1, 1, 0, 0, 1, 0, 0, 0, 0, 0, 0, 0, 0, 0, 0, 1, 0,\n",
      "        0, 1, 0, 0, 0, 0, 0, 0], device='cuda:0')\n"
     ]
    }
   ],
   "source": [
    "input_1, input_2, classes = next(iter(test_loader)) \n",
    "input_1, input_2 = input_1.to(device), input_2.to(device)\n",
    "classes = classes.to(device)\n",
    "outputs = model(input_1, input_2)\n",
    "_, preds = torch.max(outputs, 1)\n",
    "print(preds)\n",
    "print(classes)"
   ]
  },
  {
   "cell_type": "code",
   "execution_count": 141,
   "metadata": {},
   "outputs": [
    {
     "name": "stdout",
     "output_type": "stream",
     "text": [
      "Predicted label: 0\n",
      "original class 0\n"
     ]
    },
    {
     "ename": "TypeError",
     "evalue": "SiameseNetwork.forward() missing 1 required positional argument: 'input2'",
     "output_type": "error",
     "traceback": [
      "\u001b[0;31m---------------------------------------------------------------------------\u001b[0m",
      "\u001b[0;31mTypeError\u001b[0m                                 Traceback (most recent call last)",
      "Cell \u001b[0;32mIn[141], line 10\u001b[0m\n\u001b[1;32m      8\u001b[0m target_layers \u001b[39m=\u001b[39m [model_test\u001b[39m.\u001b[39mresnet\u001b[39m.\u001b[39mlayer4[\u001b[39m-\u001b[39m\u001b[39m1\u001b[39m]]\n\u001b[1;32m      9\u001b[0m cam \u001b[39m=\u001b[39m GradCAMPlusPlus(model\u001b[39m=\u001b[39mmodel_test, target_layers\u001b[39m=\u001b[39mtarget_layers, use_cuda\u001b[39m=\u001b[39m\u001b[39mFalse\u001b[39;00m)\n\u001b[0;32m---> 10\u001b[0m grayscale_cam \u001b[39m=\u001b[39m cam(input_tensor\u001b[39m=\u001b[39minput_tensor)\n\u001b[1;32m     12\u001b[0m grayscale_cam \u001b[39m=\u001b[39m grayscale_cam[\u001b[39m0\u001b[39m, :]\n\u001b[1;32m     13\u001b[0m grayscale_cam \u001b[39m=\u001b[39m \u001b[39m1\u001b[39m\u001b[39m-\u001b[39mgrayscale_cam\n",
      "File \u001b[0;32m~/anaconda3/lib/python3.11/site-packages/pytorch_grad_cam/base_cam.py:188\u001b[0m, in \u001b[0;36mBaseCAM.__call__\u001b[0;34m(self, input_tensor, targets, aug_smooth, eigen_smooth)\u001b[0m\n\u001b[1;32m    184\u001b[0m \u001b[39mif\u001b[39;00m aug_smooth \u001b[39mis\u001b[39;00m \u001b[39mTrue\u001b[39;00m:\n\u001b[1;32m    185\u001b[0m     \u001b[39mreturn\u001b[39;00m \u001b[39mself\u001b[39m\u001b[39m.\u001b[39mforward_augmentation_smoothing(\n\u001b[1;32m    186\u001b[0m         input_tensor, targets, eigen_smooth)\n\u001b[0;32m--> 188\u001b[0m \u001b[39mreturn\u001b[39;00m \u001b[39mself\u001b[39m\u001b[39m.\u001b[39mforward(input_tensor,\n\u001b[1;32m    189\u001b[0m                     targets, eigen_smooth)\n",
      "File \u001b[0;32m~/anaconda3/lib/python3.11/site-packages/pytorch_grad_cam/base_cam.py:74\u001b[0m, in \u001b[0;36mBaseCAM.forward\u001b[0;34m(self, input_tensor, targets, eigen_smooth)\u001b[0m\n\u001b[1;32m     70\u001b[0m \u001b[39mif\u001b[39;00m \u001b[39mself\u001b[39m\u001b[39m.\u001b[39mcompute_input_gradient:\n\u001b[1;32m     71\u001b[0m     input_tensor \u001b[39m=\u001b[39m torch\u001b[39m.\u001b[39mautograd\u001b[39m.\u001b[39mVariable(input_tensor,\n\u001b[1;32m     72\u001b[0m                                            requires_grad\u001b[39m=\u001b[39m\u001b[39mTrue\u001b[39;00m)\n\u001b[0;32m---> 74\u001b[0m outputs \u001b[39m=\u001b[39m \u001b[39mself\u001b[39m\u001b[39m.\u001b[39mactivations_and_grads(input_tensor)\n\u001b[1;32m     75\u001b[0m \u001b[39mif\u001b[39;00m targets \u001b[39mis\u001b[39;00m \u001b[39mNone\u001b[39;00m:\n\u001b[1;32m     76\u001b[0m     target_categories \u001b[39m=\u001b[39m np\u001b[39m.\u001b[39margmax(outputs\u001b[39m.\u001b[39mcpu()\u001b[39m.\u001b[39mdata\u001b[39m.\u001b[39mnumpy(), axis\u001b[39m=\u001b[39m\u001b[39m-\u001b[39m\u001b[39m1\u001b[39m)\n",
      "File \u001b[0;32m~/anaconda3/lib/python3.11/site-packages/pytorch_grad_cam/activations_and_gradients.py:42\u001b[0m, in \u001b[0;36mActivationsAndGradients.__call__\u001b[0;34m(self, x)\u001b[0m\n\u001b[1;32m     40\u001b[0m \u001b[39mself\u001b[39m\u001b[39m.\u001b[39mgradients \u001b[39m=\u001b[39m []\n\u001b[1;32m     41\u001b[0m \u001b[39mself\u001b[39m\u001b[39m.\u001b[39mactivations \u001b[39m=\u001b[39m []\n\u001b[0;32m---> 42\u001b[0m \u001b[39mreturn\u001b[39;00m \u001b[39mself\u001b[39m\u001b[39m.\u001b[39mmodel(x)\n",
      "File \u001b[0;32m~/anaconda3/lib/python3.11/site-packages/torch/nn/modules/module.py:1501\u001b[0m, in \u001b[0;36mModule._call_impl\u001b[0;34m(self, *args, **kwargs)\u001b[0m\n\u001b[1;32m   1496\u001b[0m \u001b[39m# If we don't have any hooks, we want to skip the rest of the logic in\u001b[39;00m\n\u001b[1;32m   1497\u001b[0m \u001b[39m# this function, and just call forward.\u001b[39;00m\n\u001b[1;32m   1498\u001b[0m \u001b[39mif\u001b[39;00m \u001b[39mnot\u001b[39;00m (\u001b[39mself\u001b[39m\u001b[39m.\u001b[39m_backward_hooks \u001b[39mor\u001b[39;00m \u001b[39mself\u001b[39m\u001b[39m.\u001b[39m_backward_pre_hooks \u001b[39mor\u001b[39;00m \u001b[39mself\u001b[39m\u001b[39m.\u001b[39m_forward_hooks \u001b[39mor\u001b[39;00m \u001b[39mself\u001b[39m\u001b[39m.\u001b[39m_forward_pre_hooks\n\u001b[1;32m   1499\u001b[0m         \u001b[39mor\u001b[39;00m _global_backward_pre_hooks \u001b[39mor\u001b[39;00m _global_backward_hooks\n\u001b[1;32m   1500\u001b[0m         \u001b[39mor\u001b[39;00m _global_forward_hooks \u001b[39mor\u001b[39;00m _global_forward_pre_hooks):\n\u001b[0;32m-> 1501\u001b[0m     \u001b[39mreturn\u001b[39;00m forward_call(\u001b[39m*\u001b[39margs, \u001b[39m*\u001b[39m\u001b[39m*\u001b[39mkwargs)\n\u001b[1;32m   1502\u001b[0m \u001b[39m# Do not call functions when jit is used\u001b[39;00m\n\u001b[1;32m   1503\u001b[0m full_backward_hooks, non_full_backward_hooks \u001b[39m=\u001b[39m [], []\n",
      "\u001b[0;31mTypeError\u001b[0m: SiameseNetwork.forward() missing 1 required positional argument: 'input2'"
     ]
    }
   ],
   "source": [
    "idx = 3\n",
    "input_tensor = input_1[idx].unsqueeze(0), input_2[idx].unsqueeze(0)\n",
    "print(\"Predicted label:\", preds[idx].cpu().item())\n",
    "print(\"original class\", classes[idx].cpu().item())\n",
    "mean = np.array([0.485, 0.456, 0.406])\n",
    "std = np.array([0.229, 0.224, 0.225])\n",
    "\n",
    "target_layers = [model_test.resnet.layer4[-1]]\n",
    "cam = GradCAMPlusPlus(model=model_test, target_layers=target_layers, use_cuda=False)\n",
    "grayscale_cam = cam(input_tensor=input_tensor)\n",
    "\n",
    "grayscale_cam = grayscale_cam[0, :]\n",
    "grayscale_cam = 1-grayscale_cam\n",
    "\n",
    "inp = std * input_tensor.cpu().numpy().transpose((1, 2, 0)) + mean\n",
    "\n",
    "rgb_img = np.clip(inp, 0, 1)\n",
    "\n",
    "visualization = show_cam_on_image(rgb_img, grayscale_cam, use_rgb=False)\n",
    "plt.imshow(visualization)"
   ]
  },
  {
   "cell_type": "code",
   "execution_count": null,
   "metadata": {},
   "outputs": [],
   "source": []
  }
 ],
 "metadata": {
  "kernelspec": {
   "display_name": "base",
   "language": "python",
   "name": "python3"
  },
  "language_info": {
   "codemirror_mode": {
    "name": "ipython",
    "version": 3
   },
   "file_extension": ".py",
   "mimetype": "text/x-python",
   "name": "python",
   "nbconvert_exporter": "python",
   "pygments_lexer": "ipython3",
   "version": "3.11.4"
  },
  "orig_nbformat": 4
 },
 "nbformat": 4,
 "nbformat_minor": 2
}
