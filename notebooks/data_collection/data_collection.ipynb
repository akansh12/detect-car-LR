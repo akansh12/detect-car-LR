{
 "cells": [
  {
   "cell_type": "code",
   "execution_count": 1,
   "metadata": {},
   "outputs": [],
   "source": [
    "import os\n",
    "import requests\n",
    "import json\n",
    "import sys\n",
    "import time\n",
    "import pathlib  # Added pathlib\n",
    "from requests.auth import HTTPBasicAuth"
   ]
  },
  {
   "cell_type": "code",
   "execution_count": 5,
   "metadata": {},
   "outputs": [],
   "source": [
    "def read_geom(file_path):\n",
    "    with open(file_path) as f:\n",
    "        bbox = json.load(f)['features'][0]['geometry']\n",
    "        return bbox\n",
    "    \n",
    "def place_order(request, auth):\n",
    "    response = requests.post('https://api.planet.com/compute/ops/orders/v2', data=json.dumps(request), auth=auth, headers=headers)\n",
    "    print(response)\n",
    "    order_id = response.json()['id']\n",
    "    print(order_id)\n",
    "    order_url = 'https://api.planet.com/compute/ops/orders/v2' + '/' + order_id\n",
    "    return order_url\n",
    "\n",
    "def poll_for_success(order_url, auth):\n",
    "    while True:\n",
    "        r = requests.get(order_url, auth=(api_key, \"\"))\n",
    "        response = r.json()\n",
    "        state = response['state']\n",
    "        print(state)\n",
    "        end_states = ['success', 'failed', 'partial']\n",
    "        if state in end_states:\n",
    "            break\n",
    "        # time.sleep(10)\n",
    "\n",
    "\n",
    "def download_results(results, geojson_file, overwrite=False):\n",
    "    results_urls = [r['location'] for r in results]\n",
    "    results_names = [r['name'] for r in results]\n",
    "    print('{} items to download'.format(len(results_urls)))\n",
    "    \n",
    "    # Extract the parking lot number from the GeoJSON file name\n",
    "    parking_lot_number = os.path.splitext(geojson_file)[0]\n",
    "    \n",
    "    for url, name in zip(results_urls, results_names):\n",
    "        path = pathlib.Path(os.path.join('data', 'Ocean_City', parking_lot_number, name))\n",
    "        \n",
    "        if overwrite or not path.exists():\n",
    "            print('downloading {} to {}'.format(name, path))\n",
    "            path.parent.mkdir(parents=True, exist_ok=True)  # Create the directory if it doesn't exist\n",
    "            r = requests.get(url, allow_redirects=True)\n",
    "            open(path, 'wb').write(r.content)\n",
    "        else:\n",
    "            print('{} already exists, skipping {}'.format(path, name))\n"
   ]
  },
  {
   "cell_type": "code",
   "execution_count": 2,
   "metadata": {},
   "outputs": [],
   "source": [
    "geojson_folder = '/home/idisc02/Desktop/i2sc/detect-car-LR/data/Ocean_City'\n",
    "\n"
   ]
  },
  {
   "cell_type": "code",
   "execution_count": null,
   "metadata": {},
   "outputs": [],
   "source": []
  }
 ],
 "metadata": {
  "kernelspec": {
   "display_name": "Python 3",
   "language": "python",
   "name": "python3"
  },
  "language_info": {
   "codemirror_mode": {
    "name": "ipython",
    "version": 3
   },
   "file_extension": ".py",
   "mimetype": "text/x-python",
   "name": "python",
   "nbconvert_exporter": "python",
   "pygments_lexer": "ipython3",
   "version": "3.11.0rc1"
  },
  "orig_nbformat": 4
 },
 "nbformat": 4,
 "nbformat_minor": 2
}
