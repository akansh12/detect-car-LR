{
 "cells": [
  {
   "cell_type": "code",
   "execution_count": 3,
   "metadata": {},
   "outputs": [],
   "source": [
    "import os\n",
    "import torch\n",
    "\n",
    "from transformers import AutoImageProcessor, AutoModelForObjectDetection\n",
    "#from transformers import pipeline\n",
    "\n",
    "from PIL import Image\n",
    "import matplotlib.pyplot as plt\n",
    "import matplotlib.patches as patches\n",
    "import numpy as np\n",
    "import io\n",
    "from random import choice"
   ]
  },
  {
   "cell_type": "code",
   "execution_count": 4,
   "metadata": {},
   "outputs": [
    {
     "name": "stderr",
     "output_type": "stream",
     "text": [
      "Could not find image processor class in the image processor config or the model config. Loading based on pattern matching with the model's feature extractor configuration.\n",
      "The `max_size` parameter is deprecated and will be removed in v4.26. Please specify in `size['longest_edge'] instead`.\n"
     ]
    }
   ],
   "source": [
    "image_processor_tiny = AutoImageProcessor.from_pretrained(\"hustvl/yolos-tiny\")\n",
    "model_tiny = AutoModelForObjectDetection.from_pretrained(\"hustvl/yolos-tiny\")"
   ]
  },
  {
   "cell_type": "code",
   "execution_count": 5,
   "metadata": {},
   "outputs": [],
   "source": [
    "import gradio as gr\n",
    "\n",
    "\n",
    "COLORS = [\"#ff7f7f\", \"#ff7fbf\", \"#ff7fff\", \"#bf7fff\",\n",
    "            \"#7f7fff\", \"#7fbfff\", \"#7fffff\", \"#7fffbf\",\n",
    "            \"#7fff7f\", \"#bfff7f\", \"#ffff7f\", \"#ffbf7f\"]\n",
    "\n",
    "fdic = {\n",
    "    \"family\" : \"DejaVu Serif\",\n",
    "    \"style\" : \"normal\",\n",
    "    \"size\" : 18,\n",
    "    \"color\" : \"yellow\",\n",
    "    \"weight\" : \"bold\"\n",
    "}"
   ]
  },
  {
   "cell_type": "code",
   "execution_count": 6,
   "metadata": {},
   "outputs": [],
   "source": [
    "def get_figure(in_pil_img, in_results):\n",
    "    plt.figure(figsize=(16, 10))\n",
    "    plt.imshow(in_pil_img)\n",
    "    ax = plt.gca()\n",
    "\n",
    "    for score, label, box in zip(in_results[\"scores\"], in_results[\"labels\"], in_results[\"boxes\"]):\n",
    "        selected_color = choice(COLORS)\n",
    "\n",
    "        box_int = [i.item() for i in torch.round(box).to(torch.int32)]\n",
    "        x, y, w, h = box_int[0], box_int[1], box_int[2]-box_int[0], box_int[3]-box_int[1]\n",
    "        #x, y, w, h = torch.round(box[0]).item(), torch.round(box[1]).item(), torch.round(box[2]-box[0]).item(), torch.round(box[3]-box[1]).item()\n",
    "\n",
    "        ax.add_patch(plt.Rectangle((x, y), w, h, fill=False, color=selected_color, linewidth=3, alpha=0.8))\n",
    "        ax.text(x, y, f\"{model_tiny.config.id2label[label.item()]}: {round(score.item()*100, 2)}%\", fontdict=fdic, alpha=0.8)\n",
    "\n",
    "    plt.axis(\"off\")\n",
    "\n",
    "    # return plt.gcf()\n",
    "def infer(in_pil_img, in_model=\"yolos-tiny\", in_threshold=0.9):\n",
    "    target_sizes = torch.tensor([in_pil_img.size[::-1]])\n",
    "\n",
    "    if in_model == \"yolos-small\":\n",
    "        inputs = image_processor_small(images=in_pil_img, return_tensors=\"pt\")\n",
    "        outputs = model_small(**inputs)\n",
    "\n",
    "        # convert outputs (bounding boxes and class logits) to COCO API\n",
    "        results = image_processor_small.post_process_object_detection(outputs, threshold=in_threshold, target_sizes=target_sizes)[0]\n",
    "\n",
    "    else:\n",
    "        inputs = image_processor_tiny(images=in_pil_img, return_tensors=\"pt\")\n",
    "        outputs = model_tiny(**inputs)\n",
    "\n",
    "        # convert outputs (bounding boxes and class logits) to COCO API\n",
    "        results = image_processor_tiny.post_process_object_detection(outputs, threshold=in_threshold, target_sizes=target_sizes)[0]\n",
    "\n",
    "    # figure = get_figure(in_pil_img, results)\n",
    "\n",
    "    # buf = io.BytesIO()\n",
    "    # figure.savefig(buf, bbox_inches='tight')\n",
    "    # buf.seek(0)\n",
    "    # output_pil_img = Image.open(buf)\n",
    "\n",
    "    # return output_pil_img, results\n",
    "    return results\n",
    "\n",
    "def count_cars(img, threshold=0.6):\n",
    "    Results = []\n",
    "    for i in range(0,4):\n",
    "        for j in range(0,4):\n",
    "            img_arr = np.array(img)[180*i:180+180*i,320*j:320+320*j,:3]\n",
    "            img_new = Image.fromarray(img_arr)\n",
    "            results = infer(img_new, in_model=\"yolos-tiny\", in_threshold=threshold)\n",
    "            Results.append(results)\n",
    "    count = []\n",
    "    for in_results in Results:\n",
    "        count.extend([i.item() for i in in_results['labels'] if i==3 or i == 8])\n",
    "\n",
    "    return len(count)"
   ]
  },
  {
   "cell_type": "code",
   "execution_count": 7,
   "metadata": {},
   "outputs": [],
   "source": [
    "frame_path = \"/home/akansh-i2sc/Desktop/Project/detect-car-LR/data/Webcam/Frames/\"\n",
    "frame_list = os.listdir(frame_path)"
   ]
  },
  {
   "cell_type": "code",
   "execution_count": 8,
   "metadata": {},
   "outputs": [],
   "source": [
    "car_counts = []\n",
    "for i in frame_list:\n",
    "    car_counts.append(count_cars(Image.open(frame_path+i)))"
   ]
  },
  {
   "cell_type": "code",
   "execution_count": 9,
   "metadata": {},
   "outputs": [
    {
     "name": "stdout",
     "output_type": "stream",
     "text": [
      "[206, 188, 237, 198, 120, 11, 160, 201, 229, 176, 209, 205, 158, 171, 159, 191, 227, 216, 147, 216, 207, 68, 214, 163]\n"
     ]
    }
   ],
   "source": [
    "print(car_counts)"
   ]
  },
  {
   "cell_type": "code",
   "execution_count": 18,
   "metadata": {},
   "outputs": [],
   "source": [
    "import glob\n",
    "sat_img = glob.glob(\"/home/akansh-i2sc/Desktop/Project/detect-car-LR/data/Webcam/ocean_city/86714ade-e7df-45c0-99af-1e624224171e/PSScene/*.tif\")"
   ]
  },
  {
   "cell_type": "code",
   "execution_count": 19,
   "metadata": {},
   "outputs": [],
   "source": [
    "for i in sat_img:\n",
    "    i.split('/')[-1].split('.')[0]\n",
    "    break"
   ]
  },
  {
   "cell_type": "code",
   "execution_count": 24,
   "metadata": {},
   "outputs": [
    {
     "data": {
      "text/plain": [
       "'20230717'"
      ]
     },
     "execution_count": 24,
     "metadata": {},
     "output_type": "execute_result"
    }
   ],
   "source": [
    "i.split('/')[-1].split('.')[0][:8]\n"
   ]
  },
  {
   "cell_type": "code",
   "execution_count": 25,
   "metadata": {},
   "outputs": [
    {
     "data": {
      "text/plain": [
       "31"
      ]
     },
     "execution_count": 25,
     "metadata": {},
     "output_type": "execute_result"
    }
   ],
   "source": [
    "len(sat_img)"
   ]
  },
  {
   "cell_type": "code",
   "execution_count": 26,
   "metadata": {},
   "outputs": [
    {
     "data": {
      "text/plain": [
       "24"
      ]
     },
     "execution_count": 26,
     "metadata": {},
     "output_type": "execute_result"
    }
   ],
   "source": [
    "len(frame_list)"
   ]
  },
  {
   "cell_type": "code",
   "execution_count": 27,
   "metadata": {},
   "outputs": [
    {
     "data": {
      "text/plain": [
       "['/home/akansh-i2sc/Desktop/Project/detect-car-LR/data/Webcam/ocean_city/86714ade-e7df-45c0-99af-1e624224171e/PSScene/20230717_145254_79_2427_3B_Visual_clip.tif',\n",
       " '/home/akansh-i2sc/Desktop/Project/detect-car-LR/data/Webcam/ocean_city/86714ade-e7df-45c0-99af-1e624224171e/PSScene/20230713_145018_18_242b_3B_Visual_clip.tif',\n",
       " '/home/akansh-i2sc/Desktop/Project/detect-car-LR/data/Webcam/ocean_city/86714ade-e7df-45c0-99af-1e624224171e/PSScene/20230717_145425_32_24a1_3B_Visual_clip.tif',\n",
       " '/home/akansh-i2sc/Desktop/Project/detect-car-LR/data/Webcam/ocean_city/86714ade-e7df-45c0-99af-1e624224171e/PSScene/20230811_145834_14_24c0_3B_Visual_clip.tif',\n",
       " '/home/akansh-i2sc/Desktop/Project/detect-car-LR/data/Webcam/ocean_city/86714ade-e7df-45c0-99af-1e624224171e/PSScene/20230625_153014_28_2475_3B_Visual_clip.tif',\n",
       " '/home/akansh-i2sc/Desktop/Project/detect-car-LR/data/Webcam/ocean_city/86714ade-e7df-45c0-99af-1e624224171e/PSScene/20230723_145030_34_242b_3B_Visual_clip.tif',\n",
       " '/home/akansh-i2sc/Desktop/Project/detect-car-LR/data/Webcam/ocean_city/86714ade-e7df-45c0-99af-1e624224171e/PSScene/20230711_145225_04_245c_3B_Visual_clip.tif',\n",
       " '/home/akansh-i2sc/Desktop/Project/detect-car-LR/data/Webcam/ocean_city/86714ade-e7df-45c0-99af-1e624224171e/PSScene/20230726_153237_52_24a4_3B_Visual_clip.tif',\n",
       " '/home/akansh-i2sc/Desktop/Project/detect-car-LR/data/Webcam/ocean_city/86714ade-e7df-45c0-99af-1e624224171e/PSScene/20230713_145732_39_24c9_3B_Visual_clip.tif',\n",
       " '/home/akansh-i2sc/Desktop/Project/detect-car-LR/data/Webcam/ocean_city/86714ade-e7df-45c0-99af-1e624224171e/PSScene/20230914_145724_53_24d0_3B_Visual_clip.tif',\n",
       " '/home/akansh-i2sc/Desktop/Project/detect-car-LR/data/Webcam/ocean_city/86714ade-e7df-45c0-99af-1e624224171e/PSScene/20230730_144752_57_2455_3B_Visual_clip.tif',\n",
       " '/home/akansh-i2sc/Desktop/Project/detect-car-LR/data/Webcam/ocean_city/86714ade-e7df-45c0-99af-1e624224171e/PSScene/20230729_145758_73_24af_3B_Visual_clip.tif',\n",
       " '/home/akansh-i2sc/Desktop/Project/detect-car-LR/data/Webcam/ocean_city/86714ade-e7df-45c0-99af-1e624224171e/PSScene/20230713_145730_10_24c9_3B_Visual_clip.tif',\n",
       " '/home/akansh-i2sc/Desktop/Project/detect-car-LR/data/Webcam/ocean_city/86714ade-e7df-45c0-99af-1e624224171e/PSScene/20230717_145256_90_2427_3B_Visual_clip.tif',\n",
       " '/home/akansh-i2sc/Desktop/Project/detect-car-LR/data/Webcam/ocean_city/86714ade-e7df-45c0-99af-1e624224171e/PSScene/20230730_144750_46_2455_3B_Visual_clip.tif',\n",
       " '/home/akansh-i2sc/Desktop/Project/detect-car-LR/data/Webcam/ocean_city/86714ade-e7df-45c0-99af-1e624224171e/PSScene/20230712_145309_61_2440_3B_Visual_clip.tif',\n",
       " '/home/akansh-i2sc/Desktop/Project/detect-car-LR/data/Webcam/ocean_city/86714ade-e7df-45c0-99af-1e624224171e/PSScene/20230726_153235_37_24a4_3B_Visual_clip.tif',\n",
       " '/home/akansh-i2sc/Desktop/Project/detect-car-LR/data/Webcam/ocean_city/86714ade-e7df-45c0-99af-1e624224171e/PSScene/20230728_145809_19_24a1_3B_Visual_clip.tif',\n",
       " '/home/akansh-i2sc/Desktop/Project/detect-car-LR/data/Webcam/ocean_city/86714ade-e7df-45c0-99af-1e624224171e/PSScene/20230819_145653_97_24ba_3B_Visual_clip.tif',\n",
       " '/home/akansh-i2sc/Desktop/Project/detect-car-LR/data/Webcam/ocean_city/86714ade-e7df-45c0-99af-1e624224171e/PSScene/20230712_145307_50_2440_3B_Visual_clip.tif',\n",
       " '/home/akansh-i2sc/Desktop/Project/detect-car-LR/data/Webcam/ocean_city/86714ade-e7df-45c0-99af-1e624224171e/PSScene/20230727_145404_53_24b9_3B_Visual_clip.tif',\n",
       " '/home/akansh-i2sc/Desktop/Project/detect-car-LR/data/Webcam/ocean_city/86714ade-e7df-45c0-99af-1e624224171e/PSScene/20230901_153408_08_2488_3B_Visual_clip.tif',\n",
       " '/home/akansh-i2sc/Desktop/Project/detect-car-LR/data/Webcam/ocean_city/86714ade-e7df-45c0-99af-1e624224171e/PSScene/20230802_144819_55_242b_3B_Visual_clip.tif',\n",
       " '/home/akansh-i2sc/Desktop/Project/detect-car-LR/data/Webcam/ocean_city/86714ade-e7df-45c0-99af-1e624224171e/PSScene/20230809_153316_50_227a_3B_Visual_clip.tif',\n",
       " '/home/akansh-i2sc/Desktop/Project/detect-car-LR/data/Webcam/ocean_city/86714ade-e7df-45c0-99af-1e624224171e/PSScene/20230816_153300_08_247b_3B_Visual_clip.tif',\n",
       " '/home/akansh-i2sc/Desktop/Project/detect-car-LR/data/Webcam/ocean_city/86714ade-e7df-45c0-99af-1e624224171e/PSScene/20230802_144817_46_242b_3B_Visual_clip.tif',\n",
       " '/home/akansh-i2sc/Desktop/Project/detect-car-LR/data/Webcam/ocean_city/86714ade-e7df-45c0-99af-1e624224171e/PSScene/20230813_145624_55_241d_3B_Visual_clip.tif',\n",
       " '/home/akansh-i2sc/Desktop/Project/detect-car-LR/data/Webcam/ocean_city/86714ade-e7df-45c0-99af-1e624224171e/PSScene/20230902_145525_89_2465_3B_Visual_clip.tif',\n",
       " '/home/akansh-i2sc/Desktop/Project/detect-car-LR/data/Webcam/ocean_city/86714ade-e7df-45c0-99af-1e624224171e/PSScene/20230630_145408_37_24d0_3B_Visual_clip.tif',\n",
       " '/home/akansh-i2sc/Desktop/Project/detect-car-LR/data/Webcam/ocean_city/86714ade-e7df-45c0-99af-1e624224171e/PSScene/20230729_145801_01_24af_3B_Visual_clip.tif',\n",
       " '/home/akansh-i2sc/Desktop/Project/detect-car-LR/data/Webcam/ocean_city/86714ade-e7df-45c0-99af-1e624224171e/PSScene/20230917_153125_43_2251_3B_Visual_clip.tif']"
      ]
     },
     "execution_count": 27,
     "metadata": {},
     "output_type": "execute_result"
    }
   ],
   "source": [
    "sat_img"
   ]
  },
  {
   "cell_type": "code",
   "execution_count": null,
   "metadata": {},
   "outputs": [],
   "source": []
  }
 ],
 "metadata": {
  "kernelspec": {
   "display_name": "base",
   "language": "python",
   "name": "python3"
  },
  "language_info": {
   "codemirror_mode": {
    "name": "ipython",
    "version": 3
   },
   "file_extension": ".py",
   "mimetype": "text/x-python",
   "name": "python",
   "nbconvert_exporter": "python",
   "pygments_lexer": "ipython3",
   "version": "3.11.4"
  },
  "orig_nbformat": 4
 },
 "nbformat": 4,
 "nbformat_minor": 2
}
