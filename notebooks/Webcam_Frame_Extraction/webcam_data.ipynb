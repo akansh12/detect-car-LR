{
 "cells": [
  {
   "cell_type": "code",
   "execution_count": 4,
   "metadata": {},
   "outputs": [
    {
     "name": "stdout",
     "output_type": "stream",
     "text": [
      "--2023-09-12 12:16:45--  https://t1.ipcamlive.com/timelapses/5aec8d9905b9a/2023-08-27/video.mp4\n",
      "Resolving t1.ipcamlive.com (t1.ipcamlive.com)... 173.198.196.110\n",
      "Connecting to t1.ipcamlive.com (t1.ipcamlive.com)|173.198.196.110|:443... connected.\n",
      "WARNING: cannot verify t1.ipcamlive.com's certificate, issued by ‘CN=Sectigo RSA Domain Validation Secure Server CA,O=Sectigo Limited,L=Salford,ST=Greater Manchester,C=GB’:\n",
      "  Unable to locally verify the issuer's authority.\n",
      "HTTP request sent, awaiting response... 200 OK\n",
      "Length: 35382016 (34M) [video/mp4]\n",
      "Saving to: ‘video.mp4.1’\n",
      "\n",
      "video.mp4.1         100%[===================>]  33.74M   261KB/s    in 86s     \n",
      "\n",
      "2023-09-12 12:18:11 (404 KB/s) - ‘video.mp4.1’ saved [35382016/35382016]\n",
      "\n"
     ]
    }
   ],
   "source": [
    "! wget --no-check-certificate \"https://t1.ipcamlive.com/timelapses/5aec8d9905b9a/2023-08-27/video.mp4\""
   ]
  },
  {
   "cell_type": "markdown",
   "metadata": {},
   "source": [
    "Frame Extraction from the TimeLapse Video (Ocean City Inlet Parking Lot)"
   ]
  },
  {
   "cell_type": "code",
   "execution_count": 4,
   "metadata": {},
   "outputs": [
    {
     "name": "stdout",
     "output_type": "stream",
     "text": [
      "Frame extracted at 0:52.\n"
     ]
    }
   ],
   "source": [
    "import cv2\n",
    "import datetime\n",
    "\n",
    "# Function to extract the frame closest to the target time\n",
    "def extract_frame_by_time(video_file, target_time, output_file):\n",
    "    cap = cv2.VideoCapture(video_file)\n",
    "\n",
    "    if not cap.isOpened():\n",
    "        print(\"Error: Could not open video file.\")\n",
    "        return\n",
    "\n",
    "    video_start_time = datetime.datetime.strptime(\"0:11\", \"%H:%M\")\n",
    "    target_datetime = datetime.datetime.strptime(target_time, \"%H:%M\")\n",
    "\n",
    "    # Calculate the target time with the offset time\n",
    "    target_datetime = target_datetime + datetime.timedelta(hours=video_start_time.hour, minutes=video_start_time.minute)\n",
    "\n",
    "    # Calculate the total number of frames in the video\n",
    "    total_frames = cap.get(cv2.CAP_PROP_FRAME_COUNT)\n",
    "\n",
    "    # Calculate the target frame number\n",
    "    target_frame_number = (target_datetime - video_start_time).total_seconds() * total_frames / (24 * 3600)\n",
    "\n",
    "    cap.set(cv2.CAP_PROP_POS_FRAMES, target_frame_number)\n",
    "\n",
    "    ret, frame = cap.read()\n",
    "\n",
    "    if ret:\n",
    "        cv2.imwrite(output_file, frame)\n",
    "        print(f\"Frame extracted at {target_time}.\")\n",
    "    else:\n",
    "        print(\"No matching frame found within the video.\")\n",
    "\n",
    "    cap.release()\n",
    "    cv2.destroyAllWindows()\n",
    "\n",
    "if __name__ == \"__main__\":\n",
    "    video_file = \"video.mp4\"  # Replace with your video file path\n",
    "    target_time = \"0:52\"  # Replace with the desired target time in 24-hour format\n",
    "    output_file = \"output_frame(0:52).jpg\"  # Replace with the desired output file path\n",
    "\n",
    "    extract_frame_by_time(video_file, target_time, output_file)\n"
   ]
  },
  {
   "cell_type": "code",
   "execution_count": null,
   "metadata": {},
   "outputs": [],
   "source": []
  }
 ],
 "metadata": {
  "kernelspec": {
   "display_name": "Python 3",
   "language": "python",
   "name": "python3"
  },
  "language_info": {
   "codemirror_mode": {
    "name": "ipython",
    "version": 3
   },
   "file_extension": ".py",
   "mimetype": "text/x-python",
   "name": "python",
   "nbconvert_exporter": "python",
   "pygments_lexer": "ipython3",
   "version": "3.9.6"
  },
  "orig_nbformat": 4
 },
 "nbformat": 4,
 "nbformat_minor": 2
}
