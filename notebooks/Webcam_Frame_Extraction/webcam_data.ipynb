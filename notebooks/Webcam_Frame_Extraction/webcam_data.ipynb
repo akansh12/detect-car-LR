{
 "cells": [
  {
   "cell_type": "code",
   "execution_count": 30,
   "metadata": {},
   "outputs": [
    {
     "name": "stdout",
     "output_type": "stream",
     "text": [
      "--2023-09-18 12:37:01--  https://t1.ipcamlive.com/timelapses/5aec8d9905b9a/2023-07-17/video.mp4\n",
      "Resolving t1.ipcamlive.com (t1.ipcamlive.com)... 173.198.196.110\n",
      "Connecting to t1.ipcamlive.com (t1.ipcamlive.com)|173.198.196.110|:443... connected.\n",
      "WARNING: cannot verify t1.ipcamlive.com's certificate, issued by ‘CN=Sectigo RSA Domain Validation Secure Server CA,O=Sectigo Limited,L=Salford,ST=Greater Manchester,C=GB’:\n",
      "  Unable to locally verify the issuer's authority.\n",
      "HTTP request sent, awaiting response... 200 OK\n",
      "Length: 35243285 (34M) [video/mp4]\n",
      "Saving to: ‘video.mp4’\n",
      "\n",
      "video.mp4           100%[===================>]  33,61M  8,94MB/s    in 4,3s    \n",
      "\n",
      "2023-09-18 12:37:06 (7,78 MB/s) - ‘video.mp4’ saved [35243285/35243285]\n",
      "\n"
     ]
    }
   ],
   "source": [
    "! wget --no-check-certificate \"https://t1.ipcamlive.com/timelapses/5aec8d9905b9a/2023-07-17/video.mp4\""
   ]
  },
  {
   "cell_type": "markdown",
   "metadata": {},
   "source": [
    "Frame Extraction from the TimeLapse Video (Ocean City Inlet Parking Lot)"
   ]
  },
  {
   "cell_type": "code",
   "execution_count": 1,
   "metadata": {},
   "outputs": [
    {
     "name": "stdout",
     "output_type": "stream",
     "text": [
      "Frame extracted at 20:36.\n"
     ]
    }
   ],
   "source": [
    "import cv2\n",
    "import datetime\n",
    "\n",
    "# Function to extract the frame closest to the target time\n",
    "def extract_frame_by_time(video_file, target_time, output_file, video_start_time, video_end_time):\n",
    "    cap = cv2.VideoCapture(video_file)\n",
    "\n",
    "    if not cap.isOpened():\n",
    "        print(\"Error: Could not open video file.\")\n",
    "        return\n",
    "\n",
    "    # Convert the video start time to a datetime object\n",
    "    video_start_time = datetime.datetime.strptime(video_start_time, \"%H:%M\")\n",
    "    video_end_time = datetime.datetime.strptime(video_end_time, \"%H:%M\")\n",
    "\n",
    "    # Calculate the target time with the offset time\n",
    "    target_datetime = datetime.datetime.strptime(target_time, \"%H:%M\")\n",
    "\n",
    "    # Calculate the total number of frames in the video\n",
    "    total_frames = cap.get(cv2.CAP_PROP_FRAME_COUNT)\n",
    "\n",
    "    # Calculate the video duration in seconds\n",
    "    video_duration_seconds = (video_end_time - video_start_time).total_seconds()\n",
    "\n",
    "    # Calculate the frame rate (frames per second)\n",
    "    frame_rate = total_frames / video_duration_seconds\n",
    "\n",
    "    # Calculate the target frame number based on the actual start time\n",
    "    target_frame_number = int((target_datetime - video_start_time).total_seconds() * frame_rate)\n",
    "\n",
    "    # Check if the target frame number is within the bounds of the video\n",
    "    if target_frame_number < 0 or target_frame_number >= total_frames:\n",
    "        print(\"No matching frame found within the video.\")\n",
    "        return\n",
    "\n",
    "    cap.set(cv2.CAP_PROP_POS_FRAMES, target_frame_number)\n",
    "\n",
    "    ret, frame = cap.read()\n",
    "\n",
    "    if ret:\n",
    "        cv2.imwrite(output_file, frame)\n",
    "        print(f\"Frame extracted at {target_time}.\")\n",
    "    else:\n",
    "        print(\"No matching frame found within the video.\")\n",
    "\n",
    "    cap.release()\n",
    "    cv2.destroyAllWindows()\n",
    "\n",
    "if __name__ == \"__main__\":\n",
    "    video_file = \"video_07_17.mp4\"  # Replace with your video file path\n",
    "    target_time = \"20:36\"  # Replace with the desired target time in 24-hour format\n",
    "    output_file = \"output_frame1.jpg\"  # Replace with the desired output file path\n",
    "    video_start_time = \"00:10\"  # Replace with the video start time in 24-hour format\n",
    "    video_end_time = \"22:23\"  # Replace with the video end time in 24-hour format\n",
    "\n",
    "    extract_frame_by_time(video_file, target_time, output_file, video_start_time, video_end_time)\n",
    "\n"
   ]
  },
  {
   "cell_type": "code",
   "execution_count": null,
   "metadata": {},
   "outputs": [],
   "source": []
  },
  {
   "cell_type": "code",
   "execution_count": null,
   "metadata": {},
   "outputs": [],
   "source": []
  },
  {
   "cell_type": "code",
   "execution_count": null,
   "metadata": {},
   "outputs": [],
   "source": [
    "# import cv2\n",
    "# import datetime\n",
    "\n",
    "# # Function to extract the frame closest to the target time\n",
    "# def extract_frame_by_time(video_file, target_time, output_file, video_start_time):\n",
    "#     cap = cv2.VideoCapture(video_file)\n",
    "\n",
    "#     if not cap.isOpened():\n",
    "#         print(\"Error: Could not open video file.\")\n",
    "#         return\n",
    "\n",
    "#     # Convert the video start time to a datetime object\n",
    "#     video_start_time = datetime.datetime.strptime(video_start_time, \"%H:%M\")\n",
    "\n",
    "#     # Calculate the target time with the offset time\n",
    "#     target_datetime = datetime.datetime.strptime(target_time, \"%H:%M\")\n",
    "#     target_datetime = target_datetime + datetime.timedelta(hours=video_start_time.hour, minutes=video_start_time.minute)\n",
    "\n",
    "#     # Calculate the total number of frames in the video\n",
    "#     total_frames = cap.get(cv2.CAP_PROP_FRAME_COUNT)\n",
    "\n",
    "#     # Calculate the target frame number\n",
    "#     target_frame_number = (target_datetime - video_start_time).total_seconds() * total_frames / (24 * 3600)\n",
    "\n",
    "#     cap.set(cv2.CAP_PROP_POS_FRAMES, target_frame_number)\n",
    "\n",
    "#     ret, frame = cap.read()\n",
    "\n",
    "#     if ret:\n",
    "#         cv2.imwrite(output_file, frame)\n",
    "#         print(f\"Frame extracted at {target_time}.\")\n",
    "#     else:\n",
    "#         print(\"No matching frame found within the video.\")\n",
    "\n",
    "#     cap.release()\n",
    "#     cv2.destroyAllWindows()\n",
    "\n",
    "# if __name__ == \"__main__\":\n",
    "#     video_file = \"video_08_27.mp4\"  # Replace with your video file path\n",
    "#     target_time = \"13:55\"  # Replace with the desired target time in 24-hour format\n",
    "#     output_file = \"output_frame.jpg\"  # Replace with the desired output file path\n",
    "#     video_start_time = \"00:11\"  # Replace with the video start time in 24-hour format\n",
    "\n",
    "#     extract_frame_by_time(video_file, target_time, output_file, video_start_time)\n"
   ]
  },
  {
   "cell_type": "code",
   "execution_count": null,
   "metadata": {},
   "outputs": [],
   "source": []
  },
  {
   "cell_type": "code",
   "execution_count": null,
   "metadata": {},
   "outputs": [],
   "source": []
  },
  {
   "cell_type": "code",
   "execution_count": null,
   "metadata": {},
   "outputs": [],
   "source": []
  },
  {
   "cell_type": "code",
   "execution_count": null,
   "metadata": {},
   "outputs": [],
   "source": []
  }
 ],
 "metadata": {
  "kernelspec": {
   "display_name": "Python 3",
   "language": "python",
   "name": "python3"
  },
  "language_info": {
   "codemirror_mode": {
    "name": "ipython",
    "version": 3
   },
   "file_extension": ".py",
   "mimetype": "text/x-python",
   "name": "python",
   "nbconvert_exporter": "python",
   "pygments_lexer": "ipython3",
   "version": "3.10.12"
  },
  "orig_nbformat": 4
 },
 "nbformat": 4,
 "nbformat_minor": 2
}
